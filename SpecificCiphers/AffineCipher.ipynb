{
 "cells": [
  {
   "cell_type": "markdown",
   "metadata": {},
   "source": [
    "# Code Breaking Part : Affine Cipher\n",
    "\n",
    "The Affine cipher is a monoalphabetic substitution cipher \n",
    "\n",
    "The Affine cipher encrypts messages using a mathematical key. \n",
    "\n",
    "- Let the length of the alphabet be $\\ell$\n",
    "- The two numbers in the key are $a$ and $b$, where:\n",
    "$$1 \\leq a \\leq \\ell  \\qquad 1 \\leq b \\leq \\ell $$\n",
    "- $a$ should be relativley prime to $\\ell$ (That is $a$ and $\\ell$ should not share any factors)\n",
    "eg) if $\\ell=26$ then $a$ should not have any factors of $2$ or $13$\n",
    "\n",
    "$$ a \\in \\{1,3,5,7,9,11,15,17,19,21,23,25 \\} $$\n",
    "$$ b \\in \\{0,1,2,3,4,5,6,7,8,9,10,11,12,13,14,15,16,17,18,19,20,21,22,23,24,25 \\} $$\n",
    "\n",
    "Let $p$ be the position of the plain letter in the plain alphaabet. ie for English, these are the values of $p$\n",
    "\n",
    "$p$ | 0 | 1 | 2 | 3 | 4 | 5 | 6 | 7 | 8 | 9 | 10| 11| 12 |13 |14 |15 |16| 17|18 |19 |20 |21 |22 |23 |24| 25|\n",
    "---| --- | --- | --- | --- | --- | --- | --- | --- | --- | --- | ---| ---| --- |--- |--- |--- |---| ---|--- |--- |--- |--- |--- |--- |---| ---|\n",
    "Plain Alphabet| a |b | c |d | e | f | g | h | i | j | k | l | m |n |o |p |q |r |s |t |u |v |w |x |y |z | \n",
    "\n",
    "**Encryption Function**\n",
    "$$ c = ap + b (\\mod m) $$\n",
    "\n",
    "**Decryption Function**\n",
    "$$ p = a^{-1}(c - b) (\\mod \\ell) $$\n",
    "\n",
    "... where $a a^{-1} = 1 (\\mod \\ell)$"
   ]
  },
  {
   "cell_type": "code",
   "execution_count": 1,
   "metadata": {},
   "outputs": [],
   "source": [
    "from Resources.Functions import *"
   ]
  },
  {
   "cell_type": "code",
   "execution_count": 57,
   "metadata": {},
   "outputs": [],
   "source": [
    "def findFactors(x):\n",
    "    '''A function to find all of the factors of a given number'''\n",
    "    factors = []\n",
    "    for i in range(1, x + 1):\n",
    "        if x % i == 0:\n",
    "            factors.append(i)\n",
    "    return factors\n",
    "\n",
    "\n",
    "def findAffineKeys(plainAlphabet = englishAlphabet):\n",
    "\n",
    "    b = list(np.arange(0,len(plainAlphabet)))\n",
    "\n",
    "    factorsAlphabetLength = findFactors(len(plainAlphabet))\n",
    "\n",
    "    a = []\n",
    "    for number in np.arange(1,len(plainAlphabet)):\n",
    "        factorsNumber = findFactors(number)\n",
    "        inBoth = [i for i in factorsNumber if i in factorsAlphabetLength and i !=1]\n",
    "        if len(inBoth) == 0:\n",
    "            a.append(number)\n",
    "\n",
    "    return a, b"
   ]
  },
  {
   "cell_type": "markdown",
   "metadata": {},
   "source": [
    "## Step 1) Encrypt the message"
   ]
  },
  {
   "cell_type": "code",
   "execution_count": 7,
   "metadata": {},
   "outputs": [],
   "source": [
    "def Incrypt_Affine( plainText, a, b, plainAlphabet=englishAlphabet ):\n",
    "\n",
    "    key = {}\n",
    "    for p in range(len(plainAlphabet)):\n",
    "        c = (a*p + 7)%len(plainAlphabet)\n",
    "        key[plainAlphabet[p].upper()] = plainAlphabet[c].upper()\n",
    "\n",
    "    cipherText = ''\n",
    "    for character in plainText:\n",
    "        if character.isalpha():\n",
    "            cipherText = cipherText + key[character.upper()]\n",
    "        else:\n",
    "            cipherText = cipherText + character\n",
    "            \n",
    "    return cipherText"
   ]
  },
  {
   "cell_type": "code",
   "execution_count": 16,
   "metadata": {},
   "outputs": [
    {
     "data": {
      "text/plain": [
       "'QTWTUQ MCT THJM VHOO XW MCT NHJMOT'"
      ]
     },
     "execution_count": 16,
     "metadata": {},
     "output_type": "execute_result"
    }
   ],
   "source": [
    "Incrypt_Affine('defend the east wall of the castle', 3, 7)"
   ]
  },
  {
   "cell_type": "markdown",
   "metadata": {},
   "source": [
    "## Step 2) Decrypt the message"
   ]
  },
  {
   "cell_type": "code",
   "execution_count": 13,
   "metadata": {},
   "outputs": [],
   "source": [
    "def Decrypt_Affine( cipherText, a, b, plainAlphabet=englishAlphabet ):\n",
    "\n",
    "    key = {}\n",
    "    for c in range(len(plainAlphabet)):\n",
    "        a_invrt = pow(a,-1,len(plainAlphabet))\n",
    "        p = a_invrt * (c-b) % len(plainAlphabet)\n",
    "        key[plainAlphabet[c].upper()] = plainAlphabet[p].upper()\n",
    "\n",
    "    plainText = ''\n",
    "    for character in cipherText:\n",
    "        if character.isalpha():\n",
    "            plainText += key[character.upper()]\n",
    "        else:\n",
    "            plainText += character\n",
    "            \n",
    "    return plainText"
   ]
  },
  {
   "cell_type": "code",
   "execution_count": 18,
   "metadata": {},
   "outputs": [
    {
     "data": {
      "text/plain": [
       "'DEFEND THE EAST WALL OF THE CASTLE'"
      ]
     },
     "execution_count": 18,
     "metadata": {},
     "output_type": "execute_result"
    }
   ],
   "source": [
    "Decrypt_Affine('QTWTUQ MCT THJM VHOO XW MCT NHJMOT', 3, 7)"
   ]
  },
  {
   "cell_type": "markdown",
   "metadata": {},
   "source": [
    "## Step 3) Break an Affine Cipher\n",
    "\n",
    "There are a limited number of possible keys that can be used to encrypt a message using an Affine Cipher \n",
    "\n",
    "For english: $12*26 = 312$ possible keys\n",
    "\n",
    "In order to break this encryption method all we need to do is check every possible key and see how close to english the resulting texct is "
   ]
  },
  {
   "cell_type": "code",
   "execution_count": 41,
   "metadata": {},
   "outputs": [],
   "source": [
    "def break_Affine( cipherText, quadgramsFreq=quadgramFreq_English, plainAlphabet=englishAlphabet ):\n",
    "    a, b = findAffineKeys(plainAlphabet)\n",
    "    allKeys = [(int(x),int(y)) for x in a for y in b]\n",
    "    \n",
    "    bestKey = []\n",
    "    bestScore = -99e9\n",
    "    for key in allKeys:\n",
    "        decryptTest = Decrypt_Affine(cipherText, key[0],key[1], plainAlphabet)\n",
    "        score = quadgramFitness(decryptTest, quadgramsFreq)\n",
    "        if score > bestScore:\n",
    "            bestKey = key\n",
    "            bestScore = score\n",
    "    \n",
    "    return bestKey, Decrypt_Affine(cipherText,bestKey[0],bestKey[1], plainAlphabet)\n",
    "    \n",
    "    "
   ]
  },
  {
   "cell_type": "code",
   "execution_count": 42,
   "metadata": {},
   "outputs": [
    {
     "data": {
      "text/plain": [
       "((17, 5),\n",
       " 'THECIPHERISLESSSECURETHANASUBSTITUTIONCIPHERASITISVULNERABLETOALLOFTHEATTACKSTHATWORKAGAINSTSUBSTITUTIONCIPHERSINADDITIONTOOTHERATTACKS')"
      ]
     },
     "execution_count": 42,
     "metadata": {},
     "output_type": "execute_result"
    }
   ],
   "source": [
    "break_Affine(\"QUVNLAUVILZKVZZZVNHIVQUFSFZHWZQLQHQLJSNLAUVIFZLQLZYHKSVIFWKVQJFKKJMQUVFQQFNTZQUFQPJITFDFLSZQZHWZQLQHQLJSNLAUVIZLSFEELQLJSQJJQUVIFQQFNTZ\")"
   ]
  },
  {
   "cell_type": "code",
   "execution_count": null,
   "metadata": {},
   "outputs": [],
   "source": []
  }
 ],
 "metadata": {
  "kernelspec": {
   "display_name": "Python 3 (ipykernel)",
   "language": "python",
   "name": "python3"
  },
  "language_info": {
   "codemirror_mode": {
    "name": "ipython",
    "version": 3
   },
   "file_extension": ".py",
   "mimetype": "text/x-python",
   "name": "python",
   "nbconvert_exporter": "python",
   "pygments_lexer": "ipython3",
   "version": "3.8.11"
  }
 },
 "nbformat": 4,
 "nbformat_minor": 4
}
