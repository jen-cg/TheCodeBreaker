{
 "cells": [
  {
   "cell_type": "markdown",
   "metadata": {},
   "source": [
    "# Code Breaking Part : Baconian Cipher\n",
    "\n",
    "Each letter in the plain alphabet is replaced by a sequence of 5 characters (5-bit binary encoding)\n",
    "\n",
    "\n",
    "Plain Alphabet| a |b | c |d | e | f | g | h | i , j | k | l | m |n |o |p |q |r |s |t |u , v |w |x |y |z | \n",
    "---| --- | --- | --- | --- | --- | --- | --- | --- | --- | --- | ---| ---| --- |--- |--- |--- |---|--- |--- |--- |--- |--- |---| ---|\n",
    "Cipher Alphabet |aaaaa|aaaab|aaaba|aabaa|aaabb|aabab|aabba|aabbb |abaaa|abaab|ababa|ababb|abbaa|abbab|abbba|abbbb|baaaa|baaab|baaba|babbb|babaa|babab|babba|babbb'\n",
    "\n",
    "Of course, any two characters can be used in the 5-bit binary encoding.  It does not have to be a and b\n",
    "\n",
    "The classic Baconian cipher has i and j and u and v encoded in the same way which means that the decrypter may have to guess which letter is the right one to use"
   ]
  },
  {
   "cell_type": "code",
   "execution_count": 1,
   "metadata": {},
   "outputs": [],
   "source": [
    "from Resources.Functions import *"
   ]
  },
  {
   "cell_type": "code",
   "execution_count": 7,
   "metadata": {},
   "outputs": [],
   "source": [
    "AB_ClassicBaconianAlphabet = ['aaaaa', 'aaaab', 'aaaba', 'aaabb','aabaa', 'aabab', 'aabba', 'aabbb', 'abaaa','abaaa', 'abaab', 'ababa', 'ababb', 'abbaa', 'abbab', 'abbba', 'abbbb', 'baaaa', 'baaab', 'baaba', 'babbb', 'babbb', 'babaa', 'babab', 'babba', 'babbb']\n",
    "\n",
    "def MakeClassicBaconianAlphabet(character1, character2):\n",
    "    custom_BaconianAlphabet = []\n",
    "    for item in AB_ClassicBaconianAlphabet:\n",
    "        newItem = ''\n",
    "        for character in list(item):\n",
    "            if character == 'a':\n",
    "                newItem += character1\n",
    "            elif character == 'b':\n",
    "                newItem += character2\n",
    "        custom_BaconianAlphabet.append(newItem)          \n",
    "    return custom_BaconianAlphabet"
   ]
  },
  {
   "cell_type": "markdown",
   "metadata": {},
   "source": [
    "## 1) Encrypt a message"
   ]
  },
  {
   "cell_type": "code",
   "execution_count": 8,
   "metadata": {},
   "outputs": [],
   "source": [
    "def Incrypt_ClassicBaconian(plainText,character1='a',character2='b', plainAlphabet=englishAlphabet):\n",
    "    \n",
    "    BaconianAlphabet = MakeClassicBaconianAlphabet(str(character1), str(character2))\n",
    "    \n",
    "    key = {}\n",
    "    for i in range(len(plainAlphabet)):\n",
    "        key[plainAlphabet[i].upper()] = BaconianAlphabet[i].upper()\n",
    "\n",
    "    cipherText = ''\n",
    "    for character in plainText:\n",
    "        if character.isalpha():\n",
    "            cipherText = cipherText + key[character.upper()]\n",
    "        else:\n",
    "            cipherText = cipherText + character\n",
    "            \n",
    "    return cipherText"
   ]
  },
  {
   "cell_type": "code",
   "execution_count": 9,
   "metadata": {},
   "outputs": [
    {
     "data": {
      "text/plain": [
       "'00111001000101001010011011010001101100000101000011'"
      ]
     },
     "execution_count": 9,
     "metadata": {},
     "output_type": "execute_result"
    }
   ],
   "source": [
    "cipherText = Incrypt_ClassicBaconian('HelloWorld','0','1')\n",
    "cipherText"
   ]
  },
  {
   "cell_type": "markdown",
   "metadata": {},
   "source": [
    "## 2) Decrypt a message"
   ]
  },
  {
   "cell_type": "code",
   "execution_count": 10,
   "metadata": {},
   "outputs": [],
   "source": [
    "def Decrypt_ClassicBaconian(cipherText,character1='a',character2='b', plainAlphabet=englishAlphabet):\n",
    "    \n",
    "    BaconianAlphabet = MakeClassicBaconianAlphabet(str(character1), str(character2))\n",
    "    \n",
    "    key = {}\n",
    "    for i in range(len(plainAlphabet)):\n",
    "        key[ BaconianAlphabet[i].upper()] = plainAlphabet[i].upper()\n",
    "\n",
    "    plainText = ''\n",
    "    for i in range(0,len(cipherText), 5):\n",
    "        if cipherText[i:i+5] not in key.keys():\n",
    "#             print('Error! This key does not work')\n",
    "            return\n",
    "        plainText += key[cipherText[i:i+5]]\n",
    "      \n",
    "    return plainText"
   ]
  },
  {
   "cell_type": "code",
   "execution_count": 12,
   "metadata": {},
   "outputs": [
    {
     "data": {
      "text/plain": [
       "'HELLOWORLD'"
      ]
     },
     "execution_count": 12,
     "metadata": {},
     "output_type": "execute_result"
    }
   ],
   "source": [
    "Decrypt_ClassicBaconian('00111001000101001010011011010001101100000101000011','0','1')"
   ]
  },
  {
   "cell_type": "markdown",
   "metadata": {},
   "source": [
    "## 3)  Break the Baconian Cipher\n",
    "\n",
    "The Baconian cipher seems to have the misfortune of being easy to identify. This is because the encrypted message will only have two characters. Additionaly, if the message does not contain any whitespace or punctuation, then the five-bit encoding ensures that the length of the encrypted message will have to be a multiple of five \n",
    "\n",
    "If we are sure that the message has been encrypted with a Baconian cipher and the only two characters are a and b, then all we must do is try either possible key  \n",
    "ie (a,b) annd (b,a) and see which results in a more correct text (or a text at all)"
   ]
  },
  {
   "cell_type": "code",
   "execution_count": 13,
   "metadata": {},
   "outputs": [],
   "source": [
    "def Break_ClassicBaconianCipher(cipherText,plainAlphabet=englishAlphabet):\n",
    "    character1, character2 = findAlphabet(cipherText)\n",
    "    \n",
    "    decryption_ab = Decrypt_ClassicBaconian(cipherText,character1,character2, plainAlphabet)\n",
    "    if decryption_ab != 'None': \n",
    "        return decryption_ab\n",
    "    decryption_ba = Decrypt_ClassicBaconian(cipherText,character2,character1, plainAlphabet)\n",
    "    if decryption_ba != 'None': \n",
    "        return decryption_ba"
   ]
  },
  {
   "cell_type": "code",
   "execution_count": 16,
   "metadata": {},
   "outputs": [
    {
     "data": {
      "text/plain": [
       "'HELLOWORLD'"
      ]
     },
     "execution_count": 16,
     "metadata": {},
     "output_type": "execute_result"
    }
   ],
   "source": [
    "Break_ClassicBaconianCipher(cipherText)"
   ]
  },
  {
   "cell_type": "markdown",
   "metadata": {},
   "source": [
    "# Getting a bit more sneaky \n",
    "\n",
    "Someone may have tried to disguise the fact they have used a Baconian cipher in the following way:\n",
    "\n",
    "say the actual secrete message is 'Attack' \n",
    ">Attack\n",
    "\n",
    "this corresponds to a Baconian text of length 30. \n",
    ">000001001010010000000001001001\n",
    "\n",
    "Write a dummy message that is also 30 characters long \n",
    ">wowwealljustlovecatssoverymuch\n",
    "\n",
    "Mark each letter of the dumy message that corresponds with the positions of the '1's in the Baconian text\n",
    "\n",
    "0|0|0|0|0|1|0|0|1|0|1|0|0|1|0|0|0|0|0|0|0|0|0|1|0|0|1|0|0|1\n",
    "-|-|-|-|-|-|-|-|-|-|-|-|-|-|-|-|-|-|-|-|-|-|-|-|-|-|-|-|-|-|\n",
    "w|o|w|w|e|A|l|l|J|u|S|t|l|O|v|e|c|a|t|s|s|o|v|E|r|y|M|u|c|H\n",
    "\n",
    "And now we can add spaces and write the final message as:\n",
    "> wow we All JuSt lOve cats so vEry MucH\n",
    "\n",
    "Thank god that message doesnt look suspicious at all!  Obviously all our enemies will just think we love cats!  \n",
    "Sarcasm aside, we have made the marginal improvement of making the length of the text no longer be a multiple of 5. This, combined with the use of more than two characters, makes the message slighlty less recognizable as a Baconian cipher\n",
    "\n",
    "\n",
    "To decode this, all we need to is remove whitespaces from the final message then write a Baconian text by letting all lowercase letters be '0' and all uppercase letters be '1' The Baconian text can then be easily decrypted"
   ]
  },
  {
   "cell_type": "code",
   "execution_count": null,
   "metadata": {},
   "outputs": [],
   "source": []
  }
 ],
 "metadata": {
  "kernelspec": {
   "display_name": "Python 3 (ipykernel)",
   "language": "python",
   "name": "python3"
  },
  "language_info": {
   "codemirror_mode": {
    "name": "ipython",
    "version": 3
   },
   "file_extension": ".py",
   "mimetype": "text/x-python",
   "name": "python",
   "nbconvert_exporter": "python",
   "pygments_lexer": "ipython3",
   "version": "3.8.11"
  }
 },
 "nbformat": 4,
 "nbformat_minor": 4
}
