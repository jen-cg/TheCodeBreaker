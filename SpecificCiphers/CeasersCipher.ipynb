{
 "cells": [
  {
   "cell_type": "markdown",
   "metadata": {},
   "source": [
    "# Code Breaking Part 1: Ceaser's Cipher\n",
    "\n",
    "Ceaser's Cipher is a cipher used to code messages by shifting the alphabet by a certain number of letters (Ceaser's Cipher shifts by mulitply of threes) \n",
    "\n",
    "Resources: The Code Book, and this video https://www.youtube.com/watch?v=LhS8N6oJdno\n",
    "\n",
    "See also: http://practicalcryptography.com/ciphers/classical-era/caesar/ and http://practicalcryptography.com/cryptanalysis/stochastic-searching/cryptanalysis-caesar-cipher/"
   ]
  },
  {
   "cell_type": "code",
   "execution_count": 4,
   "metadata": {},
   "outputs": [],
   "source": [
    "from Resources.Functions import *"
   ]
  },
  {
   "cell_type": "markdown",
   "metadata": {},
   "source": [
    "## Step 1) Encrypt the message\n",
    "\n",
    "### Step 1.1) Build the plain alphabet and the cipher alphabet"
   ]
  },
  {
   "cell_type": "code",
   "execution_count": 3,
   "metadata": {
    "scrolled": true
   },
   "outputs": [
    {
     "name": "stdout",
     "output_type": "stream",
     "text": [
      "a d\n",
      "b e\n",
      "c f\n",
      "d g\n",
      "e h\n",
      "f i\n",
      "g j\n",
      "h k\n",
      "i l\n",
      "j m\n",
      "k n\n",
      "l o\n",
      "m p\n",
      "n q\n",
      "o r\n",
      "p s\n",
      "q t\n",
      "r u\n",
      "s v\n",
      "t w\n",
      "u x\n",
      "v y\n",
      "w z\n",
      "x a\n",
      "y b\n",
      "z c\n"
     ]
    }
   ],
   "source": [
    "plainAlphabet = list('abcdefghijklmnopqrstuvwxyz')\n",
    "\n",
    "shift = 3 # Negative is a rotation to the right, positive is a rotation to the left\n",
    "cipherAlphabet = list(np.roll(plainAlphabet,-3))\n",
    "    \n",
    "for i in range(len(plainAlphabet)):\n",
    "    print(plainAlphabet[i], cipherAlphabet[i])"
   ]
  },
  {
   "cell_type": "markdown",
   "metadata": {},
   "source": [
    "### Step 1.2)  Build the cipher key\n",
    "\n",
    "I take into consideration both upper and lower cases\n",
    "(This is optional)"
   ]
  },
  {
   "cell_type": "code",
   "execution_count": 4,
   "metadata": {
    "scrolled": true
   },
   "outputs": [
    {
     "data": {
      "text/plain": [
       "{'a': 'd',\n",
       " 'A': 'D',\n",
       " 'b': 'e',\n",
       " 'B': 'E',\n",
       " 'c': 'f',\n",
       " 'C': 'F',\n",
       " 'd': 'g',\n",
       " 'D': 'G',\n",
       " 'e': 'h',\n",
       " 'E': 'H',\n",
       " 'f': 'i',\n",
       " 'F': 'I',\n",
       " 'g': 'j',\n",
       " 'G': 'J',\n",
       " 'h': 'k',\n",
       " 'H': 'K',\n",
       " 'i': 'l',\n",
       " 'I': 'L',\n",
       " 'j': 'm',\n",
       " 'J': 'M',\n",
       " 'k': 'n',\n",
       " 'K': 'N',\n",
       " 'l': 'o',\n",
       " 'L': 'O',\n",
       " 'm': 'p',\n",
       " 'M': 'P',\n",
       " 'n': 'q',\n",
       " 'N': 'Q',\n",
       " 'o': 'r',\n",
       " 'O': 'R',\n",
       " 'p': 's',\n",
       " 'P': 'S',\n",
       " 'q': 't',\n",
       " 'Q': 'T',\n",
       " 'r': 'u',\n",
       " 'R': 'U',\n",
       " 's': 'v',\n",
       " 'S': 'V',\n",
       " 't': 'w',\n",
       " 'T': 'W',\n",
       " 'u': 'x',\n",
       " 'U': 'X',\n",
       " 'v': 'y',\n",
       " 'V': 'Y',\n",
       " 'w': 'z',\n",
       " 'W': 'Z',\n",
       " 'x': 'a',\n",
       " 'X': 'A',\n",
       " 'y': 'b',\n",
       " 'Y': 'B',\n",
       " 'z': 'c',\n",
       " 'Z': 'C'}"
      ]
     },
     "execution_count": 4,
     "metadata": {},
     "output_type": "execute_result"
    }
   ],
   "source": [
    "key = {}\n",
    "for i in range(len(plainAlphabet)):\n",
    "    key[plainAlphabet[i].lower()] = cipherAlphabet[i].lower()\n",
    "    key[plainAlphabet[i].upper()] = cipherAlphabet[i].upper()\n",
    "key"
   ]
  },
  {
   "cell_type": "markdown",
   "metadata": {},
   "source": [
    "### Step 1.3) Transfer the plain text to the cipher text "
   ]
  },
  {
   "cell_type": "code",
   "execution_count": 5,
   "metadata": {},
   "outputs": [
    {
     "name": "stdout",
     "output_type": "stream",
     "text": [
      "Khoor Zruog\n"
     ]
    }
   ],
   "source": [
    "plainText = list('Hello World')\n",
    "cipherText = ''\n",
    "\n",
    "for plainCharacter in plainText:\n",
    "    \n",
    "    # We will translate all letters from the plain alphabet into the cipher alphabet\n",
    "    if plainCharacter.isalpha():  \n",
    "        cipherCharacter = key[plainCharacter]\n",
    "        cipherText = cipherText + cipherCharacter\n",
    "        \n",
    "    # All other characters will just be copied over\n",
    "    else:\n",
    "        cipherText = cipherText + plainCharacter\n",
    "        \n",
    "print(cipherText)"
   ]
  },
  {
   "cell_type": "markdown",
   "metadata": {},
   "source": [
    "### Step 1.4) Put it together\n",
    "I am now going to compile the above steps into a function"
   ]
  },
  {
   "cell_type": "code",
   "execution_count": 6,
   "metadata": {},
   "outputs": [],
   "source": [
    "def Incrypt_CeaserShiftCipher(plainText, plainAlphabet, shift):\n",
    "\n",
    "    cipherAlphabet = list(np.roll(plainAlphabet,shift))\n",
    "    \n",
    "    key = {}\n",
    "    for i in range(len(plainAlphabet)):\n",
    "        key[plainAlphabet[i].lower()] = cipherAlphabet[i].lower()\n",
    "        key[plainAlphabet[i].upper()] = cipherAlphabet[i].upper()\n",
    "        \n",
    "    cipherText = ''\n",
    "\n",
    "    for plainCharacter in plainText:\n",
    "\n",
    "        # We will translate all letters from the plain alphabet into the cipher alphabet\n",
    "        if plainCharacter.isalpha():  \n",
    "            cipherCharacter = key[plainCharacter]\n",
    "            cipherText = cipherText + cipherCharacter\n",
    "\n",
    "        # All other characters will just be copied over\n",
    "        else:\n",
    "            cipherText = cipherText + plainCharacter\n",
    "    \n",
    "    return cipherText\n",
    "    "
   ]
  },
  {
   "cell_type": "code",
   "execution_count": 347,
   "metadata": {},
   "outputs": [
    {
     "data": {
      "text/plain": [
       "'DWWDFN WKH GRJ DW GDZQ'"
      ]
     },
     "execution_count": 347,
     "metadata": {},
     "output_type": "execute_result"
    }
   ],
   "source": [
    "Incrypt_CeaserShiftCipher('ATTACK THE DOG AT DAWN',plainAlphabet,-3)"
   ]
  },
  {
   "cell_type": "markdown",
   "metadata": {},
   "source": [
    "## Step 2) De-encrypt the cipher text\n",
    "\n",
    "Here we will assume that we know the key and encryption method.\n",
    "We essentially repeat the steps of encrypting the text but in reverse"
   ]
  },
  {
   "cell_type": "code",
   "execution_count": 5,
   "metadata": {},
   "outputs": [],
   "source": [
    "def Decrypt_CeaserShiftCipher(cipherText, plainAlphabet, shift):\n",
    "\n",
    "    cipherAlphabet = list(np.roll(plainAlphabet,shift))\n",
    "    \n",
    "    key = {}\n",
    "    for i in range(len(plainAlphabet)):\n",
    "        key[cipherAlphabet[i].lower()] = plainAlphabet[i].lower()\n",
    "        key[cipherAlphabet[i].upper()] = plainAlphabet[i].upper()\n",
    "        \n",
    "    plainText = ''\n",
    "\n",
    "    for cipherCharacter in cipherText:\n",
    "\n",
    "        # We will translate all letters from the plain alphabet into the cipher alphabet\n",
    "        if cipherCharacter.isalpha():  \n",
    "            plainCharacter = key[cipherCharacter]\n",
    "            plainText = plainText + plainCharacter\n",
    "\n",
    "        # All other characters will just be copied over\n",
    "        else:\n",
    "            plainText = plainText + cipherCharacter\n",
    "    \n",
    "    return plainText\n",
    "    "
   ]
  },
  {
   "cell_type": "code",
   "execution_count": 6,
   "metadata": {},
   "outputs": [
    {
     "data": {
      "text/plain": [
       "'GZQQXHZLANQDCZMCHZLQDZKKXMNSRTQDVGXHGZUDADDMDWHKDCSNSGDZQBGZDNKNFHRSRCHCHCNRNLDSGHMFSNTORDSRNLDNMDHZLQDZKKXQDZKKXGNOHMFSGZSNTQNUDQKNQCRVHKKEHMCRNLDSGHMFZAHSLNQDQDKDUZMSENQLDSNSZBJKDRNNMSGDFQNTOGDQDHRFQDZSATSHSEDDKRKHJDSGDQDHRZCHLHMHRGHMFQDSTQMNMAQDZJHMFVVHHBHOGDQRRDUDMSXRHWXDZQRNMZMCDUDMSGDBNKCVZQEHZKJZHMSDQBDOSOHKDCNDRMSRDDLSNADFHUHMFLTBGAZBJHEXNTCNMSGZUDZMXSGHMFENQLDSNVNQJNMSGDMLZXADXNTBNTKCRDMCNUDQRNLDMDVAHDRENQLDSNSQZHMTOVDQDBDHUDCZRSZBJNELZSDQHZKEQNLKNMCNMZBNTOKDNEVDDJRZFNSGZSLHFGSLZJDZFNNCDWDQBHRDENQSGDLZMCVGHKDSGDEHQRSEDVSDWSRZQDQDKZSHUDKXRHLOKDHSVNTKCADZFNNCDWDQBHRDENQXNTMFZMZKXRSRSNSQXSNVNQJNTSVGZSSGDXZQDSDKKHMFTRHGZUDZSSZBGDCSGDEHQRSHSDLEQNLSGDAZSBGRNXNTBZMRDDVGZSHLDZMHVNTKCUDQXCDZQKXKHJDSNJMNVVGZSSGDFQDZSLZSSDQQDEDQRSNZMCHRTRODBSXNTVHKKVZMSSNJMNVSNNSGDQDBQTHSRCNMSMDDCSNJMNVLTBGSNAQDZJSGHRNMDHESGDXGZUDCNMDNTQHMCTBSHNMSQZHMHMFNMAZRHBBHOGDQRSGDXRGNTKCADEHMDLXBNKKDZFTDRGDQDGZUDMHBJMZLDCSGHREHKDSGDKHFGSGNTRDBNMROHQZBXADBZTRDNEVGDQDSGDOZODQRVDQDENTMCSGZSLZJDRHSRNTMCZKNSLNQDHLOQDRRHUDSGZMHSEHQRSKNNJRATSXNTMDUDQJMNVVGDQDRNLDSGHMFKHJDSGHRLHFGSKDZCHGZUDRDSTOZRDBTQDNMKHMDRXRSDLRNSGDSQZHMDDRBZMFDSZBBDRRSNBZRDEHKDRZMCRDMCLDSGDHQZSSDLOSRZSCDBHOGDQHMFHEXNTONHMSSGDLSGDQDSGDMHVHKKBGDBJGNVSGDXZQDFDSSHMFNMLZXADSGDXBNTKCKNNJZSSGDANRRBNCDAQDZJHMFFTHCDZRVDKKHESGDXMDDCSNAQTRGTOSGDHQRJHKKRZKKSGDADRSINCHD'"
      ]
     },
     "execution_count": 6,
     "metadata": {},
     "output_type": "execute_result"
    }
   ],
   "source": [
    "cipherText = open('NationalCipherChallenge2021/Challenge1A.txt').read()\n",
    "prepareText(cipherText)"
   ]
  },
  {
   "cell_type": "code",
   "execution_count": 8,
   "metadata": {},
   "outputs": [
    {
     "data": {
      "text/plain": [
       "'DWNNUEWIXKNAZWJZEWINAWHHUJKPOQNASDUEDWRAXAAJATEHAZPKPDAWNYDWAKHKCEOPOZEZEZKOKIAPDEJCPKQLOAPOKIAKJAEWINAWHHUNAWHHUDKLEJCPDWPKQNKRANHKNZOSEHHBEJZOKIAPDEJCWXEPIKNANAHARWJPBKNIAPKPWYGHAOKKJPDACNKQLDANAEOCNAWPXQPEPBAAHOHEGAPDANAEOWZEIEJEODEJCNAPQNJKJXNAWGEJCSSEEYELDANOOARAJPUOETUAWNOKJWJZARAJPDAYKHZSWNBEWHGWEJPANYALPLEHAZKAOJPOAAIPKXACEREJCIQYDXWYGEBUKQZKJPDWRAWJUPDEJCBKNIAPKSKNGKJPDAJIWUXAUKQYKQHZOAJZKRANOKIAJASXEAOBKNIAPKPNWEJQLSANAYAERAZWOPWYGKBIWPANEWHBNKIHKJZKJWYKQLHAKBSAAGOWCKPDWPIECDPIWGAWCKKZATANYEOABKNPDAIWJZSDEHAPDABENOPBASPATPOWNANAHWPERAHUOEILHAEPSKQHZXAWCKKZATANYEOABKNUKQJCWJWHUOPOPKPNUPKSKNGKQPSDWPPDAUWNAPAHHEJCQOEDWRAWPPWYDAZPDABENOPEPAIBNKIPDAXWPYDOKUKQYWJOAASDWPEIAWJESKQHZRANUZAWNHUHEGAPKGJKSSDWPPDACNAWPIWPPANNABANOPKWJZEOQOLAYPUKQSEHHSWJPPKGJKSPKKPDANAYNQEPOZKJPJAAZPKGJKSIQYDPKXNAWGPDEOKJAEBPDAUDWRAZKJAKQNEJZQYPEKJPNWEJEJCKJXWOEYYELDANOPDAUODKQHZXABEJAIUYKHHAWCQAODANADWRAJEYGJWIAZPDEOBEHAPDAHECDPDKQOAYKJOLENWYUXAYWQOAKBSDANAPDALWLANOSANABKQJZPDWPIWGAOEPOKQJZWHKPIKNAEILNAOOERAPDWJEPBENOPHKKGOXQPUKQJARANGJKSSDANAOKIAPDEJCHEGAPDEOIECDPHAWZEDWRAOAPQLWOAYQNAKJHEJAOUOPAIOKPDAPNWEJAAOYWJCAPWYYAOOPKYWOABEHAOWJZOAJZIAPDAENWPPAILPOWPZAYELDANEJCEBUKQLKEJPPDAIPDANAPDAJESEHHYDAYGDKSPDAUWNACAPPEJCKJIWUXAPDAUYKQHZHKKGWPPDAXKOOYKZAXNAWGEJCCQEZAWOSAHHEBPDAUJAAZPKXNQODQLPDAENOGEHHOWHHPDAXAOPFKZEA'"
      ]
     },
     "execution_count": 8,
     "metadata": {},
     "output_type": "execute_result"
    }
   ],
   "source": [
    "Decrypt_CeaserShiftCipher(prepareText(cipherText),englishAlphabet,-3)"
   ]
  },
  {
   "cell_type": "markdown",
   "metadata": {},
   "source": [
    "## Test the code\n",
    "\n",
    "Now test that the encryt and decrypt functions work correctly."
   ]
  },
  {
   "cell_type": "code",
   "execution_count": 354,
   "metadata": {},
   "outputs": [
    {
     "name": "stdout",
     "output_type": "stream",
     "text": [
      "Bumbzq xjyrpe colj aldp qlkfdeq. Al klq qorpq xdbkq yixzh.\n",
      "Expect ambush from dogs tonight. Do not trust agent black.\n"
     ]
    }
   ],
   "source": [
    "shift = 3\n",
    "startText = 'Expect ambush from dogs tonight. Do not trust agent black.'\n",
    "\n",
    "incryptedText = Incrypt_CeaserShiftCipher(startText,plainAlphabet,shift)\n",
    "print(incryptedText)\n",
    "\n",
    "decryptedText = Decrypt_CeaserShiftCipher(incryptedText,plainAlphabet,shift)\n",
    "print(decryptedText)"
   ]
  },
  {
   "cell_type": "markdown",
   "metadata": {},
   "source": [
    "## Step 3)  Let's try to break the encryption (pretend we do not know the shift/key)"
   ]
  },
  {
   "cell_type": "markdown",
   "metadata": {},
   "source": [
    "### Frequency Analysis\n",
    "\n",
    "Text will typically follow a praticular trend where each letter appears with a certain frquency. \n",
    "We can make use of this fact to solve Ceaser's Cipher by finding the frequency of each character in the cipher text and comparing that frequency trend to the known frequency trend of english"
   ]
  },
  {
   "cell_type": "markdown",
   "metadata": {},
   "source": [
    "#### Frequency Analysis Part 1: Single Letter Frequencies"
   ]
  },
  {
   "cell_type": "code",
   "execution_count": 8,
   "metadata": {},
   "outputs": [
    {
     "data": {
      "image/png": "[encoded data removed]",
      "text/plain": [
       "<Figure size 432x288 with 1 Axes>"
      ]
     },
     "metadata": {
      "needs_background": "light"
     },
     "output_type": "display_data"
    }
   ],
   "source": [
    "letterFrequencies_English = {'a':0.08167, 'b':0.01492, 'c':0.02782, 'd':0.04253, 'e':0.12702, 'f':0.02228, 'g':0.02015, \n",
    "                     'h':0.06094, 'i':0.06966, 'j':0.00153, 'k':0.00772, 'l':0.04025, 'm':0.02406, 'n':0.06749, \n",
    "                     'o':0.07507, 'p':0.01929, 'q':0.00095, 'r':0.05987, 's':0.06327, 't':0.09056, 'u':0.02758, \n",
    "                     'v':0.00978, 'w':0.02360, 'x':0.00150, 'y':0.01974, 'z':0.00074}\n",
    "\n",
    "for i,key in enumerate(letterFrequencies_English):\n",
    "    bar = plt.bar(i,letterFrequencies_English[key])\n",
    "xticks = plt.xticks(np.arange(len(plainAlphabet)),plainAlphabet)\n",
    "ylabel = plt.ylabel('Relative Frequency')\n",
    "title = plt.title('Letter Frequency in English')"
   ]
  },
  {
   "cell_type": "markdown",
   "metadata": {},
   "source": [
    "##### An aside - arbitrary language single letter frequency analsysis\n",
    "\n",
    "Say that we wish to decode a message in a language other than English. To do this via a frequency analysis, we are going to need the letter / symbol frequencies of that language.  \n",
    "\n",
    "Here is a short block of code to find the letter frequencies of a given text.  \n",
    "\n",
    "- First, you must find a sample text in the given language.  The longer the sample text the better.  Here I removed all punctuation from the sample text. \n",
    "- Next I go through each character in the sample text (assuming that whitespace are not letters in this language)\n"
   ]
  },
  {
   "cell_type": "code",
   "execution_count": 9,
   "metadata": {},
   "outputs": [],
   "source": [
    "def letterFrequencies( sampleText ):\n",
    "    letterFrequencies_arbitraryLanguage = {}\n",
    "    length_sampleText = 0\n",
    "\n",
    "    for character in list(sampleText):\n",
    "\n",
    "        if character.isspace() == False:\n",
    "            length_sampleText = length_sampleText + 1\n",
    "\n",
    "            if character.isalpha() == True:\n",
    "                character = character.lower()\n",
    "\n",
    "                if character in letterFrequencies_arbitraryLanguage.keys():\n",
    "                    letterFrequencies_arbitraryLanguage[character] = letterFrequencies_arbitraryLanguage[character] + 1 \n",
    "                else:\n",
    "                     letterFrequencies_arbitraryLanguage[character] = 1\n",
    "\n",
    "            else:\n",
    "                if character in letterFrequencies_arbitraryLanguage.keys():\n",
    "                    letterFrequencies_arbitraryLanguage[character] = letterFrequencies_arbitraryLanguage[character] + 1 \n",
    "                else:\n",
    "                     letterFrequencies_arbitraryLanguage[character] = 1\n",
    "\n",
    "    for symbol in letterFrequencies_arbitraryLanguage.keys():\n",
    "        letterFrequencies_arbitraryLanguage[symbol] = letterFrequencies_arbitraryLanguage[symbol]/length_sampleText\n",
    "\n",
    "    return letterFrequencies_arbitraryLanguage"
   ]
  },
  {
   "cell_type": "code",
   "execution_count": 135,
   "metadata": {},
   "outputs": [
    {
     "data": {
      "image/png": "[encoded data removed]",
      "text/plain": [
       "<Figure size 432x288 with 1 Axes>"
      ]
     },
     "metadata": {
      "needs_background": "light"
     },
     "output_type": "display_data"
    }
   ],
   "source": [
    "sampleText = \"According to all known laws of aviation there is no way a bee should be able to fly Its wings are too small to get its fat little body off the ground The bee of course flies anyway because bees dont care what humans think is impossible\"\n",
    "\n",
    "letterFrequencies_sampleText = letterFrequencies(sampleText)\n",
    "\n",
    "for i,key in enumerate(letterFrequencies_sampleText):\n",
    "    bar = plt.bar(i,letterFrequencies_sampleText[key])\n",
    "\n",
    "xticks = plt.xticks(np.arange(len(letterFrequencies_sampleText.keys())),letterFrequencies_sampleText.keys())\n",
    "ylabel = plt.ylabel('Relative Frequency')\n",
    "title = plt.title('Letter Frequency in a sample text - Bee Movie Script')"
   ]
  },
  {
   "cell_type": "code",
   "execution_count": 133,
   "metadata": {},
   "outputs": [
    {
     "data": {
      "image/png": "[encoded data removed]",
      "text/plain": [
       "<Figure size 432x288 with 1 Axes>"
      ]
     },
     "metadata": {
      "needs_background": "light"
     },
     "output_type": "display_data"
    }
   ],
   "source": [
    "sampleText = \"noH QapmeH wo Qawluchugh yay chavbelu ej wo choqmeH may DoHluchugh lujbelu\"\n",
    "\n",
    "letterFrequencies_sampleText = letterFrequencies(sampleText)\n",
    "\n",
    "for i,key in enumerate(letterFrequencies_sampleText):\n",
    "    bar = plt.bar(i,letterFrequencies_sampleText[key])\n",
    "    \n",
    "xticks = plt.xticks(np.arange(len(letterFrequencies_sampleText.keys())),letterFrequencies_sampleText.keys())\n",
    "ylabel = plt.ylabel('Relative Frequency')\n",
    "title = plt.title('Letter Frequency in a sample text - Klingon')"
   ]
  },
  {
   "cell_type": "code",
   "execution_count": 134,
   "metadata": {},
   "outputs": [
    {
     "data": {
      "image/png": "[encoded data removed]",
      "text/plain": [
       "<Figure size 432x288 with 1 Axes>"
      ]
     },
     "metadata": {
      "needs_background": "light"
     },
     "output_type": "display_data"
    }
   ],
   "source": [
    "sampleText = \"@#%! &*)T%33 *&){}|| ~~~123 K: <> ashlif ^%^W$Fhlefoy\"\n",
    "\n",
    "letterFrequencies_sampleText = letterFrequencies(sampleText)\n",
    "\n",
    "for i,key in enumerate(letterFrequencies_sampleText):\n",
    "    bar = plt.bar(i,letterFrequencies_sampleText[key])\n",
    "    \n",
    "xticks = plt.xticks(np.arange(len(letterFrequencies_sampleText.keys())),letterFrequencies_sampleText.keys())\n",
    "ylabel = plt.ylabel('Relative Frequency')\n",
    "title = plt.title('Letter Frequency in a sample text - keyboard smash ')"
   ]
  },
  {
   "cell_type": "markdown",
   "metadata": {},
   "source": [
    "##### Single Letter Frequencies in the Cipher Text\n",
    "\n",
    "Now we must find the frequency of each character in the cipher text.  For this we will not consider the case of the character "
   ]
  },
  {
   "cell_type": "code",
   "execution_count": 84,
   "metadata": {},
   "outputs": [
    {
     "data": {
      "image/png": "[encoded data removed]",
      "text/plain": [
       "<Figure size 432x288 with 1 Axes>"
      ]
     },
     "metadata": {
      "needs_background": "light"
     },
     "output_type": "display_data"
    }
   ],
   "source": [
    "letterFrequencies_cipherText = {}\n",
    "for plainCharacter in plainAlphabet:\n",
    "    cntr = 0\n",
    "    for cipherCharacter in list(cipherText):\n",
    "        if cipherCharacter.lower() == plainCharacter:\n",
    "            cntr = cntr + 1\n",
    "    letterFrequencies_cipherText[plainCharacter] = cntr\n",
    "\n",
    "for i,key in enumerate(letterFrequencies_cipherText):\n",
    "    bar = plt.bar(i,letterFrequencies_cipherText[key])\n",
    "xticks = plt.xticks(np.arange(len(plainAlphabet)),plainAlphabet)\n",
    "ylabel = plt.ylabel('Absolute Frequency')\n",
    "title = plt.title('Letter Frequency in the Cipher Text')"
   ]
  },
  {
   "cell_type": "markdown",
   "metadata": {},
   "source": [
    "##### Putting it all together\n",
    "\n",
    "We need to match the single letter frequency in the ciper text to the known single letter frequency in english\n",
    "\n",
    "For each possible shift, we are going to shift the cipher text then compare the single letter frequency to the known single letter frequency of english. This will become the 'score' of the given shift\n",
    "\n",
    "Let $S$ be the score of the given shift, $\\sigma_i$ be the known frequency of the given character $i$, $\\delta_i$ be the obseerved frequency of the given character $i$, let $N$ be the total number of characters (ie 26 for the english alphabet):\n",
    "$$S = \\sum_{i=1}^{N} \\sigma_i * \\delta_i$$ "
   ]
  },
  {
   "cell_type": "code",
   "execution_count": 10,
   "metadata": {},
   "outputs": [],
   "source": [
    "def breakCeasersCipher_singleLetterFrequecies( incryptedText, plainAlphabet,  letterFrequencies_plainText ):\n",
    "    \n",
    "    possibleShifts = [ i for i in range(1,len(plainAlphabet))] + [ -i for i in range(1,len(plainAlphabet))]\n",
    "\n",
    "    highestScore = 0\n",
    "    decryptedText = ''\n",
    "    incryptedShift = 0\n",
    "    \n",
    "    for shift in possibleShifts:\n",
    "        score = 0\n",
    "        \n",
    "        # Test a possible decryption\n",
    "        decryptedText_test = Decrypt_CeaserShiftCipher(incryptedText, plainAlphabet,shift)\n",
    "        \n",
    "        # Find Letter Frequency\n",
    "        letterFrequencies_cipherText = {}\n",
    "        for plainCharacter in plainAlphabet:\n",
    "            cntr = 0\n",
    "            for decryptedCharacter_test in list(decryptedText_test):\n",
    "                if decryptedCharacter_test.lower() == plainCharacter:\n",
    "                    cntr = cntr + 1\n",
    "            letterFrequencies_cipherText[plainCharacter] = cntr\n",
    "\n",
    "        # Calculate Score\n",
    "        for character in plainAlphabet:\n",
    "            score = score + letterFrequencies_cipherText[character]*(letterFrequencies_plainText[character]*100)\n",
    "        \n",
    "        # Update Solution\n",
    "        if score > highestScore:\n",
    "            highestScore = score\n",
    "            decryptedText = decryptedText_test\n",
    "            incryptedShift = shift\n",
    "        \n",
    "    return incryptedShift, decryptedText"
   ]
  },
  {
   "cell_type": "code",
   "execution_count": 359,
   "metadata": {},
   "outputs": [
    {
     "data": {
      "text/plain": [
       "(23, 'ATTACK THE DOG AT DAWN')"
      ]
     },
     "execution_count": 359,
     "metadata": {},
     "output_type": "execute_result"
    }
   ],
   "source": [
    "breakCeasersCipher_singleLetterFrequecies('DWWDFN WKH GRJ DW GDZQ', plainAlphabet, letterFrequencies_English )"
   ]
  },
  {
   "cell_type": "code",
   "execution_count": 360,
   "metadata": {},
   "outputs": [
    {
     "name": "stdout",
     "output_type": "stream",
     "text": [
      "It is likley the text was incrypted with a shift of 8. The likley original text is as follows:\n",
      "\n",
      " \"I have written a test message to see if I can break a Ceaser Shift Cipher using a simple single letter frequency analysis\"\n"
     ]
    }
   ],
   "source": [
    "testText = 'I have written a test message to see if I can break a Ceaser Shift Cipher using a simple single letter frequency analysis'\n",
    "testText_incrypted = Incrypt_CeaserShiftCipher(testText,plainAlphabet,-44)\n",
    "\n",
    "proposedShift, proposedText = breakCeasersCipher_singleLetterFrequecies(testText_incrypted, plainAlphabet, letterFrequencies_English )\n",
    "print('It is likley the text was incrypted with a shift of {}. The likley original text is as follows:\\n\\n \\\"{}\\\"'.format(proposedShift,proposedText))"
   ]
  },
  {
   "cell_type": "markdown",
   "metadata": {},
   "source": [
    "#### Frequency Analysis Part 2: Double Letter Frequencies\n",
    "\n",
    "Just as single letters have a known frequency, so do double letters.\n",
    "\n",
    "In the same way we used single letter frequencies to break Ceaser's Cipher, we can use known double letter frequencies (Taken from: https://blogs.sas.com/content/iml/2014/10/03/)\n",
    "\n",
    "In fact we could use known frequencies of many different aspects of text to decrypt text, such as the frequencies of certain letters appearing next to each other (such as \"sh\", \"ch\", \"qu\", etc), or at the start or end of words. \n",
    "\n",
    "But we need to be careful! This starts to fall apart if the text has whitespace and punctuation removed!"
   ]
  },
  {
   "cell_type": "code",
   "execution_count": 256,
   "metadata": {},
   "outputs": [
    {
     "data": {
      "image/png": "[encoded data removed]",
      "text/plain": [
       "<Figure size 432x288 with 1 Axes>"
      ]
     },
     "metadata": {
      "needs_background": "light"
     },
     "output_type": "display_data"
    }
   ],
   "source": [
    "doubleLetterFrequencies_English = {'a':0.003, 'b':0.011, 'c':0.083, 'd':0.043, 'e':0.378, 'f':0.146, \n",
    "                                   'g':0.025, 'h':0.001, 'i':0.023, 'j':0.000, 'k':0.000, 'l':0.577,\n",
    "                                   'm':0.096, 'n':0.073, 'o':0.210, 'p':0.137, 'q':0.000, 'r':0.121, \n",
    "                                   's':0.405, 't':0.171, 'u':0.001, 'v':0.000, 'w':0.000, 'x':0.003, \n",
    "                                   'y':0.000, 'z':0.003}\n",
    "\n",
    "for i,key in enumerate(doubleLetterFrequencies_English):\n",
    "    bar = plt.bar(i,doubleLetterFrequencies_English[key])\n",
    "    \n",
    "xticks = plt.xticks(np.arange(len(doubleLetterFrequencies_English.keys())),doubleLetterFrequencies_English.keys())\n",
    "ylabel = plt.ylabel('Relative Frequency')\n",
    "title = plt.title('Double Letter Frequency in English')"
   ]
  },
  {
   "cell_type": "markdown",
   "metadata": {},
   "source": [
    "The above percentages are the frequencies of each letter appearing as double letters out of a sample of only double letters. "
   ]
  },
  {
   "cell_type": "markdown",
   "metadata": {},
   "source": [
    "##### Double Letter Frequencies in the Cipher Text\n",
    "\n",
    "Now we must find the frequency of each double character in the cipher text.  For this we will not consider the case of the character "
   ]
  },
  {
   "cell_type": "code",
   "execution_count": 11,
   "metadata": {},
   "outputs": [],
   "source": [
    "def doubleLetterFrequencies(sampleText, plainAlphabet):\n",
    "    DoubleLetterFrequencies_sampleText = {k:0 for k in plainAlphabet}\n",
    "\n",
    "    totalNumDoubleLetters = 0\n",
    "    for i in range(len(sampleText)-1):\n",
    "        thisCharacter = sampleText[i]\n",
    "        nextCharacter = sampleText[i+1]\n",
    "\n",
    "        if thisCharacter.isalpha() and nextCharacter.isalpha():\n",
    "            if  thisCharacter.lower() == nextCharacter.lower():\n",
    "                totalNumDoubleLetters = totalNumDoubleLetters + 1\n",
    "                \n",
    "                DoubleLetterFrequencies_sampleText[thisCharacter.lower()] = DoubleLetterFrequencies_sampleText[thisCharacter.lower()] +1\n",
    "\n",
    "    if totalNumDoubleLetters != 0:\n",
    "        for doubleLetter in DoubleLetterFrequencies_sampleText.keys():\n",
    "            DoubleLetterFrequencies_sampleText[doubleLetter] =  DoubleLetterFrequencies_sampleText[doubleLetter] / totalNumDoubleLetters\n",
    "    \n",
    "    return DoubleLetterFrequencies_sampleText"
   ]
  },
  {
   "cell_type": "code",
   "execution_count": 298,
   "metadata": {},
   "outputs": [
    {
     "data": {
      "image/png": "[encoded data removed]",
      "text/plain": [
       "<Figure size 432x288 with 1 Axes>"
      ]
     },
     "metadata": {
      "needs_background": "light"
     },
     "output_type": "display_data"
    }
   ],
   "source": [
    "sampleText = \"According to all known laws of aviation there is no way a bee should be able to fly Its wings are too small to get its fat little body off the ground The bee of course flies anyway because bees dont care what humans think is impossible\"\n",
    "\n",
    "doubleLetterFrequencies_sampleText = doubleLetterFrequencies(sampleText, plainAlphabet)\n",
    "\n",
    "for i,key in enumerate(doubleLetterFrequencies_sampleText):\n",
    "    bar = plt.bar(i,doubleLetterFrequencies_sampleText[key])\n",
    "\n",
    "xticks = plt.xticks(np.arange(len(doubleLetterFrequencies_sampleText.keys())), doubleLetterFrequencies_sampleText.keys())\n",
    "ylabel = plt.ylabel('Relative Frequency')\n",
    "title = plt.title('Double letter Frequency in a sample text - Bee Movie Script')"
   ]
  },
  {
   "cell_type": "markdown",
   "metadata": {},
   "source": [
    "##### Putting it all together\n",
    "\n",
    "We need to match the double letter frequency in the ciper text to the known double letter frequency in english\n",
    "\n",
    "For each possible shift, we are going to shift the cipher text then compare the double letter frequency to the known double letter frequency of english (this will become the 'score' of the given shift)"
   ]
  },
  {
   "cell_type": "code",
   "execution_count": 12,
   "metadata": {},
   "outputs": [],
   "source": [
    "def breakCeasersCipher_doubleLetterFrequecies( incryptedText, plainAlphabet, doubleLetterFrequencies_plainText ):\n",
    "    \n",
    "    possibleShifts = [ i for i in range(1,len(plainAlphabet))] + [ -i for i in range(1,len(plainAlphabet))]\n",
    "\n",
    "    highestScore = 0\n",
    "    decryptedText = ''\n",
    "    incryptedShift = 0\n",
    "    \n",
    "    for shift in possibleShifts:\n",
    "        score = 0\n",
    "        \n",
    "        # Test a possible decryption\n",
    "        decryptedText_test = Decrypt_CeaserShiftCipher(incryptedText, plainAlphabet, shift)\n",
    "        \n",
    "        # Find Double Letter Frequency\n",
    "        doubleLetterFrequencies_cipherText = doubleLetterFrequencies(decryptedText_test, plainAlphabet)\n",
    "\n",
    "        # Calculate Score\n",
    "        for character in plainAlphabet:\n",
    "            score = score + doubleLetterFrequencies_cipherText[character]*(doubleLetterFrequencies_plainText[character]*100)\n",
    "        \n",
    "        # Update Solution\n",
    "        if score > highestScore:\n",
    "            highestScore = score\n",
    "            decryptedText = decryptedText_test\n",
    "            incryptedShift = shift\n",
    "        \n",
    "    return incryptedShift, decryptedText"
   ]
  },
  {
   "cell_type": "code",
   "execution_count": 333,
   "metadata": {},
   "outputs": [
    {
     "name": "stdout",
     "output_type": "stream",
     "text": [
      "It is likley the text was incrypted with a shift of 4. The likley original text is as follows:\n",
      "\n",
      " \"According to all known laws of aviation there is no way a bee should be able to fly Its wings are too small to get its fat little body off the ground The bee of course flies anyway because bees dont care what humans think is impossible\"\n"
     ]
    }
   ],
   "source": [
    "sampleText = \"According to all known laws of aviation there is no way a bee should be able to fly Its wings are too small to get its fat little body off the ground The bee of course flies anyway because bees dont care what humans think is impossible\"\n",
    "sampleText_incrypted = Incrypt_CeaserShiftCipher(sampleText,plainAlphabet,4)\n",
    "\n",
    "proposedShift, proposedText = breakCeasersCipher_doubleLetterFrequecies(sampleText_incrypted, plainAlphabet, doubleLetterFrequencies_English )\n",
    "print('It is likley the text was incrypted with a shift of {}. The likley original text is as follows:\\n\\n \\\"{}\\\"'.format(proposedShift,proposedText))"
   ]
  },
  {
   "cell_type": "markdown",
   "metadata": {},
   "source": [
    "# Tests - Breaking Ceaser Shift Ciphers \n",
    "\n",
    "\n",
    "The following texts have been encrypted using a Ceaser Cipher \n",
    "(ie each letter in the english alphabet has been replaced by a letter a fixed number of shifts down)\n",
    "\n",
    "Taken from: https://simonsingh.net/cryptography/cryptograms/"
   ]
  },
  {
   "cell_type": "code",
   "execution_count": 330,
   "metadata": {},
   "outputs": [
    {
     "name": "stdout",
     "output_type": "stream",
     "text": [
      "(1, 'CAESAR’S WIFE MUST BE ABOVE SUSPICION')\n",
      "(0, '')\n"
     ]
    }
   ],
   "source": [
    "cipherText_1 = \"BZDRZQ’R VHED LTRS AD ZANUD RTROHBHNM\"\n",
    "print(breakCeasersCipher_singleLetterFrequecies(cipherText_1, plainAlphabet, letterFrequencies_English ))\n",
    "print(breakCeasersCipher_doubleLetterFrequecies(cipherText_1, plainAlphabet, doubleLetterFrequencies_English ))"
   ]
  },
  {
   "cell_type": "code",
   "execution_count": 337,
   "metadata": {},
   "outputs": [
    {
     "name": "stdout",
     "output_type": "stream",
     "text": [
      "(15, 'ALL GAUL IS DIVIDED INTO THREE PARTS ONE OF WHICH THE BELGAE INHABIT THE AQUITANI ANOTHER THOSE WHO IN THEIR OWN LANGUAGE ARE CALLED CELTS IN OUR GAULS THE THIRD ALL THESE DIFFER FROM EACH OTHER IN LANGUAGE CUSTOMS AND LAWS')\n",
      "(15, 'ALL GAUL IS DIVIDED INTO THREE PARTS ONE OF WHICH THE BELGAE INHABIT THE AQUITANI ANOTHER THOSE WHO IN THEIR OWN LANGUAGE ARE CALLED CELTS IN OUR GAULS THE THIRD ALL THESE DIFFER FROM EACH OTHER IN LANGUAGE CUSTOMS AND LAWS')\n"
     ]
    }
   ],
   "source": [
    "cipherText_2 = \"LWW RLFW TD OTGTOPO TYEZ ESCPP ALCED ZYP ZQ HSTNS ESP MPWRLP TYSLMTE ESP LBFTELYT LYZESPC ESZDP HSZ TY ESPTC ZHY WLYRFLRP LCP NLWWPO NPWED TY ZFC RLFWD ESP ESTCO LWW ESPDP OTQQPC QCZX PLNS ZESPC TY WLYRFLRP NFDEZXD LYO WLHD\"\n",
    "print(breakCeasersCipher_singleLetterFrequecies(cipherText_2, plainAlphabet, letterFrequencies_English ))\n",
    "print(breakCeasersCipher_doubleLetterFrequecies(cipherText_2, plainAlphabet, doubleLetterFrequencies_English ))"
   ]
  },
  {
   "cell_type": "code",
   "execution_count": 338,
   "metadata": {},
   "outputs": [
    {
     "name": "stdout",
     "output_type": "stream",
     "text": [
      "(16, 'AUDACES FORTUNA JUVAT')\n",
      "(0, '')\n"
     ]
    }
   ],
   "source": [
    "cipherText_3 = \"KENKMOC PYBDEXK TEFKD\"\n",
    "breakCeasersCipher(cipherText_3, plainAlphabet, letterFrequencies_English )\n",
    "\n",
    "print(breakCeasersCipher_singleLetterFrequecies(cipherText_3, plainAlphabet, letterFrequencies_English ))\n",
    "print(breakCeasersCipher_doubleLetterFrequecies(cipherText_3, plainAlphabet, doubleLetterFrequencies_English ))"
   ]
  },
  {
   "cell_type": "code",
   "execution_count": 340,
   "metadata": {},
   "outputs": [
    {
     "name": "stdout",
     "output_type": "stream",
     "text": [
      "(19, 'FABERESTSUAEQUISQUEFORTUNAEAPPIUSCLAUDIUSCAECUSDICTUMARCANUMESTNEUTRON')\n"
     ]
    }
   ],
   "source": [
    "cipherText_4 = \"MHILYLZAZBHLXBPZXBLMVYABUHLHWWPBZJSHBKPBZJHLJBZKPJABTHYJHUBTLZAULBAYVU\"\n",
    "print(breakCeasersCipher_singleLetterFrequecies(cipherText_4, plainAlphabet, letterFrequencies_English ))"
   ]
  },
  {
   "cell_type": "markdown",
   "metadata": {},
   "source": [
    "Before you think that the method failed, ciperTexts 3 and 4 are in Latin ....\n",
    "Apparenlty latin and english have similar letter frequencies\n",
    "\n",
    "- CipherText_3: AUDACES FORTUNA JUVAT   \n",
    "    English Translation: \"Fortune favours the bold\"\n",
    "    \n",
    "      \n",
    "\n",
    "- CipherText_4: FABERESTSUAEQUISQUEFORTUNAEAPPIUSCLAUDIUSCAECUSDICTUMARCANUMESTNEUTRON   \n",
    "    With spaces: faber est suae quisque fortunae appius claudius caecus dictum arcanum est oeutron.   \n",
    "    English Translation: \"Each man is the architect of his own fortune. Appius Claudius the Blind said: the secret word is neutron\"  \n",
    "    (thank you https://www.cucumis.org/translation_1_t/view-the-translation_v_91568.html )"
   ]
  },
  {
   "cell_type": "code",
   "execution_count": 14,
   "metadata": {},
   "outputs": [
    {
     "name": "stdout",
     "output_type": "stream",
     "text": [
      "(17, 'SK AGO IDCO GTLM RDCO ZTMAG ZSKNOMI TZ D CDK’I GDKE, DKE PMTAO TUOM DNDSKIA AGO RDKEXOIASRY LHTK AGO HXDIAOM TZ AGO PDXX TZ AGO YSKN’I HDXDRO; DKE AGO YSKN IDP AGO HDMA TZ AGO GDKE AGDA PMTAO. AGOK AGO YSKN’I RTLKAOKDKRO PDI RGDKNOE, DKE GSI AGTLNGAI AMTLWXOE GSC, IT AGDA AGO JTSKAI TZ GSI XTSKI POMO XTTIOE, DKE GSI YKOOI ICTAO TKO DNDSKIA DKTAGOM. AGO YSKN RMSOE DXTLE AT WMSKN SK AGO DIAMTXTNOMI, AGO RGDXEODKI, DKE AGO ITTAGIDVOMI. DKE AGO YSKN IHDYO, DKE IDSE AT AGO PSIO COK TZ WDWVXTK, PGTITOUOM IGDXX MODE AGSI PMSASKN, DKE IGTP CO AGO SKAOMHMOADASTK AGOMOTZ, IGDXX WO RXTAGOE PSAG IRD')\n"
     ]
    }
   ],
   "source": [
    "cipherText = open('TheCipherTexts_CipherChallenge/Stage1.txt').read()\n",
    "print(breakCeasersCipher_singleLetterFrequecies(cipherText, plainAlphabet, letterFrequencies_English ))"
   ]
  },
  {
   "cell_type": "code",
   "execution_count": null,
   "metadata": {},
   "outputs": [],
   "source": []
  }
 ],
 "metadata": {
  "kernelspec": {
   "display_name": "Python 3 (ipykernel)",
   "language": "python",
   "name": "python3"
  },
  "language_info": {
   "codemirror_mode": {
    "name": "ipython",
    "version": 3
   },
   "file_extension": ".py",
   "mimetype": "text/x-python",
   "name": "python",
   "nbconvert_exporter": "python",
   "pygments_lexer": "ipython3",
   "version": "3.8.11"
  }
 },
 "nbformat": 4,
 "nbformat_minor": 4
}
