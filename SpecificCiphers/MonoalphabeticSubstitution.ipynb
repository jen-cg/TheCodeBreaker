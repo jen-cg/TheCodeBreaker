{
 "cells": [
  {
   "cell_type": "markdown",
   "metadata": {},
   "source": [
    "# Code Breaking Part 2: Random Substitution Ciphers\n",
    "\n",
    "\n",
    "\n",
    "These are more general versions of the Ceaser Shift Cipher where each letter in the plain text alphabet gets mapped to a letter in the cipher alphabet. \n",
    "\n",
    "Unlike the Ceaser Shift Cipher, the cipher alphabet may not retain any of the original letter ordering of the plain alphabet.  \n",
    "\n",
    "In this case, it is possible that a letter in the plain text alphabet gets mapped to itself in the cipher alphabet, but this is actually okay and won't make the encryption any less secure! \n",
    "\n",
    "**Resources**: \n",
    "- The Code Book, http://practicalcryptography.com/cryptanalysis/stochastic-searching/cryptanalysis-simple-substitution-cipher/, \n",
    "- this video https://www.youtube.com/watch?v=LhS8N6oJdno&list=PLeOSHd3t9lzK63xz7LB9jAXwSv7TtQYvY&index=2, \n",
    "- and this video https://www.youtube.com/watch?v=pF-DzPOCeM8, and this video https://www.youtube.com/watch?v=SbZR_AE_6bk\n",
    "- and this page http://practicalcryptography.com/cryptanalysis/text-characterisation/quadgrams/#a-python-implementation\n",
    "- and this page http://practicalcryptography.com/cryptanalysis/stochastic-searching/cryptanalysis-simple-substitution-cipher/\n",
    "\n",
    "\n",
    "## Random Substitution\n",
    "Example)\n",
    "\n",
    "Position | 0 | 1 | 2 | 3 | 4 | 5 | 6 | 7 | 8 | 9 | 10| 11| 12 |13 |14 |15 |16| 17|18 |19 |20 |21 |22 |23 |24| 25|\n",
    "---| --- | --- | --- | --- | --- | --- | --- | --- | --- | --- | ---| ---| --- |--- |--- |--- |---| ---|--- |--- |--- |--- |--- |--- |---| ---|\n",
    "Plain Alphabet| a |b | c |d | e | f | g | h | i | j | k | l | m |n |o |p |q |r |s |t |u |v |w |x |y |z |\n",
    "Cipher Alphabet| Z | X | W |K | Y | L | D | J | M | I | B | R | N |F |G |T |A |Q |P |C |E |S |H |O |U |V |\n",
    "\n",
    "\n",
    "\n",
    "## Keyword Substitution\n",
    "\n",
    "Example)  Keyword: *ZEBRA* at position 0 \n",
    "\n",
    "Position | 0 | 1 | 2 | 3 | 4 | 5 | 6 | 7 | 8 | 9 | 10| 11| 12 |13 |14 |15 |16| 17|18 |19 |20 |21 |22 |23 |24| 25|\n",
    "---| --- | --- | --- | --- | --- | --- | --- | --- | --- | --- | ---| ---| --- |--- |--- |--- |---| ---|--- |--- |--- |--- |--- |--- |---| ---|\n",
    "Plain Alphabet| a |b | c |d | e | f | g | h | i | j | k | l | m |n |o |p |q |r |s |t |u |v |w |x |y |z |\n",
    "Cipher Alphabet| **Z** | **E** | **B** |**R** | **A** | C | D | F | G | H | I | J | K |L |M |N |O |P |Q |S |T |U |V |W |X |Y |\n",
    "\n",
    "\n",
    "\n",
    "\n",
    "\n",
    "\n"
   ]
  },
  {
   "cell_type": "code",
   "execution_count": 1,
   "metadata": {},
   "outputs": [],
   "source": [
    "from Resources.Functions import *"
   ]
  },
  {
   "cell_type": "code",
   "execution_count": 4,
   "metadata": {},
   "outputs": [],
   "source": [
    "import numpy as np\n",
    "import matplotlib.pyplot as plt\n",
    "from math import log10\n",
    "import pandas as pd\n",
    "import random"
   ]
  },
  {
   "cell_type": "code",
   "execution_count": 5,
   "metadata": {},
   "outputs": [],
   "source": [
    "plainAlphabet = list('abcdefghijklmnopqrstuvwxyz')"
   ]
  },
  {
   "cell_type": "code",
   "execution_count": 147,
   "metadata": {},
   "outputs": [],
   "source": [
    "def prepareText(text):\n",
    "    '''\n",
    "    This is a function to prepare a cipher text, \n",
    "    written in alphabetic characters, for analysis. \n",
    "    \n",
    "    It does this by:\n",
    "    1) removing all punctuation, whitespace, and nonalphabetic characters\n",
    "    2) changing all alphabetic characters to upper case\n",
    "    '''\n",
    "    \n",
    "    preparedText = ''\n",
    "    for item in list(text):\n",
    "        if item.isalpha():\n",
    "            preparedText = preparedText + item.upper()\n",
    "    return preparedText"
   ]
  },
  {
   "cell_type": "markdown",
   "metadata": {},
   "source": [
    "## Step 1) Encrypt the message\n",
    "\n",
    "This follows the same logical steps as in Part 1 The Ceaser's Cipher.  The ony difference is the encryption method\n"
   ]
  },
  {
   "cell_type": "code",
   "execution_count": 160,
   "metadata": {},
   "outputs": [],
   "source": [
    "def Incrypt_KeywordSubCipher(plainText, plainAlphabet, keyword, placement):\n",
    "\n",
    "    cipherAlphabet = [0]*len(plainAlphabet)\n",
    "    remainingAlphabet = [i for i in plainAlphabet if i not in keyword]\n",
    "\n",
    "    # Place the end of the remaining alphabet at the begining of the cipher alphabet\n",
    "    for i in range(placement):\n",
    "        cipherAlphabet[i] = remainingAlphabet[ len(plainAlphabet) - (placement+len(keyword)): ][i]\n",
    "\n",
    "    # Place the keyword\n",
    "    for j in range(len(keyword)):\n",
    "        cipherAlphabet[placement+j] = keyword[j]  \n",
    "\n",
    "    # Fill the rest of the spots after the keyword with the reamaining alphabet\n",
    "    for k in range(len(plainAlphabet) - (placement+len(keyword))  ):\n",
    "        cipherAlphabet[placement+len(keyword)+k] = remainingAlphabet[k] \n",
    "        \n",
    "    print(cipherAlphabet)\n",
    "    \n",
    "    key = {}\n",
    "    for i in range(len(plainAlphabet)):\n",
    "        key[plainAlphabet[i].upper()] = cipherAlphabet[i].upper()\n",
    "        \n",
    "    cipherText = ''\n",
    "\n",
    "    for plainCharacter in plainText:\n",
    "\n",
    "        # We will translate all letters from the plain alphabet into the cipher alphabet\n",
    "        if plainCharacter.isalpha():  \n",
    "            cipherCharacter = key[plainCharacter]\n",
    "            cipherText = cipherText + cipherCharacter\n",
    "\n",
    "        # All other characters will just be copied over\n",
    "        else:\n",
    "            cipherText = cipherText + plainCharacter\n",
    "    \n",
    "    return cipherText\n",
    "\n",
    "\n",
    "def Incrypt_RandomSubCipher(plainText, plainAlphabet):\n",
    "\n",
    "    cipherAlphabet = plainAlphabet.copy()\n",
    "    random.shuffle(cipherAlphabet)\n",
    "    \n",
    "    key = {}\n",
    "    for i in range(len(plainAlphabet)):\n",
    "        key[plainAlphabet[i].upper()] = cipherAlphabet[i].upper()\n",
    "        \n",
    "    cipherText = ''\n",
    "\n",
    "    for plainCharacter in plainText:\n",
    "\n",
    "        # We will translate all letters from the plain alphabet into the cipher alphabet\n",
    "        if plainCharacter.isalpha():  \n",
    "            cipherCharacter = key[plainCharacter]\n",
    "            cipherText = cipherText + cipherCharacter\n",
    "\n",
    "        # All other characters will just be copied over\n",
    "        else:\n",
    "            cipherText = cipherText + plainCharacter\n",
    "    \n",
    "    return cipherText, cipherAlphabet"
   ]
  },
  {
   "cell_type": "code",
   "execution_count": 254,
   "metadata": {},
   "outputs": [
    {
     "name": "stdout",
     "output_type": "stream",
     "text": [
      "['m', 'e', 'o', 'w', 'a', 'b', 'c', 'd', 'f', 'g', 'h', 'i', 'j', 'k', 'l', 'n', 'p', 'q', 'r', 's', 't', 'u', 'v', 'x', 'y', 'z']\n"
     ]
    },
    {
     "data": {
      "text/plain": [
       "'SLKFCDS F RSAMI SDA DLS QLOH. SDAY RTRNAOS KLSDFKC.'"
      ]
     },
     "execution_count": 254,
     "metadata": {},
     "output_type": "execute_result"
    }
   ],
   "source": [
    "Incrypt_KeywordSubCipher(('TONIGHT I STEAL THE HOT ROCK. THEY SUSPECT NOTHING.'), plainAlphabet, 'meow', 0)"
   ]
  },
  {
   "cell_type": "code",
   "execution_count": 190,
   "metadata": {},
   "outputs": [
    {
     "data": {
      "text/plain": [
       "('FQQNBJLLUPSBZESUQKESHQUW',\n",
       " ['z',\n",
       "  'a',\n",
       "  'i',\n",
       "  'n',\n",
       "  's',\n",
       "  'f',\n",
       "  'x',\n",
       "  'r',\n",
       "  'p',\n",
       "  'o',\n",
       "  'd',\n",
       "  'u',\n",
       "  'g',\n",
       "  'c',\n",
       "  'q',\n",
       "  'l',\n",
       "  'm',\n",
       "  'e',\n",
       "  'b',\n",
       "  'w',\n",
       "  'j',\n",
       "  'h',\n",
       "  'k',\n",
       "  'y',\n",
       "  'v',\n",
       "  't'])"
      ]
     },
     "execution_count": 190,
     "metadata": {},
     "output_type": "execute_result"
    }
   ],
   "source": [
    "Incrypt_RandomSubCipher(prepareText('Food Supplies are Low. Revolt!'), plainAlphabet)"
   ]
  },
  {
   "cell_type": "markdown",
   "metadata": {},
   "source": [
    "## Step 2) De-encrypt the cipher text\n",
    "\n",
    "Here we will assume that we know the key and encryption method.\n",
    "We essentially repeat the steps of encrypting the text but in reverse"
   ]
  },
  {
   "cell_type": "code",
   "execution_count": 161,
   "metadata": {},
   "outputs": [],
   "source": [
    "def Decrypt_KeywordSubCipher(cipherText, plainAlphabet, keyword, placement):\n",
    "\n",
    "    cipherAlphabet = [0]*len(plainAlphabet)\n",
    "    remainingAlphabet = [i for i in plainAlphabet if i not in keyword]\n",
    "\n",
    "    # Place the end of the remaining alphabet at the begining of the cipher alphabet\n",
    "    for i in range(placement):\n",
    "        cipherAlphabet[i] = remainingAlphabet[ len(plainAlphabet) - (placement+len(keyword)): ][i]\n",
    "\n",
    "    # Place the keyword\n",
    "    for j in range(len(keyword)):\n",
    "        cipherAlphabet[placement+j] = keyword[j]  \n",
    "\n",
    "    # Fill the rest of the spots after the keyword with the reamaining alphabet\n",
    "    for k in range(len(plainAlphabet) - (placement+len(keyword))  ):\n",
    "        cipherAlphabet[placement+len(keyword)+k] = remainingAlphabet[k] \n",
    "    \n",
    "    key = {}\n",
    "    for i in range(len(plainAlphabet)):\n",
    "        key[cipherAlphabet[i].upper()] = plainAlphabet[i].upper()\n",
    "        \n",
    "    plainText = ''\n",
    "\n",
    "    for cipherCharacter in cipherText:\n",
    "\n",
    "        # We will translate all letters from the plain alphabet into the cipher alphabet\n",
    "        if cipherCharacter.isalpha():  \n",
    "            plainCharacter = key[cipherCharacter]\n",
    "            plainText = plainText + plainCharacter\n",
    "\n",
    "        # All other characters will just be copied over\n",
    "        else:\n",
    "            plainText = plainText + cipherCharacter\n",
    "    \n",
    "    return plainText\n",
    "\n",
    "\n",
    "def Decrypt_RandomSubCipher(cipherText, plainAlphabet, cipherAlphabet):\n",
    "\n",
    "    \n",
    "    key = {}\n",
    "    for i in range(len(plainAlphabet)):\n",
    "        key[cipherAlphabet[i].upper()] = plainAlphabet[i].upper()\n",
    "        \n",
    "    plainText = ''\n",
    "\n",
    "    for cipherCharacter in cipherText:\n",
    "\n",
    "        # We will translate all letters from the plain alphabet into the cipher alphabet\n",
    "        if cipherCharacter.isalpha():  \n",
    "            plainCharacter = key[cipherCharacter.upper()]\n",
    "            plainText = plainText + plainCharacter\n",
    "\n",
    "        # All other characters will just be copied over\n",
    "        else:\n",
    "            plainText = plainText + cipherCharacter\n",
    "    \n",
    "    return plainText"
   ]
  },
  {
   "cell_type": "markdown",
   "metadata": {},
   "source": [
    "## Step 3)  Let's try to break the encryption (pretend we do not know the shift/key)\n",
    "\n",
    "When we broke the Ceaser Shift Cipher we were able to test every possible key in a sort of brute force method (there are only 25 ways to shift the alphabet and we checked them all). \n",
    "\n",
    "Now letters can be placed in any order, making 26! possible keys.  This is wayyy too many to test via brute force, so we are going to need smarter approach.  This is where the Hill Climbing Algorithm comes in.\n",
    "\n",
    "We will still use the principles of frequency analysis from the Ceaser Cipher, but we will need to be a bit more rigorous in our functions first. In praticular we need a more rigorous definition of \"fitness\" (what was previously called the similarity score).  A higher fitness value of a given text indicates that the text is more likely to be in the given language\n",
    "\n",
    "\n",
    "The following is based on: http://practicalcryptography.com/cryptanalysis/text-characterisation/quadgrams/"
   ]
  },
  {
   "cell_type": "code",
   "execution_count": 156,
   "metadata": {},
   "outputs": [],
   "source": [
    "def quadgramFitness(Text,quadgramsFreq):\n",
    "    '''\n",
    "    Get the quadgram fitness for a text based on the given guadgram frequencies\n",
    "    '''   \n",
    "    totalQuadgrams = sum(quadgramsFreq.values())\n",
    "\n",
    "    # For each quadgram in the cipherText, get the probablity of that quadgram occuring \n",
    "    fitness = 0 # The measure of how close the text is to english \n",
    "    for index in range(len(Text) - 3 ):\n",
    "        if Text[index:index+4] in quadgramsFreq.keys(): \n",
    "            probability = quadgramsFreq[Text[index:index+4]] / totalQuadgrams\n",
    "            logProb = log10(probability)\n",
    "            fitness = fitness + logProb\n",
    "        else: \n",
    "            probability =  0.1 / totalQuadgrams\n",
    "            logProb = log10(probability)\n",
    "            fitness = fitness + logProb\n",
    "\n",
    "    return fitness"
   ]
  },
  {
   "cell_type": "markdown",
   "metadata": {},
   "source": [
    "### Hill Climbing Algorithm\n",
    "\n",
    "We need to test different keys to see if they correclty decipher the message.  However, we can no longer try every possible combination.  \n",
    "\n",
    "Hill Climbing Algorithm:\n",
    "1. Create a random key (ie a random ordering of the alphabet), this will be called the parent. Decipher the cipherText with this key. Find the fitness (or score) of this deciphered text\n",
    "2. Change the key slighlty by swapping two characters in the key at random, this is called the child key.  Decipher the cipherText with this key and find the score. \n",
    "3. If the score increases with the modification, then set the parent key equal to the child key then repeat the steps\n",
    "4. Or else try another swap in the parentkey\n",
    "\n",
    "The amount of \"swaps\" tried before abandinign the attempt is set arbitrarily \n",
    "\n",
    "The Hill climbing alogorithm will need to be run for different random starting keys to prevent the code from converging on a local maximum and not the true solution. Also it is possible to find a \"solution\" that has more english-like quadgram frequency but is not the real plain text"
   ]
  },
  {
   "cell_type": "code",
   "execution_count": 256,
   "metadata": {
    "scrolled": true
   },
   "outputs": [],
   "source": [
    "def break_randomSubstitution( cipherText, plainAlphabet, quadgramFrequencies):\n",
    "    \n",
    "    maxAlphabet = list('ABCDEFGHIJKLMNOPQRSTUVWXYZ')\n",
    "    maxScore = -99e9\n",
    "    parentScore, parentAlphabet = maxScore,maxAlphabet[:]\n",
    " \n",
    "    # Each 'realization' is a different random starting alphabet\n",
    "    for realization in range(5):\n",
    "        \n",
    "        # Randomly shuffle the alphabet\n",
    "        random.shuffle(parentAlphabet)\n",
    "  \n",
    "        #Decipher the ciperText using the parent alphabet\n",
    "        parentDeciphered = Decrypt_KeywordSubCipher(cipherText, plainAlphabet, parentAlphabet)\n",
    "        \n",
    "        # Get score of the parent-deciphered text\n",
    "        parentScore = quadgramFitness(parentDeciphered,quadgramsFreq)\n",
    "        \n",
    "        count = 0\n",
    "        while count < 2000:\n",
    "            \n",
    "            a = random.randint(0,len(plainAlphabet)-1)\n",
    "            b = random.randint(0,len(plainAlphabet)-1)\n",
    "            childAlphabet = parentAlphabet[:]\n",
    "            # swap two characters in the child\n",
    "            temp = childAlphabet.copy()\n",
    "            childAlphabet[a] = temp[b] \n",
    "            childAlphabet[b] = temp[a]\n",
    "            \n",
    "            #Decipher the ciperText using the child alphabet\n",
    "            childDeciphered = Decrypt_KeywordSubCipher(cipherText, plainAlphabet, childAlphabet)\n",
    "            \n",
    "            # Get score of the child-deciphered text\n",
    "            childScore = quadgramFitness(childDeciphered,quadgramsFreq)\n",
    "            \n",
    "            if childScore > parentScore:\n",
    "                # The child becomes the next parent\n",
    "                parentScore = childScore\n",
    "                parentAlphabet = childAlphabet[:]\n",
    "                count = 0\n",
    "            \n",
    "            count = count + 1\n",
    "            \n",
    "        if parentScore > maxScore:\n",
    "            print('\\n------------ Iterarion {}'.format(realization))\n",
    "            print('Score: {}'.format(parentScore))\n",
    "            print('Key: {}'.format(parentAlphabet))\n",
    "            print('Potential plain text:\\n{}'.format(Decrypt_KeywordSubCipher(cipherText, plainAlphabet, parentAlphabet)))\n",
    "            print('------------\\n')\n",
    "            maxScore = parentScore\n",
    "            maxAlphabet = parentAlphabet\n",
    "    "
   ]
  },
  {
   "cell_type": "code",
   "execution_count": 207,
   "metadata": {
    "scrolled": true
   },
   "outputs": [],
   "source": [
    " # Read the quadgram frequencies\n",
    "quadgramsFreq = {}\n",
    "quadgramsText = open('english_quadgrams.txt')\n",
    "quadgramsTextLines = quadgramsText.readlines()\n",
    "\n",
    "for quadgram in quadgramsTextLines:\n",
    "    TextLine = quadgram.split(' ')\n",
    "    quadgramsFreq[TextLine[0]] = int(TextLine[1][:-1]) # Lines end in \\n character and we need to remove that\n",
    "\n",
    "totalQuadgrams = sum(quadgramsFreq.values())\n",
    "    \n",
    "quadgramsText.close()\n"
   ]
  },
  {
   "cell_type": "code",
   "execution_count": 216,
   "metadata": {},
   "outputs": [
    {
     "data": {
      "image/png": "[encoded data removed]",
      "text/plain": [
       "<Figure size 432x288 with 1 Axes>"
      ]
     },
     "metadata": {
      "needs_background": "light"
     },
     "output_type": "display_data"
    }
   ],
   "source": [
    "quads = ['TION', 'NTHE', 'THER', 'THAT', 'OFTH', 'FTHE', 'THES', 'WITH', 'INTH', 'ATIO', 'OTHE', 'TTHE', 'DTHE', 'INGT', 'ETHE', 'SAND', 'STHE', 'HERE', 'THEC', 'MENT', 'THEM', 'RTHE', 'THEP', 'FROM', 'THIS', 'TING']\n",
    "\n",
    "# fig = plt.figure(figsize=(10, 8), dpi=120, facecolor='w', edgecolor='k')\n",
    "for i,key in enumerate(quads):\n",
    "    bar = plt.bar(i,quadgramsFreq[key]/totalQuadgrams)\n",
    "\n",
    "xticks = plt.xticks(np.arange(len(quads)), quads)\n",
    "ylabel = plt.ylabel('Relative Frequency')\n",
    "plt.xticks(rotation=90)\n",
    "\n",
    "title = plt.title('English Quadgram Frequency')"
   ]
  },
  {
   "cell_type": "code",
   "execution_count": 174,
   "metadata": {},
   "outputs": [
    {
     "data": {
      "text/plain": [
       "'MHILY LZA ZBHL XBPZXBL MVYABUHL HWWPBZ JSHBKPBZ JHLJBZ\\n\\nKPJABT HYJHUBT LZA ULBAYVU'"
      ]
     },
     "execution_count": 174,
     "metadata": {},
     "output_type": "execute_result"
    }
   ],
   "source": [
    "cipherText = open('TheCipherTexts_CipherChallenge/Stage2.txt').read()\n",
    "cipherText"
   ]
  },
  {
   "cell_type": "markdown",
   "metadata": {},
   "source": [
    "## 3.2) Breaking a keyword substitution with a crib \n",
    "\n",
    "A `crib` is a word we think will likley be in the cipher text \n",
    "\n",
    "We can incrypt the crib using words from a dictionary and then check to see if each incrypted crib appears in the cipher text \n",
    "\n",
    "If we do see the incrypted-crib appear in the cipher text then we can try to decrypt the entire cipher text using the corresponding keyword \n",
    "\n",
    "Common words such as \"the\", \"he\", \"she\", \"their\" etc are all likley to appear in an english text \n",
    "But if we think that a certain specific word will appear in the text like expecting to see \"weather\" \"sunny\" or \"rain\" in a message from a weather statation we can try that as the crib"
   ]
  },
  {
   "cell_type": "code",
   "execution_count": 129,
   "metadata": {},
   "outputs": [],
   "source": [
    "def Break_KeyWordSubDictAttack(cipherText,dictionary=open('Resources/SampleTexts/englishWords3.txt').readlines(), plainAlphabet=englishAlphabet,knownLetterFrequencies=letterFrequencies_English):\n",
    "    '''\n",
    "    Break a keyword substitution cipher with a dictionary attack using \n",
    "    Chi-Squared statistics \n",
    "    - A \"key\" for this type of encryption consists of a keyword and a position\n",
    "       - keywords are taken from the dictionary \n",
    "    '''\n",
    "    \n",
    "    # How many keys to try without an improvement before giving up\n",
    "    # Here I am setting the tolerance to be ~half the number of possiblle keys\n",
    "    tolerance = 0.5*(len(dictionary)*(26-np.mean([len([i for i in line if i.isalpha()]) for line in dictionary])))\n",
    "    \n",
    "    bestKeyword = []\n",
    "    bestPosition = -1\n",
    "    bestScore = 99e9\n",
    "    \n",
    "    # How many keys have been tried since the last improvement\n",
    "    cnt = 0\n",
    "    \n",
    "    # Try words from the dictionary as the keyword \n",
    "    for keyword in dictionary:\n",
    "        keyword = ''.join([i for i in keyword if i.isalpha()])\n",
    "        \n",
    "        # Try each possible placement of the keyword\n",
    "        for position in range(0,len(plainAlphabet)-len(keyword)+1):\n",
    "            decryptTest = Decrypt_KeywordSubCipher(cipherText, keyword, position, plainAlphabet=englishAlphabet)\n",
    "            score = ChiSquaredStatistic(decryptTest, knownLetterFrequencies)\n",
    "            \n",
    "            if score < bestScore:\n",
    "                cnt = 0\n",
    "                bestKeyword = keyword\n",
    "                bestPosition = position\n",
    "                bestScore = score\n",
    "                \n",
    "                print(bestKeyword)\n",
    "            cnt += 1\n",
    "            if cnt >= tolerance:\n",
    "                    return bestKeyword,bestPosition, Decrypt_KeywordSubCipher(cipherText, bestKeyword, bestPosition, plainAlphabet=englishAlphabet)\n",
    "    \n"
   ]
  },
  {
   "cell_type": "code",
   "execution_count": 131,
   "metadata": {},
   "outputs": [
    {
     "name": "stdout",
     "output_type": "stream",
     "text": [
      "a\n",
      "a\n",
      "a\n",
      "a\n",
      "acedia\n",
      "ae\n",
      "aecidia\n"
     ]
    },
    {
     "data": {
      "text/plain": [
       "('aecidia',\n",
       " 10,\n",
       " 'ITWANADASKAODNTLSMYOIGHTESWIOHUDDPEDUODESHINCLVESNANHEHADDLOEOUMESLUNTIMENTHATNUMMESANTHEWIODAODSAIOPANHEDATTHEWIODLWHEFEASEDHAVIOGTLSETSEATTLTHENTLSM')"
      ]
     },
     "execution_count": 131,
     "metadata": {},
     "output_type": "execute_result"
    }
   ],
   "source": [
    "Break_KeyWordSubDictAttack(Incrypt_KeywordSubCipher(text, 'abc', 10))"
   ]
  },
  {
   "cell_type": "code",
   "execution_count": 302,
   "metadata": {},
   "outputs": [],
   "source": [
    "def Break_KeyWordSubDictAttackwCrib(cipherText,cribs,dictionary=open('Resources/SampleTexts/englishWords3.txt').readlines(), plainAlphabet=englishAlphabet,knownLetterFrequencies=letterFrequencies_English):\n",
    "    '''\n",
    "    Break a keyword substitution cipher with a dictionary attack using cribs\n",
    "   \n",
    "   - A \"key\" for this type of encryption consists of a keyword and a position\n",
    "       - keywords are taken from the dictionary \n",
    "       \n",
    "    - 'cribs' is a list of cribs to search for.  \n",
    "        - Please try to be certain that the message actually contains the cribs\n",
    "        - It is best to use as many cribs as you can\n",
    "    - \n",
    "    '''\n",
    "    \n",
    "    cribs = [''.join([ c.upper() for c in i if c.isalpha()]) for i in cribs]\n",
    "    \n",
    "    bestKeyword = ''\n",
    "    bestPosition = -1\n",
    "    bestScore = 0\n",
    " \n",
    "    # Try words from the dictionary as the keyword \n",
    "    for keyword in dictionary:\n",
    "        keyword = ''.join([i.upper() for i in keyword if i.isalpha()])   \n",
    "        # Try each possible placement of the keyword\n",
    "        for position in range(0,len(plainAlphabet)-len(keyword)+1):\n",
    "            \n",
    "            score = 0\n",
    "            for crib in cribs:\n",
    "#                 print(crib)\n",
    "                incryptedCrib = Incrypt_KeywordSubCipher(crib, keyword, position, plainAlphabet=englishAlphabet)\n",
    "#                 print(Incrypt_KeywordSubCipher('THE', 'CAT', 0))\n",
    "                \n",
    "                if cipherText.find(incryptedCrib) != -1:\n",
    "                    # The crib is in the cipher text\n",
    "                    score += 1\n",
    "            \n",
    "            if score == len(cribs):\n",
    "                # All of the incrypted cribs were found in the cipher text\n",
    "                return keyword, position, Decrypt_KeywordSubCipher(cipherText, keyword, position, plainAlphabet=englishAlphabet)\n",
    "            elif score > bestScore:\n",
    "                bestKeyword = keyword\n",
    "                bestPosition = position\n",
    "    \n",
    "    return bestKeyword, bestPosition, Decrypt_KeywordSubCipher(cipherText, bestKeyword, bestPosition, plainAlphabet=englishAlphabet)"
   ]
  },
  {
   "cell_type": "code",
   "execution_count": 6,
   "metadata": {},
   "outputs": [
    {
     "data": {
      "text/plain": [
       "'It was a dark and stormy night. Erwin huddled under his covers as he had done numerous times that\\nsummer. As the wind and rain lashed at the window, he feared having to retreat to the storm cellar\\nonce again. The residents of Erwin’s apartment building sought shelter whenever there were threats of\\ntornadoes in the area. While it was safe down there, Erwin feared the ridicule he would face once again\\nfrom the other school boys. In the rush to the cellar, Erwin seemed to always end up with a random\\npair of socks, and the other boys teased him about it mercilessly.\\nNot that Erwin hadn’t tried hard to solve this problem. He had a very simple collection of\\nsocks—black or white, for either school or play; short or long, for either trousers or lederhosen.\\nAfter the first few teasing episodes from the other boys, Erwin had sorted his socks into two separate\\ndrawers. He placed all the black socks in one drawer and all the white socks in another drawer.\\nErwin figured he could determine an individual sock’s length in the dark of night simply by feeling\\nit, but he had to have them presorted into white and black because the apartment generally lost\\npower before the call to the shelter.\\nUnfortunately, Erwin found that this presorting of the socks by color was ineffective. Whenever\\nhe reached into the white sock drawer and chose two long socks, or two short socks, there was a 50%\\nprobability of any one sock being black or white. The results from the black sock drawer were the\\nsame. The socks seemed to have “forgotten” the color that Erwin had determined previously.\\nErwin also tried sorting the socks into two drawers based upon their length, without regard to\\ncolor. When he chose black or white socks from these long and short drawers, the socks had also “forgotten”\\nwhether they were long or short.\\nAfter these fruitless attempts to solve his problem through experiments, Erwin decided to save\\nhimself the fashion embarrassment, and he replaced his sock collection with a set of medium length\\nbrown socks. However, he continued to ponder the mysteries of the socks throughout his childhood.\\nAfter many years of daydreaming about the mystery socks, Erwin Schrodinger proposed his theory\\nof “Quantum Socks” and become famous. And that is the beginning of the story of the quantum\\nsocks.'"
      ]
     },
     "execution_count": 6,
     "metadata": {},
     "output_type": "execute_result"
    }
   ],
   "source": [
    "text = prepareText(open('Resources/SampleTexts/QuantumPrologue.txt').read())\n",
    "cipherText = Incrypt_KeywordSubCipher(text, 'cat', 3)\n",
    "\n",
    "open('Resources/SampleTexts/QuantumPrologue.txt').read()"
   ]
  },
  {
   "cell_type": "code",
   "execution_count": 306,
   "metadata": {},
   "outputs": [
    {
     "data": {
      "text/plain": [
       "('CAT',\n",
       " 3,\n",
       " 'ITWASADARKANDSTORMYNIGHTERWINHUDDLEDUNDERHISCOVERSASHEHADDONENUMEROUSTIMESTHATSUMMERASTHEWINDANDRAINLASHEDATTHEWINDOWHEFEAREDHAVINGTORETREATTOTHESTORMCELLARONCEAGAINTHERESIDENTSOFERWINSAPARTMENTBUILDINGSOUGHTSHELTERWHENEVERTHEREWERETHREATSOFTORNADOESINTHEAREAWHILEITWASSAFEDOWNTHEREERWINFEAREDTHERIDICULEHEWOULDFACEONCEAGAINFROMTHEOTHERSCHOOLBOYSINTHERUSHTOTHECELLARERWINSEEMEDTOALWAYSENDUPWITHARANDOMPAIROFSOCKSANDTHEOTHERBOYSTEASEDHIMABOUTITMERCILESSLYNOTTHATERWINHADNTTRIEDHARDTOSOLVETHISPROBLEMHEHADAVERYSIMPLECOLLECTIONOFSOCKSBLACKORWHITEFOREITHERSCHOOLORPLAYSHORTORLONGFOREITHERTROUSERSORLEDERHOSENAFTERTHEFIRSTFEWTEASINGEPISODESFROMTHEOTHERBOYSERWINHADSORTEDHISSOCKSINTOTWOSEPARATEDRAWERSHEPLACEDALLTHEBLACKSOCKSINONEDRAWERANDALLTHEWHITESOCKSINANOTHERDRAWERERWINFIGUREDHECOULDDETERMINEANINDIVIDUALSOCKSLENGTHINTHEDARKOFNIGHTSIMPLYBYFEELINGITBUTHEHADTOHAVETHEMPRESORTEDINTOWHITEANDBLACKBECAUSETHEAPARTMENTGENERALLYLOSTPOWERBEFORETHECALLTOTHESHELTERUNFORTUNATELYERWINFOUNDTHATTHISPRESORTINGOFTHESOCKSBYCOLORWASINEFFECTIVEWHENEVERHEREACHEDINTOTHEWHITESOCKDRAWERANDCHOSETWOLONGSOCKSORTWOSHORTSOCKSTHEREWASAPROBABILITYOFANYONESOCKBEINGBLACKORWHITETHERESULTSFROMTHEBLACKSOCKDRAWERWERETHESAMETHESOCKSSEEMEDTOHAVEFORGOTTENTHECOLORTHATERWINHADDETERMINEDPREVIOUSLYERWINALSOTRIEDSORTINGTHESOCKSINTOTWODRAWERSBASEDUPONTHEIRLENGTHWITHOUTREGARDTOCOLORWHENHECHOSEBLACKORWHITESOCKSFROMTHESELONGANDSHORTDRAWERSTHESOCKSHADALSOFORGOTTENWHETHERTHEYWERELONGORSHORTAFTERTHESEFRUITLESSATTEMPTSTOSOLVEHISPROBLEMTHROUGHEXPERIMENTSERWINDECIDEDTOSAVEHIMSELFTHEFASHIONEMBARRASSMENTANDHEREPLACEDHISSOCKCOLLECTIONWITHASETOFMEDIUMLENGTHBROWNSOCKSHOWEVERHECONTINUEDTOPONDERTHEMYSTERIESOFTHESOCKSTHROUGHOUTHISCHILDHOODAFTERMANYYEARSOFDAYDREAMINGABOUTTHEMYSTERYSOCKSERWINSCHRODINGERPROPOSEDHISTHEORYOFQUANTUMSOCKSANDBECOMEFAMOUSANDTHATISTHEBEGINNINGOFTHESTORYOFTHEQUANTUMSOCKS')"
      ]
     },
     "execution_count": 306,
     "metadata": {},
     "output_type": "execute_result"
    }
   ],
   "source": [
    "Break_KeyWordSubDictAttackwCrib(cipherText,('socks','erwin','color','he', 'the', 'their', 'it','and', 'or'))"
   ]
  },
  {
   "cell_type": "markdown",
   "metadata": {},
   "source": [
    "## 3.3) Breaking a substitution with matched frequencies\n",
    "\n"
   ]
  },
  {
   "cell_type": "code",
   "execution_count": 61,
   "metadata": {},
   "outputs": [],
   "source": [
    "def bestMatchedFreq(letterFreq, knownLetterFrequencies=letterFrequencies_English):\n",
    "    \n",
    "    # ordered highest freq to lowest\n",
    "    knownLetterFrequencies = {k: v for k, v in sorted(knownLetterFrequencies.items(), key=lambda item: item[1], reverse=True)}\n",
    "    letterFreq = {k: v for k, v in sorted(letterFreq.items(), key=lambda item: item[1], reverse=True)}\n",
    "\n",
    "    bestMatches = {}\n",
    "    for key, value in letterFreq.items():\n",
    "        minimum = 1\n",
    "        for knownKey, knownValue in knownLetterFrequencies.items():\n",
    "            if abs(value - knownValue ) < minimum and knownKey not in list(bestMatches.values()):\n",
    "                minimum = abs(value - knownValue )\n",
    "                bestMatches[ key.upper() ] = knownKey\n",
    "\n",
    "\n",
    "    \n",
    "    return bestMatches\n",
    "    "
   ]
  },
  {
   "cell_type": "code",
   "execution_count": 64,
   "metadata": {},
   "outputs": [],
   "source": [
    "text = prepareText(open('Resources/SampleTexts/QuantumPrologue.txt').read())\n",
    "cipherText = Incrypt_KeywordSubCipher(text, 'cat', 3)\n",
    "# open('Resources/SampleTexts/QuantumPrologue.txt').read()"
   ]
  },
  {
   "cell_type": "code",
   "execution_count": 67,
   "metadata": {},
   "outputs": [
    {
     "data": {
      "text/plain": [
       "{'A': 'e',\n",
       " 'B': 'p',\n",
       " 'C': 'd',\n",
       " 'D': 'n',\n",
       " 'E': 'h',\n",
       " 'G': 'b',\n",
       " 'H': 'l',\n",
       " 'I': 'g',\n",
       " 'J': 'r',\n",
       " 'K': 'a',\n",
       " 'L': 'w',\n",
       " 'M': 'q',\n",
       " 'N': 'o',\n",
       " 'O': 'i',\n",
       " 'P': 't',\n",
       " 'Q': 'y',\n",
       " 'R': 'j',\n",
       " 'S': 'u',\n",
       " 'T': 'f',\n",
       " 'U': 'z',\n",
       " 'V': 'k',\n",
       " 'X': 's',\n",
       " 'Y': 'v',\n",
       " 'Z': 'c'}"
      ]
     },
     "execution_count": 67,
     "metadata": {},
     "output_type": "execute_result"
    }
   ],
   "source": [
    "l = bestMatchedFreq(letterFrequencies(cipherText))\n",
    "dict(sorted(l.items()))"
   ]
  },
  {
   "cell_type": "code",
   "execution_count": null,
   "metadata": {},
   "outputs": [],
   "source": [
    "[  ]"
   ]
  }
 ],
 "metadata": {
  "kernelspec": {
   "display_name": "Python 3 (ipykernel)",
   "language": "python",
   "name": "python3"
  },
  "language_info": {
   "codemirror_mode": {
    "name": "ipython",
    "version": 3
   },
   "file_extension": ".py",
   "mimetype": "text/x-python",
   "name": "python",
   "nbconvert_exporter": "python",
   "pygments_lexer": "ipython3",
   "version": "3.8.11"
  }
 },
 "nbformat": 4,
 "nbformat_minor": 4
}
