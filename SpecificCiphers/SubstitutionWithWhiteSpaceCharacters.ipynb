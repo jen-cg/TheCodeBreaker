{
 "cells": [
  {
   "cell_type": "markdown",
   "metadata": {},
   "source": [
    "# Code Breaking Part 3: Substitution Ciphers with whitespace Characters\n",
    "\n",
    "\n",
    "whitespaces in the plain text have been coded with a symbol\n",
    "\n",
    "**Easy Example**\n",
    "White space is given a special character\n",
    "\n",
    "Number | 0 | 1 | 2 | 3 | 4 | 5 | 6 | 7 | 8 | 9 | 10| 11| 12 |13 |14 |15 |16| 17|18 |19 |20 |21 |22 |23 |24| 25| 26|\n",
    "---| --- | --- | --- | --- | --- | --- | --- | --- | --- | --- | ---| ---| --- |--- |--- |--- |---| ---|--- |--- |--- |--- |--- |--- |---| ---| ---|\n",
    "Plain Alphabet| a |b | c |d | e | f | g | h | i | j | k | l | m |n |o |p |q |r |s |t |u |v |w |x |y |z | | \n",
    "Cipher Alphabet| Z | X | W |K | Y | L | D | J | M | I | B | R | N |F |G |T |A |Q |P |C |E |S |H |O |U |V | # |\n",
    "\n",
    "**Harder Example**\n",
    "White space is denoted as a letter\n",
    "\n",
    "Number | 0 | 1 | 2 | 3 | 4 | 5 | 6 | 7 | 8 | 9 | 10| 11| 12 |13 |14 |15 |16| 17|18 |19 |20 |21 |22 |23 |24| 25| 26|\n",
    "---| --- | --- | --- | --- | --- | --- | --- | --- | --- | --- | ---| ---| --- |--- |--- |--- |---| ---|--- |--- |--- |--- |--- |--- |---| ---| ---|\n",
    "Plain Alphabet| a |b | c |d | e | f | g | h | i | j | k | l | m |n |o |p |q |r |s |t |u |v |w |x |y |z | | \n",
    "Cipher Alphabet| Z | X | W |K | Y | L | D | J | M | I | B | + | N |F |G |T |A |Q |P |C |E |S |H |O |U |V | R |\n",
    "\n",
    "\n"
   ]
  },
  {
   "cell_type": "code",
   "execution_count": 1,
   "metadata": {},
   "outputs": [],
   "source": [
    "import numpy as np\n",
    "import matplotlib.pyplot as plt\n",
    "from math import log10\n",
    "import pandas as pd\n",
    "import random\n",
    "from Functions import *"
   ]
  },
  {
   "cell_type": "code",
   "execution_count": 65,
   "metadata": {},
   "outputs": [],
   "source": [
    "plainAlphabet= list('abcdefghijklmnopqrstuvwxyz')"
   ]
  },
  {
   "cell_type": "code",
   "execution_count": 3,
   "metadata": {},
   "outputs": [],
   "source": [
    "def prepareText_keepSpaces(text):\n",
    "    '''\n",
    "    This is a function to prepare a cipher text, \n",
    "    written in alphabetic characters, for analysis when we want to preserve space\n",
    "    \n",
    "    It does this by:\n",
    "    1) removing all punctuation, whitespace, and nonalphabetic characters\n",
    "    2) changing all alphabetic characters to upper case\n",
    "    '''\n",
    "    \n",
    "    preparedText = ''\n",
    "    for item in list(text):\n",
    "        if item.isalpha() or item == ' ':\n",
    "            preparedText = preparedText + item.upper()\n",
    "    return preparedText"
   ]
  },
  {
   "cell_type": "markdown",
   "metadata": {},
   "source": [
    "## Step 1) Encrypt the message\n",
    "\n",
    "Lets encrypt using a random substituion with whitespaces replaced with a symbol"
   ]
  },
  {
   "cell_type": "code",
   "execution_count": 192,
   "metadata": {},
   "outputs": [],
   "source": [
    "def Incrypt_RandomSubCipherWhiteSpace(plainText, plainAlphabet):\n",
    "    \n",
    "    # Add space character to the end of the plain alphabet\n",
    "    plainAlphabet_withspace = plainAlphabet.copy()\n",
    "    plainAlphabet_withspace.append(' ')\n",
    "    \n",
    "    # The cipher alphabet is the plain alphabet plus some special character randomly shuffled\n",
    "    cipherAlphabet = plainAlphabet.copy()\n",
    "    specialCharacters = list(\"!@#$%^&*_+:;<>?,./~\") \n",
    "    cipherAlphabet.append(specialCharacters[ random.randint(0,len(specialCharacters)-1) ]) # Here we pick a random special character\n",
    "    random.shuffle(cipherAlphabet)\n",
    "\n",
    "    key = {}\n",
    "    for i in range(len(plainAlphabet_withspace)):\n",
    "        key[plainAlphabet_withspace[i].upper()] = cipherAlphabet[i].upper()\n",
    "\n",
    "    cipherText = ''\n",
    "\n",
    "    for plainCharacter in plainText:\n",
    "\n",
    "        # We will translate all letters from the plain alphabet into the cipher alphabet\n",
    "        if plainCharacter.isalpha() or plainCharacter == ' ':  \n",
    "            cipherCharacter = key[plainCharacter]\n",
    "            cipherText = cipherText + cipherCharacter\n",
    "            \n",
    "        # All other characters will just be copied over\n",
    "        else:\n",
    "            cipherText = cipherText + plainCharacter\n",
    "    \n",
    "    return cipherText, cipherAlphabet"
   ]
  },
  {
   "cell_type": "code",
   "execution_count": 266,
   "metadata": {
    "scrolled": true
   },
   "outputs": [
    {
     "name": "stdout",
     "output_type": "stream",
     "text": [
      "YSH>QGS>QTSFFBGA ['s', 'c', 'y', 'k', 'g', 'f', 'x', 'w', 'o', 'm', 'u', 'b', 'e', 'h', 'z', 'r', 'j', 'd', 'a', '>', 'l', 'v', 't', 'p', 'n', 'i', 'q']\n"
     ]
    }
   ],
   "source": [
    "cipherText,cipherAlphabet = Incrypt_RandomSubCipherWhiteSpace(prepareText_keepSpaces(\"CAN'T EAT WAFFLES\"), plainAlphabet)\n",
    "print(cipherText,cipherAlphabet)"
   ]
  },
  {
   "cell_type": "markdown",
   "metadata": {},
   "source": [
    "## Step 2) De-encrypt the cipher text\n",
    "\n",
    "Here we will assume that we know the key and encryption method.\n",
    "We essentially repeat the steps of encrypting the text but in reverse"
   ]
  },
  {
   "cell_type": "code",
   "execution_count": 194,
   "metadata": {},
   "outputs": [],
   "source": [
    "def Decrypt_RandomSubCipherWhiteSpace(cipherText, plainAlphabet, cipherAlphabet):\n",
    "    \n",
    "    plainAlphabet_withspace = plainAlphabet.copy()\n",
    "    plainAlphabet_withspace.append(' ')\n",
    "\n",
    "    \n",
    "    key = {}\n",
    "    \n",
    "    for i in range(len(plainAlphabet_withspace)):\n",
    "        key[cipherAlphabet[i].upper()] = plainAlphabet_withspace[i].upper()\n",
    "    \n",
    "    plainText = ''\n",
    "\n",
    "    for cipherCharacter in cipherText:\n",
    "\n",
    "        # We will translate all letters from the cipher alphabet into the plain alphabet\n",
    "        if cipherCharacter in key.keys():  \n",
    "            plainCharacter = key[cipherCharacter.upper()]\n",
    "            plainText = plainText + plainCharacter\n",
    "\n",
    "        # All other characters will just be copied over\n",
    "        else:\n",
    "            plainText = plainText + cipherCharacter\n",
    "    \n",
    "    return plainText"
   ]
  },
  {
   "cell_type": "code",
   "execution_count": 195,
   "metadata": {},
   "outputs": [
    {
     "data": {
      "text/plain": [
       "'CANT EAT WAFFLES'"
      ]
     },
     "execution_count": 195,
     "metadata": {},
     "output_type": "execute_result"
    }
   ],
   "source": [
    "Decrypt_RandomSubCipherWhiteSpace(cipherText, plainAlphabet, cipherAlphabet)"
   ]
  },
  {
   "cell_type": "markdown",
   "metadata": {},
   "source": [
    "## Step 3)  Let's try to break the encryption (pretend we do not know the shift/key)"
   ]
  },
  {
   "cell_type": "code",
   "execution_count": 210,
   "metadata": {},
   "outputs": [
    {
     "name": "stdout",
     "output_type": "stream",
     "text": [
      "-18345.811606804546\n",
      "LMCKNOCNCPNAICNFPCOMWAEDCFLJZMCRAKLFCZSPPYRPCSFPRACZLOCVWGRAOCNOCZRCZNPCPWFRCFSERAWSOCMLEROCMZNMOSEERACNOCMZRCKLFPCNFPCANLFCYNOZRPCNMCMZRCKLFPWKCZRCURNARPCZNGLFJCMWCARMARNMCMWCMZRCOMWAECVRYYNAWFVRCNJNLFCMZRCAROLPRFMOCWUCRAKLFOCNHNAMERFMCBSLYPLFJCOWSJZMCOZRYMRACKZRFRGRACMZRARCKRARCMZARNMOCWUMWAFNPWROCLFCMZRCNARNCKZLYRCLMCKNOCONURCPWKFCMZRARCRAKLFCURNARPCMZRCALPLVSYRCZRCKWSYPCUNVRCWFVRCNJNLFUAWECMZRCWMZRACOVZWWYCBWDOCLFCMZRCASOZCMWCMZRCVRYYNACRAKLFCORRERPCMWCNYKNDOCRFPCSHCKLMZCNCANFPWEHNLACWUCOWVIOCNFPCMZRCWMZRACBWDOCMRNORPCZLECNBWSMCLMCERAVLYROOYDFWMCMZNMCRAKLFCZNPFMCMALRPCZNAPCMWCOWYGRCMZLOCHAWBYRECZRCZNPCNCGRADCOLEHYRCVWYYRVMLWFCWUOWVIOBYNVICWACKZLMRCUWACRLMZRACOVZWWYCWACHYNDCOZWAMCWACYWFJCUWACRLMZRACMAWSORAOCWACYRPRAZWORFNUMRACMZRCULAOMCURKCMRNOLFJCRHLOWPROCUAWECMZRCWMZRACBWDOCRAKLFCZNPCOWAMRPCZLOCOWVIOCLFMWCMKWCORHNANMRPANKRAOCZRCHYNVRPCNYYCMZRCBYNVICOWVIOCLFCWFRCPANKRACNFPCNYYCMZRCKZLMRCOWVIOCLFCNFWMZRACPANKRARAKLFCULJSARPCZRCVWSYPCPRMRAELFRCNFCLFPLGLPSNYCOWVIOCYRFJMZCLFCMZRCPNAICWUCFLJZMCOLEHYDCBDCURRYLFJLMCBSMCZRCZNPCMWCZNGRCMZRECHAROWAMRPCLFMWCKZLMRCNFPCBYNVICBRVNSORCMZRCNHNAMERFMCJRFRANYYDCYWOMHWKRACBRUWARCMZRCVNYYCMWCMZRCOZRYMRASFUWAMSFNMRYDCRAKLFCUWSFPCMZNMCMZLOCHAROWAMLFJCWUCMZRCOWVIOCBDCVWYWACKNOCLFRUURVMLGRCKZRFRGRAZRCARNVZRPCLFMWCMZRCKZLMRCOWVICPANKRACNFPCVZWORCMKWCYWFJCOWVIOCWACMKWCOZWAMCOWVIOCMZRARCKNOCNCHAWBNBLYLMDCWUCNFDCWFRCOWVICBRLFJCBYNVICWACKZLMRCMZRCAROSYMOCUAWECMZRCBYNVICOWVICPANKRACKRARCMZRONERCMZRCOWVIOCORRERPCMWCZNGRCUWAJWMMRFCMZRCVWYWACMZNMCRAKLFCZNPCPRMRAELFRPCHARGLWSOYDRAKLFCNYOWCMALRPCOWAMLFJCMZRCOWVIOCLFMWCMKWCPANKRAOCBNORPCSHWFCMZRLACYRFJMZCKLMZWSMCARJNAPCMWVWYWACKZRFCZRCVZWORCBYNVICWACKZLMRCOWVIOCUAWECMZRORCYWFJCNFPCOZWAMCPANKRAOCMZRCOWVIOCZNPCNYOWCUWAJWMMRFKZRMZRACMZRDCKRARCYWFJCWACOZWAMNUMRACMZRORCUASLMYROOCNMMREHMOCMWCOWYGRCZLOCHAWBYRECMZAWSJZCRXHRALERFMOCRAKLFCPRVLPRPCMWCONGRZLEORYUCMZRCUNOZLWFCREBNAANOOERFMCNFPCZRCARHYNVRPCZLOCOWVICVWYYRVMLWFCKLMZCNCORMCWUCERPLSECYRFJMZBAWKFCOWVIOCZWKRGRACZRCVWFMLFSRPCMWCHWFPRACMZRCEDOMRALROCWUCMZRCOWVIOCMZAWSJZWSMCZLOCVZLYPZWWPNUMRACENFDCDRNAOCWUCPNDPARNELFJCNBWSMCMZRCEDOMRADCOWVIOCRAKLFCOVZAWPLFJRACHAWHWORPCZLOCMZRWADWUC.SNFMSECOWVIOCNFPCBRVWERCUNEWSOCNFPCMZNMCLOCMZRCBRJLFFLFJCWUCMZRCOMWADCWUCMZRC.SNFMSEOWVIO\n"
     ]
    }
   ],
   "source": [
    "# Here I am using the prologue to Quantum Mechanics by McIntyre as a sample text.  \n",
    "# I apply a random shift incryption with white space characters\n",
    "cipherText = removeCharacter( open('SampleTexts/QuantumPrologue.txt').read() , '\\n')\n",
    "\n",
    "cipherText, cipherAlphabet = Incrypt_RandomSubCipherWhiteSpace(prepareText_keepSpaces(cipherText), plainAlphabet  )\n",
    "print(cipherText)"
   ]
  },
  {
   "cell_type": "code",
   "execution_count": 212,
   "metadata": {},
   "outputs": [],
   "source": [
    "def removeCharacter( text , character):\n",
    "    modifiedText = ''\n",
    "    \n",
    "    for item in list(text):\n",
    "        if item != character:\n",
    "            modifiedText = modifiedText + item\n",
    "            \n",
    "    return modifiedText"
   ]
  },
  {
   "cell_type": "code",
   "execution_count": 213,
   "metadata": {},
   "outputs": [
    {
     "data": {
      "text/plain": [
       "<matplotlib.legend.Legend at 0x7fd6106a6070>"
      ]
     },
     "execution_count": 213,
     "metadata": {},
     "output_type": "execute_result"
    },
    {
     "data": {
      "image/png": "[encoded data removed]",
      "text/plain": [
       "<Figure size 432x288 with 1 Axes>"
      ]
     },
     "metadata": {
      "needs_background": "light"
     },
     "output_type": "display_data"
    }
   ],
   "source": [
    "letterFrequencies_sampleText = letterFrequencies( cipherText )\n",
    "\n",
    "for i,key in enumerate(letterFrequencies_sampleText):\n",
    "    bar = plt.bar(i,letterFrequencies_sampleText[key])\n",
    "\n",
    "xticks = plt.xticks(np.arange(len(letterFrequencies_sampleText.keys())),letterFrequencies_sampleText.keys())\n",
    "ylabel = plt.ylabel('Relative Frequency')\n",
    "title = plt.title('Letter Frequency')\n",
    "plt.hlines(0.12702, 0,len(letterFrequencies_sampleText.keys()),color='black',label='Letter frequency e in English')\n",
    "plt.legend()"
   ]
  },
  {
   "cell_type": "markdown",
   "metadata": {},
   "source": [
    "Oh - thats totally not weird at all.   \n",
    "There is a certain character which appears wayy more frequently than any others\n",
    "\n",
    "In fact it appears wayy more often than any character does in normal english! e is the most commonly occuring letter in english, and it only appears with a frequency of 0.12 !   \n",
    "\n",
    "Let's see what happens if we assume that this letter is a space"
   ]
  },
  {
   "cell_type": "code",
   "execution_count": 214,
   "metadata": {},
   "outputs": [
    {
     "data": {
      "text/plain": [
       "'c'"
      ]
     },
     "execution_count": 214,
     "metadata": {},
     "output_type": "execute_result"
    }
   ],
   "source": [
    "mostFrequentCharacter = [ key for key in letterFrequencies_sampleText if letterFrequencies_sampleText[key] == max(letterFrequencies_sampleText.values()) ][0]\n",
    "mostFrequentCharacter"
   ]
  },
  {
   "cell_type": "code",
   "execution_count": 215,
   "metadata": {},
   "outputs": [
    {
     "data": {
      "text/plain": [
       "'LMKNONPNAINFPOMWAEDFLJZMRAKLFZSPPYRPSFPRAZLOVWGRAONOZRZNPPWFRFSERAWSOMLEROMZNMOSEERANOMZRKLFPNFPANLFYNOZRPNMMZRKLFPWKZRURNARPZNGLFJMWARMARNMMWMZROMWAEVRYYNAWFVRNJNLFMZRAROLPRFMOWURAKLFONHNAMERFMBSLYPLFJOWSJZMOZRYMRAKZRFRGRAMZRARKRARMZARNMOWUMWAFNPWROLFMZRNARNKZLYRLMKNOONURPWKFMZRARRAKLFURNARPMZRALPLVSYRZRKWSYPUNVRWFVRNJNLFUAWEMZRWMZRAOVZWWYBWDOLFMZRASOZMWMZRVRYYNARAKLFORRERPMWNYKNDORFPSHKLMZNANFPWEHNLAWUOWVIONFPMZRWMZRABWDOMRNORPZLENBWSMLMERAVLYROOYDFWMMZNMRAKLFZNPFMMALRPZNAPMWOWYGRMZLOHAWBYREZRZNPNGRADOLEHYRVWYYRVMLWFWUOWVIOBYNVIWAKZLMRUWARLMZRAOVZWWYWAHYNDOZWAMWAYWFJUWARLMZRAMAWSORAOWAYRPRAZWORFNUMRAMZRULAOMURKMRNOLFJRHLOWPROUAWEMZRWMZRABWDORAKLFZNPOWAMRPZLOOWVIOLFMWMKWORHNANMRPANKRAOZRHYNVRPNYYMZRBYNVIOWVIOLFWFRPANKRANFPNYYMZRKZLMROWVIOLFNFWMZRAPANKRARAKLFULJSARPZRVWSYPPRMRAELFRNFLFPLGLPSNYOWVIOYRFJMZLFMZRPNAIWUFLJZMOLEHYDBDURRYLFJLMBSMZRZNPMWZNGRMZREHAROWAMRPLFMWKZLMRNFPBYNVIBRVNSORMZRNHNAMERFMJRFRANYYDYWOMHWKRABRUWARMZRVNYYMWMZROZRYMRASFUWAMSFNMRYDRAKLFUWSFPMZNMMZLOHAROWAMLFJWUMZROWVIOBDVWYWAKNOLFRUURVMLGRKZRFRGRAZRARNVZRPLFMWMZRKZLMROWVIPANKRANFPVZWORMKWYWFJOWVIOWAMKWOZWAMOWVIOMZRARKNONHAWBNBLYLMDWUNFDWFROWVIBRLFJBYNVIWAKZLMRMZRAROSYMOUAWEMZRBYNVIOWVIPANKRAKRARMZRONERMZROWVIOORRERPMWZNGRUWAJWMMRFMZRVWYWAMZNMRAKLFZNPPRMRAELFRPHARGLWSOYDRAKLFNYOWMALRPOWAMLFJMZROWVIOLFMWMKWPANKRAOBNORPSHWFMZRLAYRFJMZKLMZWSMARJNAPMWVWYWAKZRFZRVZWORBYNVIWAKZLMROWVIOUAWEMZRORYWFJNFPOZWAMPANKRAOMZROWVIOZNPNYOWUWAJWMMRFKZRMZRAMZRDKRARYWFJWAOZWAMNUMRAMZRORUASLMYROONMMREHMOMWOWYGRZLOHAWBYREMZAWSJZRXHRALERFMORAKLFPRVLPRPMWONGRZLEORYUMZRUNOZLWFREBNAANOOERFMNFPZRARHYNVRPZLOOWVIVWYYRVMLWFKLMZNORMWUERPLSEYRFJMZBAWKFOWVIOZWKRGRAZRVWFMLFSRPMWHWFPRAMZREDOMRALROWUMZROWVIOMZAWSJZWSMZLOVZLYPZWWPNUMRAENFDDRNAOWUPNDPARNELFJNBWSMMZREDOMRADOWVIORAKLFOVZAWPLFJRAHAWHWORPZLOMZRWADWU.SNFMSEOWVIONFPBRVWERUNEWSONFPMZNMLOMZRBRJLFFLFJWUMZROMWADWUMZR.SNFMSEOWVIO'"
      ]
     },
     "execution_count": 215,
     "metadata": {},
     "output_type": "execute_result"
    }
   ],
   "source": [
    "cipherText_removed = removeCharacter(cipherText, mostFrequentCharacter.upper() )\n",
    "cipherText_removed"
   ]
  },
  {
   "cell_type": "code",
   "execution_count": 216,
   "metadata": {},
   "outputs": [
    {
     "data": {
      "text/plain": [
       "<matplotlib.legend.Legend at 0x7fd603d710d0>"
      ]
     },
     "execution_count": 216,
     "metadata": {},
     "output_type": "execute_result"
    },
    {
     "data": {
      "image/png": "[encoded data removed]",
      "text/plain": [
       "<Figure size 432x288 with 1 Axes>"
      ]
     },
     "metadata": {
      "needs_background": "light"
     },
     "output_type": "display_data"
    }
   ],
   "source": [
    "letterFrequencies_sampleText = letterFrequencies( cipherText_removed )\n",
    "\n",
    "for i,key in enumerate(letterFrequencies_sampleText):\n",
    "    bar = plt.bar(i,letterFrequencies_sampleText[key])\n",
    "\n",
    "xticks = plt.xticks(np.arange(len(letterFrequencies_sampleText.keys())),letterFrequencies_sampleText.keys())\n",
    "ylabel = plt.ylabel('Relative Frequency')\n",
    "title = plt.title('Letter Frequency')\n",
    "plt.hlines(0.12702, 0,len(letterFrequencies_sampleText.keys()),color='black',label='Letter frequency e in English')\n",
    "plt.legend()"
   ]
  },
  {
   "cell_type": "code",
   "execution_count": 226,
   "metadata": {},
   "outputs": [],
   "source": [
    "def findAlphabet(text):\n",
    "    'Assumes all characters not in the alphabet (ie  white space and punctuation) has been removed'\n",
    "    \n",
    "    alphabet = []\n",
    "    \n",
    "    for character in text:\n",
    "        if character not in alphabet:\n",
    "            alphabet.append(character)\n",
    "            \n",
    "    return alphabet\n",
    "\n",
    "\n",
    "def makeAlphabetic( text, plainAlphabet):\n",
    "    '''Assume that all white space and puncutation has been removed'''\n",
    "    \n",
    "    textAlphabet = findAlphabet(text)\n",
    "    \n",
    "    charactersNotInText = [ character.upper() for character in plainAlphabet if character.upper() not in textAlphabet]\n",
    "    \n",
    "    nonAlphabetic = [character for character in textAlphabet if character.isalpha()== False]\n",
    "        \n",
    "    key = {}\n",
    "    for character in textAlphabet:\n",
    "        key[character] = character\n",
    "    for i in range(len(nonAlphabetic)):\n",
    "        key[nonAlphabetic[i]] = charactersNotInText[i]\n",
    "    \n",
    "    alphabeticText = ''\n",
    "    for character in text:\n",
    "        alphabeticText = alphabeticText +  key[character] \n",
    "\n",
    "    \n",
    "    return alphabeticText, key"
   ]
  },
  {
   "cell_type": "code",
   "execution_count": 230,
   "metadata": {},
   "outputs": [
    {
     "data": {
      "text/plain": [
       "'LMKNONPNAINFPOMWAEDFLJZMRAKLFZSPPYRPSFPRAZLOVWGRAONOZRZNPPWFRFSERAWSOMLEROMZNMOSEERANOMZRKLFPNFPANLFYNOZRPNMMZRKLFPWKZRURNARPZNGLFJMWARMARNMMWMZROMWAEVRYYNAWFVRNJNLFMZRAROLPRFMOWURAKLFONHNAMERFMBSLYPLFJOWSJZMOZRYMRAKZRFRGRAMZRARKRARMZARNMOWUMWAFNPWROLFMZRNARNKZLYRLMKNOONURPWKFMZRARRAKLFURNARPMZRALPLVSYRZRKWSYPUNVRWFVRNJNLFUAWEMZRWMZRAOVZWWYBWDOLFMZRASOZMWMZRVRYYNARAKLFORRERPMWNYKNDORFPSHKLMZNANFPWEHNLAWUOWVIONFPMZRWMZRABWDOMRNORPZLENBWSMLMERAVLYROOYDFWMMZNMRAKLFZNPFMMALRPZNAPMWOWYGRMZLOHAWBYREZRZNPNGRADOLEHYRVWYYRVMLWFWUOWVIOBYNVIWAKZLMRUWARLMZRAOVZWWYWAHYNDOZWAMWAYWFJUWARLMZRAMAWSORAOWAYRPRAZWORFNUMRAMZRULAOMURKMRNOLFJRHLOWPROUAWEMZRWMZRABWDORAKLFZNPOWAMRPZLOOWVIOLFMWMKWORHNANMRPANKRAOZRHYNVRPNYYMZRBYNVIOWVIOLFWFRPANKRANFPNYYMZRKZLMROWVIOLFNFWMZRAPANKRARAKLFULJSARPZRVWSYPPRMRAELFRNFLFPLGLPSNYOWVIOYRFJMZLFMZRPNAIWUFLJZMOLEHYDBDURRYLFJLMBSMZRZNPMWZNGRMZREHAROWAMRPLFMWKZLMRNFPBYNVIBRVNSORMZRNHNAMERFMJRFRANYYDYWOMHWKRABRUWARMZRVNYYMWMZROZRYMRASFUWAMSFNMRYDRAKLFUWSFPMZNMMZLOHAROWAMLFJWUMZROWVIOBDVWYWAKNOLFRUURVMLGRKZRFRGRAZRARNVZRPLFMWMZRKZLMROWVIPANKRANFPVZWORMKWYWFJOWVIOWAMKWOZWAMOWVIOMZRARKNONHAWBNBLYLMDWUNFDWFROWVIBRLFJBYNVIWAKZLMRMZRAROSYMOUAWEMZRBYNVIOWVIPANKRAKRARMZRONERMZROWVIOORRERPMWZNGRUWAJWMMRFMZRVWYWAMZNMRAKLFZNPPRMRAELFRPHARGLWSOYDRAKLFNYOWMALRPOWAMLFJMZROWVIOLFMWMKWPANKRAOBNORPSHWFMZRLAYRFJMZKLMZWSMARJNAPMWVWYWAKZRFZRVZWORBYNVIWAKZLMROWVIOUAWEMZRORYWFJNFPOZWAMPANKRAOMZROWVIOZNPNYOWUWAJWMMRFKZRMZRAMZRDKRARYWFJWAOZWAMNUMRAMZRORUASLMYROONMMREHMOMWOWYGRZLOHAWBYREMZAWSJZRXHRALERFMORAKLFPRVLPRPMWONGRZLEORYUMZRUNOZLWFREBNAANOOERFMNFPZRARHYNVRPZLOOWVIVWYYRVMLWFKLMZNORMWUERPLSEYRFJMZBAWKFOWVIOZWKRGRAZRVWFMLFSRPMWHWFPRAMZREDOMRALROWUMZROWVIOMZAWSJZWSMZLOVZLYPZWWPNUMRAENFDDRNAOWUPNDPARNELFJNBWSMMZREDOMRADOWVIORAKLFOVZAWPLFJRAHAWHWORPZLOMZRWADWUCSNFMSEOWVIONFPBRVWERUNEWSONFPMZNMLOMZRBRJLFFLFJWUMZROMWADWUMZRCSNFMSEOWVIO'"
      ]
     },
     "execution_count": 230,
     "metadata": {},
     "output_type": "execute_result"
    }
   ],
   "source": [
    "test, makeAlphabeticKey = makeAlphabetic( cipherText_removed , plainAlphabet)\n",
    "test"
   ]
  },
  {
   "cell_type": "code",
   "execution_count": 219,
   "metadata": {},
   "outputs": [
    {
     "name": "stdout",
     "output_type": "stream",
     "text": [
      "\n",
      "------------ Iterarion 0\n",
      "Score: -10066.71808240248\n",
      "Key: ['W', 'U', 'S', 'V', 'R', 'D', 'H', 'E', 'M', 'T', 'J', 'O', 'Y', 'P', 'L', 'K', 'Q', 'F', 'A', 'Z', 'N', 'G', 'B', 'C', 'I', 'X']\n",
      "Potential plain text:\n",
      "OIPULUNUSYURNLIASHFROKTIESPORTCNNMENCRNESTOLDAVESLULTETUNNARERCHESACLIOHELITUILCHHESULITEPORNURNSUORMULTENUIITEPORNAPTEBEUSENTUVORKIASEISEUIIAITELIASHDEMMUSARDEUKUORITESELONERILABESPORLUGUSIHERIWCOMNORKLACKTILTEMIESPTEREVESITESEPESEITSEUILABIASRUNAELORITEUSEUPTOMEOIPULLUBENAPRITESEESPORBEUSENITESONODCMETEPACMNBUDEARDEUKUORBSAHITEAITESLDTAAMWAFLORITESCLTIAITEDEMMUSESPORLEEHENIAUMPUFLERNCGPOITUSURNAHGUOSABLADYLURNITEAITESWAFLIEULENTOHUWACIOIHESDOMELLMFRAIITUIESPORTUNRIISOENTUSNIALAMVEITOLGSAWMEHTETUNUVESFLOHGMEDAMMEDIOARABLADYLWMUDYASPTOIEBASEOITESLDTAAMASGMUFLTASIASMARKBASEOITESISACLESLASMENESTALERUBIESITEBOSLIBEPIEULORKEGOLANELBSAHITEAITESWAFLESPORTUNLASIENTOLLADYLORIAIPALEGUSUIENSUPESLTEGMUDENUMMITEWMUDYLADYLORARENSUPESURNUMMITEPTOIELADYLORURAITESNSUPESESPORBOKCSENTEDACMNNEIESHOREURORNOVONCUMLADYLMERKITORITENUSYABROKTILOHGMFWFBEEMORKOIWCITETUNIATUVEITEHGSELASIENORIAPTOIEURNWMUDYWEDUCLEITEUGUSIHERIKERESUMMFMALIGAPESWEBASEITEDUMMIAITELTEMIESCRBASICRUIEMFESPORBACRNITUIITOLGSELASIORKABITELADYLWFDAMASPULOREBBEDIOVEPTEREVESTESEUDTENORIAITEPTOIELADYNSUPESURNDTALEIPAMARKLADYLASIPALTASILADYLITESEPULUGSAWUWOMOIFABURFARELADYWEORKWMUDYASPTOIEITESELCMILBSAHITEWMUDYLADYNSUPESPESEITELUHEITELADYLLEEHENIATUVEBASKAIIERITEDAMASITUIESPORTUNNEIESHORENGSEVOACLMFESPORUMLAISOENLASIORKITELADYLORIAIPANSUPESLWULENCGARITEOSMERKITPOITACISEKUSNIADAMASPTERTEDTALEWMUDYASPTOIELADYLBSAHITELEMARKURNLTASINSUPESLITELADYLTUNUMLABASKAIIERPTEITESITEFPESEMARKASLTASIUBIESITELEBSCOIMELLUIIEHGILIALAMVETOLGSAWMEHITSACKTEZGESOHERILESPORNEDONENIALUVETOHLEMBITEBULTOAREHWUSSULLHERIURNTESEGMUDENTOLLADYDAMMEDIOARPOITULEIABHENOCHMERKITWSAPRLADYLTAPEVESTEDARIORCENIAGARNESITEHFLIESOELABITELADYLITSACKTACITOLDTOMNTAANUBIESHURFFEUSLABNUFNSEUHORKUWACIITEHFLIESFLADYLESPORLDTSANORKESGSAGALENTOLITEASFABXCURICHLADYLURNWEDAHEBUHACLURNITUIOLITEWEKORRORKABITELIASFABITEXCURICHLADYL\n",
      "------------\n",
      "\n",
      "\n",
      "------------ Iterarion 1\n",
      "Score: -7649.277383281896\n",
      "Key: ['N', 'B', 'V', 'P', 'R', 'U', 'J', 'Z', 'L', 'T', 'I', 'Y', 'E', 'F', 'W', 'H', 'C', 'A', 'O', 'M', 'S', 'G', 'K', 'X', 'D', 'Q']\n",
      "Potential plain text:\n",
      "ITWASADARKANDSTORMYNIGHTERWINHUDDLEDUNDERHISCOVERSASHEHADDONENUMEROUSTIMESTHATSUMMERASTHEWINDANDRAINLASHEDATTHEWINDOWHEFEAREDHAVINGTORETREATTOTHESTORMCELLARONCEAGAINTHERESIDENTSOFERWINSAPARTMENTBUILDINGSOUGHTSHELTERWHENEVERTHEREWERETHREATSOFTORNADOESINTHEAREAWHILEITWASSAFEDOWNTHEREERWINFEAREDTHERIDICULEHEWOULDFACEONCEAGAINFROMTHEOTHERSCHOOLBOYSINTHERUSHTOTHECELLARERWINSEEMEDTOALWAYSENDUPWITHARANDOMPAIROFSOCKSANDTHEOTHERBOYSTEASEDHIMABOUTITMERCILESSLYNOTTHATERWINHADNTTRIEDHARDTOSOLVETHISPROBLEMHEHADAVERYSIMPLECOLLECTIONOFSOCKSBLACKORWHITEFOREITHERSCHOOLORPLAYSHORTORLONGFOREITHERTROUSERSORLEDERHOSENAFTERTHEFIRSTFEWTEASINGEPISODESFROMTHEOTHERBOYSERWINHADSORTEDHISSOCKSINTOTWOSEPARATEDRAWERSHEPLACEDALLTHEBLACKSOCKSINONEDRAWERANDALLTHEWHITESOCKSINANOTHERDRAWERERWINFIGUREDHECOULDDETERMINEANINDIVIDUALSOCKSLENGTHINTHEDARKOFNIGHTSIMPLYBYFEELINGITBUTHEHADTOHAVETHEMPRESORTEDINTOWHITEANDBLACKBECAUSETHEAPARTMENTGENERALLYLOSTPOWERBEFORETHECALLTOTHESHELTERUNFORTUNATELYERWINFOUNDTHATTHISPRESORTINGOFTHESOCKSBYCOLORWASINEFFECTIVEWHENEVERHEREACHEDINTOTHEWHITESOCKDRAWERANDCHOSETWOLONGSOCKSORTWOSHORTSOCKSTHEREWASAPROBABILITYOFANYONESOCKBEINGBLACKORWHITETHERESULTSFROMTHEBLACKSOCKDRAWERWERETHESAMETHESOCKSSEEMEDTOHAVEFORGOTTENTHECOLORTHATERWINHADDETERMINEDPREVIOUSLYERWINALSOTRIEDSORTINGTHESOCKSINTOTWODRAWERSBASEDUPONTHEIRLENGTHWITHOUTREGARDTOCOLORWHENHECHOSEBLACKORWHITESOCKSFROMTHESELONGANDSHORTDRAWERSTHESOCKSHADALSOFORGOTTENWHETHERTHEYWERELONGORSHORTAFTERTHESEFRUITLESSATTEMPTSTOSOLVEHISPROBLEMTHROUGHEXPERIMENTSERWINDECIDEDTOSAVEHIMSELFTHEFASHIONEMBARRASSMENTANDHEREPLACEDHISSOCKCOLLECTIONWITHASETOFMEDIUMLENGTHBROWNSOCKSHOWEVERHECONTINUEDTOPONDERTHEMYSTERIESOFTHESOCKSTHROUGHOUTHISCHILDHOODAFTERMANYYEARSOFDAYDREAMINGABOUTTHEMYSTERYSOCKSERWINSCHRODINGERPROPOSEDHISTHEORYOFQUANTUMSOCKSANDBECOMEFAMOUSANDTHATISTHEBEGINNINGOFTHESTORYOFTHEQUANTUMSOCKS\n",
      "------------\n",
      "\n"
     ]
    }
   ],
   "source": [
    "quadFreq = quadgramFrequencies()\n",
    "break_randomSubstitution( test, plainAlphabet, quadFreq )"
   ]
  },
  {
   "cell_type": "markdown",
   "metadata": {},
   "source": [
    "Of course, the key returned by the code to break a random sub cipher is not actually the key used to incrypt the message   \n",
    "The message may have contained a non-alphabetic character that we replaced with any of the characters in the alphabet that hadn't been used in the cipher text. \n",
    "We should change those characters back to being the original non-alphabetic characters\n",
    "\n",
    "This doesn't affect the decrypted message (we've already done that correclty)"
   ]
  },
  {
   "cell_type": "code",
   "execution_count": 243,
   "metadata": {},
   "outputs": [],
   "source": [
    "returnedAlphabet = ['N', 'B', 'V', 'P', 'R', 'U', 'J', 'Z', 'L', 'T', 'I', 'Y', 'E', 'F', 'W', 'H', 'C', 'A', 'O', 'M', 'S', 'G', 'K', 'X', 'D', 'Q']"
   ]
  },
  {
   "cell_type": "code",
   "execution_count": 264,
   "metadata": {},
   "outputs": [
    {
     "name": "stdout",
     "output_type": "stream",
     "text": [
      "['N', 'B', 'V', 'P', 'R', 'U', 'J', 'Z', 'L', 'T', 'I', 'Y', 'E', 'F', 'W', 'H', '.', 'A', 'O', 'M', 'S', 'G', 'K', 'X', 'D', 'Q']\n"
     ]
    }
   ],
   "source": [
    "finalAlphabet = returnedAlphabet.copy()\n",
    "for key in makeAlphabeticKey.keys():\n",
    "    if key.isalpha() == False:\n",
    "        ind = returnedAlphabet.index(makeAlphabeticKey[key])\n",
    "        finalAlphabet[ind] = key\n",
    "        \n",
    "finalAlphabet = finalAlphabet \n",
    "print(finalAlphabet)"
   ]
  },
  {
   "cell_type": "code",
   "execution_count": null,
   "metadata": {},
   "outputs": [],
   "source": []
  }
 ],
 "metadata": {
  "kernelspec": {
   "display_name": "Python 3",
   "language": "python",
   "name": "python3"
  },
  "language_info": {
   "codemirror_mode": {
    "name": "ipython",
    "version": 3
   },
   "file_extension": ".py",
   "mimetype": "text/x-python",
   "name": "python",
   "nbconvert_exporter": "python",
   "pygments_lexer": "ipython3",
   "version": "3.8.3"
  }
 },
 "nbformat": 4,
 "nbformat_minor": 4
}
