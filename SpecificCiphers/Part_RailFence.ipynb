{
 "cells": [
  {
   "cell_type": "markdown",
   "metadata": {},
   "source": [
    "# Code Breaking Part : Rail Fence Cipher\n",
    "\n",
    "The Rail-Fence cipher is a transposition cipher.  This means that all of the original characters remain the same but the ordering of the characters change\n",
    "\n",
    "Since the plain text characters are only shuffled the letter frequencies of a Rail Fence enciphered message should be ~ the same as english\n",
    "\n",
    "Plain text is encrypted by writing down $n$ rails than copying the plain text characters downwards and diagonally onto the rails.\n",
    "Then the cipher text is read by reading left to right along the rails\n",
    "\n",
    "We construct a matrix with n rows and m columns (where m is the length of the cipher text)\n",
    "- The key is the number of rows (n)\n",
    "\n",
    "The following code is based off of: https://github.com/jameslyons/pycipher/blob/master/pycipher/railfence.py"
   ]
  },
  {
   "cell_type": "code",
   "execution_count": 2,
   "metadata": {},
   "outputs": [],
   "source": [
    "from Resources.Functions import *"
   ]
  },
  {
   "cell_type": "markdown",
   "metadata": {},
   "source": [
    "## Step 1) Encrypt the message\n",
    "\n"
   ]
  },
  {
   "cell_type": "code",
   "execution_count": 148,
   "metadata": {},
   "outputs": [],
   "source": [
    "def Incrypt_RailFence(plainText, key):\n",
    "    \n",
    "    if key == 1:\n",
    "        return plainText\n",
    "\n",
    "    # Build the fence\n",
    "    fence = [ [None for i in range(len(plainText))] for rail in range(key) ]\n",
    "\n",
    "    # Starting position on the fence\n",
    "    row, column = 0,0\n",
    "    going_down = True\n",
    "\n",
    "    for i in range(len(plainText)):\n",
    "\n",
    "        # Place the character on the fence\n",
    "        fence[row][column] = plainText[i]\n",
    "\n",
    "        # Every time we place a new letter we move over 1 column\n",
    "        column += 1\n",
    "\n",
    "        if row == key - 1:\n",
    "            # then we are at the bottom of the fence and we need to move back up\n",
    "            going_down = False\n",
    "        if row == 0:\n",
    "            # Then we are at the top of the fence and we need to move down\n",
    "            going_down = True\n",
    "\n",
    "        if going_down == False:\n",
    "            row -= 1\n",
    "        else: \n",
    "            row += 1\n",
    "\n",
    "\n",
    "    return ''.join([c for c in np.array(fence).flatten() if c is not None])"
   ]
  },
  {
   "cell_type": "code",
   "execution_count": 149,
   "metadata": {},
   "outputs": [
    {
     "data": {
      "text/plain": [
       "'HoeWrlolld'"
      ]
     },
     "execution_count": 149,
     "metadata": {},
     "output_type": "execute_result"
    }
   ],
   "source": [
    "Incrypt_RailFence('HelloWorld', 4)"
   ]
  },
  {
   "cell_type": "markdown",
   "metadata": {},
   "source": [
    "## Step 2) Decrypt the message"
   ]
  },
  {
   "cell_type": "code",
   "execution_count": 212,
   "metadata": {},
   "outputs": [
    {
     "data": {
      "text/plain": [
       "'hlole'"
      ]
     },
     "execution_count": 212,
     "metadata": {},
     "output_type": "execute_result"
    }
   ],
   "source": [
    "def Decrypt_RailFence(cipherText, key):\n",
    "    \n",
    "    if key == 1:\n",
    "        return cipherText\n",
    "    \n",
    "    \n",
    "    # Build the fence\n",
    "    fence = [ [None for i in range(len(cipherText))] for rail in range(key) ]\n",
    "\n",
    "    # Starting position on the fence\n",
    "    row, column = 0,0\n",
    "    going_down = True\n",
    "\n",
    "    for i in range(len(cipherText)):\n",
    "\n",
    "        # Indicate spots where letters go on the fence\n",
    "        fence[row][column] = i\n",
    "\n",
    "        # Every time we place a new letter we move over 1 column\n",
    "        column += 1\n",
    "\n",
    "        if row == key - 1:\n",
    "            # then we are at the bottom of the fence and we need to move back up\n",
    "            going_down = False\n",
    "        if row == 0:\n",
    "            # Then we are at the top of the fence and we need to move down\n",
    "            going_down = True\n",
    "\n",
    "        if going_down == False:\n",
    "            row -= 1\n",
    "        else: \n",
    "            row += 1\n",
    "            \n",
    "    # Place the letters back on the fence\n",
    "    index = 0\n",
    "    order = []\n",
    "    for i in range(key):\n",
    "        for j in range(len(cipherText)):\n",
    "            if str(fence[i][j]).isnumeric() and index<len(cipherText):\n",
    "                order.append(fence[i][j])\n",
    "                fence[i][j] = cipherText[index]\n",
    "                index += 1\n",
    "\n",
    "    dictionary = {}\n",
    "    for i,c in enumerate([c for c in np.array(fence).flatten() if c is not None]):\n",
    "        dictionary[order[i]] = c\n",
    "        \n",
    "    return ''.join([dictionary[i] for i in range(len(cipherText)) ])\n",
    "    \n",
    "Decrypt_RailFence('hello', 3)"
   ]
  },
  {
   "cell_type": "markdown",
   "metadata": {},
   "source": [
    "## Step 3) Break the Code\n",
    "\n",
    "The Rail Fence cipher can be easily broken by trying every possible key and seeing how closley the result resembes english \n",
    "\n",
    "We are going to need to use quadgram statistics for this since the single letter frequencies will always resemble english\n",
    "\n",
    "- The total number of possible keys is the length of the text. Therefore, this method works best for messages of moderate length\n"
   ]
  },
  {
   "cell_type": "code",
   "execution_count": 218,
   "metadata": {},
   "outputs": [],
   "source": [
    "def Break_RailFence(cipherText, quadgramsFreq=quadgramFreq_English):\n",
    "    '''Break the Rail Fence cipher by trying all possible keys\n",
    "    - Please remove all non-text characters\n",
    "    - This method is fast and reliable for texts of about 500 characters or less\n",
    "    \n",
    "    If you have a longer text try extracting a section of ~500 characters and applying \n",
    "    this method to that section.  Once you find the key you can decipher the entire text quickly \n",
    "    '''\n",
    "    \n",
    "    bestKey = -99\n",
    "    bestScore = -99e9\n",
    "    \n",
    "    for key in range(1, len(cipherText)):\n",
    "        \n",
    "        decryptTest = Decrypt_RailFence(cipherText, key)\n",
    "\n",
    "        score = quadgramFitness(decryptTest, quadgramsFreq)\n",
    "        if score > bestScore:\n",
    "            bestKey = key\n",
    "            bestScore = score\n",
    "            \n",
    "    return bestKey,Decrypt_RailFence(cipherText,bestKey)"
   ]
  },
  {
   "cell_type": "code",
   "execution_count": null,
   "metadata": {},
   "outputs": [],
   "source": []
  },
  {
   "cell_type": "code",
   "execution_count": null,
   "metadata": {},
   "outputs": [],
   "source": []
  }
 ],
 "metadata": {
  "kernelspec": {
   "display_name": "Python 3 (ipykernel)",
   "language": "python",
   "name": "python3"
  },
  "language_info": {
   "codemirror_mode": {
    "name": "ipython",
    "version": 3
   },
   "file_extension": ".py",
   "mimetype": "text/x-python",
   "name": "python",
   "nbconvert_exporter": "python",
   "pygments_lexer": "ipython3",
   "version": "3.8.11"
  }
 },
 "nbformat": 4,
 "nbformat_minor": 4
}
