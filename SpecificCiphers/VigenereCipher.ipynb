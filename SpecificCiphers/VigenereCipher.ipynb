{
 "cells": [
  {
   "cell_type": "markdown",
   "metadata": {},
   "source": [
    "# Code Breaking Part 4: Vigenere Cipher\n",
    "\n",
    "The Vigenere Cipher uses several Caesar Shift Ciphers and a keyword to encrypt a message\n",
    "\n",
    "This is a polyalphabetic substitution cipher\n",
    "\n",
    "Note:\n",
    "- The Gronsfield cipher is a variant of the Vigenere cipher where the keyword is a sequence of numbers instead of letters"
   ]
  },
  {
   "cell_type": "code",
   "execution_count": 1,
   "metadata": {},
   "outputs": [],
   "source": [
    "from Resources.Functions import *"
   ]
  },
  {
   "cell_type": "markdown",
   "metadata": {},
   "source": [
    "## Step 1) Encrypt the message\n",
    "\n",
    "Say the plain text message is \n",
    ">HELLOWORLD\n",
    "\n",
    "and the keyword is\n",
    ">CIPHER\n",
    "\n",
    "First we repeat the keyword such that each letter in the plain text message corresponds to a letter in the keyword\n",
    "\n",
    "\n",
    "Repeated Keyword| C | I | P | H | E | R | C | I |P | H |\n",
    "---| --- | --- | --- | --- | --- | --- | --- | --- | --- | --- |\n",
    "Plain Text | H | E | L | L | O | W | O | R | L | D |\n",
    "\n",
    "We then encrypt each letter in the plain text according to the corresponding letter in the repeated keyword. \n",
    "Each letter gets encrypted via a Caesar shift that places the corresponding letter of the repeated keyword at the beginning of the cipher alphabat\n",
    "\n",
    "#### For example:\n",
    "\n",
    "The plain text letter **H** corresponds with the keyword letter **C**\n",
    "- A Caesar shift of 2 to the left places **C** at the beginning of the cipher alphabet and gives us:\n",
    "\n",
    "Number | 0 | 1 | 2 | 3 | 4 | 5 | 6 | 7 | 8 | 9 | 10| 11| 12 |13 |14 |15 |16| 17|18 |19 |20 |21 |22 |23 |24| 25|\n",
    "---| --- | --- | --- | --- | --- | --- | --- | --- | --- | --- | ---| ---| --- |--- |--- |--- |---| ---|--- |--- |--- |--- |--- |--- |---| ---|\n",
    "Plain Alphabet| a |b | c |d | e | f | g | **h** | i | j | k | l | m |n |o |p |q |r |s |t |u |v |w |x |y |z | \n",
    "Cipher Alphabet| C | D | E |F | G | H | I | **J** | K | L | M | N | O |P |Q |R |S |T |U |V |W |X |Y |Z |A |B |\n",
    "\n",
    "- Therefore for the encryption of the first letter in the plain text, the plain text letter **H** gets mapped to the cipher text letter **J** \n",
    "\n",
    "This is repeated for each letter in the plain text alphabet, and we get the cipher text:\n",
    "\n",
    "Repeated Keyword| C | I | P | H | E | R | C | I |P | H |\n",
    "---| --- | --- | --- | --- | --- | --- | --- | --- | --- | --- |\n",
    "Plain Text | H | E | L | L | O | W | O | R | L | D |\n",
    "Cipher Text| J | M | A | S | S | N | Q | Z |A | K |\n",
    "\n",
    "\n",
    "Notes:\n",
    "- We can see that **O** in \"World\" also corresponds with the keyword letter **C**, so the *O* in \"World\" will be encrypted using the exact same cipher alphabet as the *H* in \"Hello\"\n",
    "- The same letters in the plain text may not be encrypted in the same way.  For example the **L**s in \"Hello\" will be encrypted differently since they correspond to different keyword letters\n"
   ]
  },
  {
   "cell_type": "code",
   "execution_count": 5,
   "metadata": {},
   "outputs": [],
   "source": [
    "def Incrypt_VigenereCipher( plainText, keyword, plainAlphabet=englishAlphabet ):\n",
    "    \n",
    "    # -------- Repeat / wrap the keyword along the length of the text\n",
    "    repeatedKeyword = []\n",
    "    for i in range(int(len(plainText) / len(keyword)) ):\n",
    "        for j in range(len(keyword)):\n",
    "            repeatedKeyword.append(keyword[j])  \n",
    "    for i in range(len(plainText) % len(keyword)):\n",
    "        repeatedKeyword.append(keyword[i])\n",
    "    # -------- Repeat / wrap the keyword along the length of the text.\n",
    "\n",
    "    # -------- Create a dictionary of the ordered plain alphabet \n",
    "    # This is needed in order to determine what shift to use\n",
    "    order = {}\n",
    "    for i, letter in enumerate(plainAlphabet):\n",
    "        order[letter.upper()] = i\n",
    "    # -------- Create a dictionary of the ordered plain alphabet.\n",
    "\n",
    "    # -------- Incrypt the message\n",
    "    cipherText = ''\n",
    "    for i in range(len(plainText)):\n",
    "        shift = order[repeatedKeyword[i]]\n",
    "        cipherText += Incrypt_CaesarShiftCipher(plainText[i], plainAlphabet, -shift)\n",
    "    # -------- Incrypt the message.\n",
    "\n",
    "    return cipherText\n",
    "    "
   ]
  },
  {
   "cell_type": "code",
   "execution_count": 13,
   "metadata": {},
   "outputs": [
    {
     "name": "stdout",
     "output_type": "stream",
     "text": [
      "20\n"
     ]
    },
    {
     "data": {
      "text/plain": [
       "'u v w x y z a b c d e f g h i j k l m n o p q r s t '"
      ]
     },
     "execution_count": 13,
     "metadata": {},
     "output_type": "execute_result"
    }
   ],
   "source": [
    "order = {}\n",
    "for i, letter in enumerate(englishAlphabet):\n",
    "    order[letter.upper()] = i\n",
    "    \n",
    "print(order['U'])\n",
    "\n",
    "''.join( [str(i)+' ' for  i in list(np.roll(englishAlphabet,-20))])"
   ]
  },
  {
   "cell_type": "code",
   "execution_count": 9,
   "metadata": {},
   "outputs": [
    {
     "data": {
      "text/plain": [
       "'FVYUEFBCHWFCLWWMFYKIOILW'"
      ]
     },
     "execution_count": 9,
     "metadata": {},
     "output_type": "execute_result"
    }
   ],
   "source": [
    "Incrypt_VigenereCipher( 'THECATNIPSTORESARESECURE', 'MOUSE' )"
   ]
  },
  {
   "cell_type": "code",
   "execution_count": null,
   "metadata": {},
   "outputs": [],
   "source": [
    "FVY UEFBCH WFCLWW MFY KIOILW"
   ]
  },
  {
   "cell_type": "markdown",
   "metadata": {},
   "source": [
    "## Step 2) De-encrypt the cipher text\n",
    "\n",
    "Here we will assume that we know the key and encryption method.\n",
    "We essentially repeat the steps of encrypting the text but in reverse"
   ]
  },
  {
   "cell_type": "code",
   "execution_count": 40,
   "metadata": {},
   "outputs": [],
   "source": [
    "def Decrypt_VigenereCipher( cipherText, keyword, plainAlphabet ):\n",
    "    \n",
    "    # -------- Repeat / wrap the keyword along the length of the text\n",
    "    repeatedKeyword = []\n",
    "    for i in range(int(len(cipherText) / len(keyword)) ):\n",
    "        for j in range(len(keyword)):\n",
    "            repeatedKeyword.append(keyword[j])  \n",
    "    for i in range(len(cipherText) % len(keyword)):\n",
    "        repeatedKeyword.append(keyword[i])\n",
    "    # -------- Repeat / wrap the keyword along the length of the text.\n",
    "\n",
    "    # -------- Create a dictionary of the ordered plain alphabet \n",
    "    # This is needed in order to determine what shift to use\n",
    "    order = {}\n",
    "    for i, letter in enumerate(plainAlphabet):\n",
    "        order[letter.upper()] = i\n",
    "    # -------- Create a dictionary of the ordered plain alphabet.\n",
    "\n",
    "    # -------- Incrypt the message\n",
    "    plainText = ''\n",
    "    for i in range(len(cipherText)):\n",
    "        shift = order[repeatedKeyword[i]]\n",
    "        plainText += Decrypt_CeaserShiftCipher(cipherText[i], plainAlphabet, -shift)\n",
    "    # -------- Incrypt the message.\n",
    "\n",
    "    return plainText"
   ]
  },
  {
   "cell_type": "code",
   "execution_count": 3,
   "metadata": {},
   "outputs": [
    {
     "data": {
      "text/plain": [
       "'HELLOWORLD'"
      ]
     },
     "execution_count": 3,
     "metadata": {},
     "output_type": "execute_result"
    }
   ],
   "source": [
    "Decrypt_VigenereCipher( 'JMASSNQZAK', 'CIPHER')"
   ]
  },
  {
   "cell_type": "markdown",
   "metadata": {},
   "source": [
    "## Step 3)  Let's try to break the encryption \n",
    "\n",
    "1. First, we need to find the length of the keyword (this is called the *period* of the cipher).  To do this we use a **Periodic Incidence of Coincidence** calculation\n",
    "2. Second, we need to determine the keyword used to encrypt the message. To do this we use **Chi-squared statistics**\n",
    "\n",
    "As with many cryptanalysis methods, this approach works best on a long message\n",
    "\n",
    "### Step 3.1) Periodic Incidence of Coincidence\n",
    "Number| 0| 1 | 2 | 3 | 4 | 5 | 6 | 7 |8 | 9 |\n",
    "---| --- | --- | --- | --- | --- | --- | --- | --- | --- | --- |\n",
    "Plain Text | J | M | A | S |S | N | Q | Z |A | K |\n",
    "\n",
    "1. Assume the length of the keyword is 2 (this is the minimum length  of keyword for Vigenere, a length of 1 is just a regular Caesar shift). \n",
    "2. Extract every second letter. ie extract two lists, one will have the $1,3,5,7,..$ letters and the other will have the $0,2,4,6,...$ letters \n",
    "\n",
    "Number| 0|  2 |  4 | 6 | 8 |\n",
    "---| --- | --- | --- | --- | --- |\n",
    "Plain Text | J | A | S | Q |A | K | A |\n",
    "\n",
    "Number| 1|  3 |  5 | 7 | 9 |\n",
    "---| --- | --- | --- | --- | --- |\n",
    "Plain Text | M | S | N |Z | K |\n",
    "\n",
    "3. Find the incidence of coincidence of each of the sequences and average them.  This is the IOC of period 2\n",
    "\n",
    "4. Repeat steps 1-3 for a period of 3, then a period of 4, and so on \n"
   ]
  },
  {
   "cell_type": "code",
   "execution_count": 48,
   "metadata": {},
   "outputs": [],
   "source": [
    "cipherText = 'vptnvffuntshtarptymjwzirappljmhhqvsubwlzzygvtyitarptyiougxiuydtgzhhvvmumshwkzgstfmekvmpkswdgbilvjljmglmjfqwioiivknulvvfemioiemojtywdsajtwmtcgluysdsumfbieugmvalvxkjduetukatymvkqzhvqvgvptytjwwldyeevquhlulwpkt'"
   ]
  },
  {
   "cell_type": "code",
   "execution_count": 50,
   "metadata": {
    "scrolled": false
   },
   "outputs": [
    {
     "data": {
      "image/png": "[encoded data removed]",
      "text/plain": [
       "<Figure size 960x480 with 1 Axes>"
      ]
     },
     "metadata": {
      "needs_background": "light"
     },
     "output_type": "display_data"
    }
   ],
   "source": [
    "longestLength =  30 # Longest assumed keyword length should not be longer than the length of the cipher text\n",
    "\n",
    "PeriodicIOC = {}\n",
    "for period in range(2, longestLength+1):\n",
    "    IoC = []\n",
    "    for startPosition in range(period):\n",
    "        # Extact a sequence of letters from the cipher text\n",
    "        subText = [ cipherText[i] for i in range(startPosition,len(cipherText),period)]\n",
    "        IoC.append(IncidenceOfCoincidence(subText))\n",
    "    PeriodicIOC[period] = np.mean(IoC)\n",
    "    \n",
    "\n",
    "plt.figure(figsize=(8,4),dpi=120) \n",
    "for i,key in enumerate(PeriodicIOC):\n",
    "    bar = plt.bar(i,PeriodicIOC[key])\n",
    "xticks = plt.xticks(np.arange(len(PeriodicIOC.keys())),PeriodicIOC.keys())\n",
    "ylabel = plt.ylabel('Average IOC')\n",
    "xlabel = plt.xlabel('Period')\n",
    "title = plt.title('Periodic IOC Calculation')"
   ]
  },
  {
   "cell_type": "markdown",
   "metadata": {},
   "source": [
    "We see significant peaks at $7,14,21,28$ \n",
    "- The keyword length is probably $7$ (the lowest peak)\n",
    "\n",
    "We can try a keyword length of $7$, but if that yeilds no results we can also try a keyword length of $14,21,28$\n",
    "\n",
    "### 3.2) Determine the keyword; Chi-Squared Statistics\n",
    "\n",
    "\n",
    "\n",
    "If we now assume that the keyword length is $7$\n",
    "1. Divide the cipher text into seven sequences. ie take the letters in positions $0,7,14,..$ and $1,8,15,..$ and $2,9,16,..$. Each of these sequences will have been encrypted using the same Caesar cipher\n",
    "\n",
    "2. Decrypt each of these sequences by trying all 26 Caesar shifts.   For each trial decryptment, calculate the Chi-squared value of the text to see how close to English it is.  The lowest Chi-squared value is likely to be the correct encryption \n",
    "\n",
    "$$ \\chi^{2} (C, E) = \\sum^{i=Z}_{i = A} \\frac{(C_i - E_i)^2}{E_i} $$\n",
    "- $C_i$ is the actual count\n",
    "- $E_i$ is the expected count"
   ]
  },
  {
   "cell_type": "code",
   "execution_count": 92,
   "metadata": {},
   "outputs": [],
   "source": [
    "def ChiSquaredStatistic(sampleText, knownLetterFrequencies):\n",
    "    '''Compute the Chi-Squared Statistic for a sample text. \n",
    "    \n",
    "    - A text that has letter frequencies more similar to the known \n",
    "    letter frequencies will get a lower score\n",
    "    \n",
    "    -Please remove all non-text characters  before calculatin the Chi-Squared Statistic\n",
    "    '''\n",
    "    textLength = len(sampleText)\n",
    "    sampleLetterFrequencies = letterFrequencies(sampleText)\n",
    "    \n",
    "    ChiSquared = 0\n",
    "    for letter in sampleLetterFrequencies.keys():\n",
    "        expectedCount = knownLetterFrequencies[letter] * textLength\n",
    "        actualCount = sampleLetterFrequencies[letter] * textLength\n",
    "        \n",
    "        ChiSquared += (actualCount - expectedCount)**2 / expectedCount\n",
    "    return ChiSquared"
   ]
  },
  {
   "cell_type": "code",
   "execution_count": 93,
   "metadata": {},
   "outputs": [
    {
     "data": {
      "text/plain": [
       "1612.0368793774037"
      ]
     },
     "execution_count": 93,
     "metadata": {},
     "output_type": "execute_result"
    }
   ],
   "source": [
    "ChiSquaredStatistic('aoljhlzhyjpwolypzvulvmaollhysplzaruvduhukzptwslzajpwolyzpapzhafwlvmzbizapabapvujpwolypudopjolhjoslaalypuaolwshpualeapzzopmalkhjlyahpuubtilyvmwshjlzkvduaolhswohila', letterFrequencies_English)"
   ]
  },
  {
   "cell_type": "code",
   "execution_count": 125,
   "metadata": {},
   "outputs": [],
   "source": [
    "def Break_VigenereChiSquared( cipherText, period, plainAlphabet, knownLetterFrequencies ):\n",
    "    '''Decrypt a Vigenere Cipher using Chi Squared Statistics\n",
    "    - Period is the likely keyword length as determined via Periodic IOC\n",
    "    '''\n",
    "\n",
    "    possibleShifts = [i for i in range(0, len(plainAlphabet))]\n",
    "\n",
    "    order = {}\n",
    "    for i, letter in enumerate(plainAlphabet):\n",
    "        order[i] = letter.upper()\n",
    "\n",
    "    keyword = ''\n",
    "    for startPosition in range(period):\n",
    "\n",
    "        # Extact a sequence of letters from the cipher text\n",
    "        subText = [ cipherText[i] for i in range(startPosition,len(cipherText),period)]\n",
    "\n",
    "        lowestScore = 1e9 # A very high number\n",
    "        incryptedShift = 0\n",
    "        for shift in possibleShifts:\n",
    "            # Test a possible decryption\n",
    "            decryptedText_test = Decrypt_CeaserShiftCipher(subText, plainAlphabet, -shift)\n",
    "            # Get Chi-Squared Score\n",
    "            score = ChiSquaredStatistic(decryptedText_test, knownLetterFrequencies)\n",
    "            # Update Solution\n",
    "            if score < lowestScore:\n",
    "                lowestScore = score\n",
    "                incryptedShift = shift\n",
    "\n",
    "        keyword += order[incryptedShift]\n",
    "        \n",
    "    return keyword, Decrypt_VigenereCipher(cipherText, keyword, plainAlphabet )"
   ]
  },
  {
   "cell_type": "code",
   "execution_count": 5,
   "metadata": {},
   "outputs": [],
   "source": [
    "cipherText = \"vptnvffuntshtarptymjwzirappljmhhqvsubwlzzygvtyitarptyiougxiuydtgzhhvvmumshwkzgstfmekvmpkswdgbilvjljmglmjfqwioiivknulvvfemioiemojtywdsajtwmtcgluysdsumfbieugmvalvxkjduetukatymvkqzhvqvgvptytjwwldyeevquhlulwpkt\""
   ]
  },
  {
   "cell_type": "code",
   "execution_count": 6,
   "metadata": {},
   "outputs": [
    {
     "data": {
      "text/plain": [
       "('CIAHERS',\n",
       " 'THTGRONSFTLDCIPHTRISEXARTLYTHEHAMEASTWEVIGENTRECIPHTREXCEPINUMBERHAREUSESASTHEKTYINSTEPDOFLETIERSTHEGEISNOOIHERDIFUERENCEIHENUMBTRSMAYBTPICKEDUROMASEFUENCEEVTHEFIBDNACCISTRIESORHOMEOTHTRPSEUDDRANDOMHEQUENCT')"
      ]
     },
     "execution_count": 6,
     "metadata": {},
     "output_type": "execute_result"
    }
   ],
   "source": [
    "Break_VigenereChiSquared(prepareText(cipherText), 7)"
   ]
  },
  {
   "cell_type": "markdown",
   "metadata": {},
   "source": [
    "Here we did not get the correct keyword.  This is probably because the ciper text was too short. \n",
    "\n",
    "If we think that the keyword is likely a real word, then we can try different spellings or variations of the proposed keyword returned via the Chi-Squared Statistics test"
   ]
  },
  {
   "cell_type": "code",
   "execution_count": 126,
   "metadata": {},
   "outputs": [
    {
     "data": {
      "text/plain": [
       "'thegronsfeldcipherisexactlythesameasthevigenerecipherexceptnumbersareusedasthekeyinsteadoflettersthereisnootherdifferencethenumbersmaybepickedfromasequenceegthefibonacciseriesorsomeotherpseudorandomsequence'"
      ]
     },
     "execution_count": 126,
     "metadata": {},
     "output_type": "execute_result"
    }
   ],
   "source": [
    "Decrypt_VigenereCipher(cipherText, 'CIPHERS', plainAlphabet )"
   ]
  },
  {
   "cell_type": "markdown",
   "metadata": {},
   "source": [
    "### 3.2) Determine the keyword; Trial And Error  / Dictionary Attack\n",
    "\n",
    "If we are fairly confident that the keyword is a certain length, we can just try words of that length\n",
    "\n",
    "For example, if we believe the keyword to have length $7$ could either try to guess specific words or try all English words with length $7$ \n",
    "\n",
    "- This approach does not work well if the keyword is not a common word (or is not a word at all), or has atypical spelling, or is in a language that we do not know.\n",
    "- This approach may take a very long time if there are many words to try \n",
    "\n",
    "Here is a short block of code to write a dictionary file with no punctuation \n",
    "```Python \n",
    "dictionary=open('Resources/SampleTexts/englishWords.txt')\n",
    "dictNew = open('Resources/SampleTexts/englishWords3.txt', \"w\")\n",
    "\n",
    "\n",
    "for word in dictionary.readlines():\n",
    "    word = ''.join([char for char in word if char.isalpha()])\n",
    "    dictNew.write(\"{}\\n\".format(word))\n",
    "\n",
    "```\n"
   ]
  },
  {
   "cell_type": "code",
   "execution_count": 48,
   "metadata": {
    "scrolled": true
   },
   "outputs": [],
   "source": [
    "def break_VigenereDictionarySearch(cipherText, period, plainAlphabet=englishAlphabet, dictionary=open('Resources/SampleTexts/commonEnglishWords.txt').readlines(), knownLetterFrequencies=letterFrequencies_English):\n",
    "\n",
    "    SelectWords = []\n",
    "    for word in dictionary:\n",
    "        word = word.strip()\n",
    "        if len(word) == period:\n",
    "            SelectWords.append(word)\n",
    "\n",
    "    bestKey = []\n",
    "    bestScore = 99e9\n",
    "    for key in SelectWords:\n",
    "        key = key.upper()\n",
    "        decrypted = Decrypt_VigenereCipher(cipherText, key, plainAlphabet )\n",
    "        score = ChiSquaredStatistic(decrypted, knownLetterFrequencies)\n",
    "    if score < bestScore:\n",
    "            bestKey = key\n",
    "            bestScore = score\n",
    "            \n",
    "    return bestKey, Decrypt_VigenereCipher(cipherText,bestKey,plainAlphabet)\n",
    "  "
   ]
  },
  {
   "cell_type": "code",
   "execution_count": 49,
   "metadata": {
    "scrolled": true
   },
   "outputs": [
    {
     "ename": "KeyboardInterrupt",
     "evalue": "",
     "output_type": "error",
     "traceback": [
      "\u001b[0;31m---------------------------------------------------------------------------\u001b[0m",
      "\u001b[0;31mKeyboardInterrupt\u001b[0m                         Traceback (most recent call last)",
      "\u001b[0;32m<ipython-input-49-220c1709e5a8>\u001b[0m in \u001b[0;36m<module>\u001b[0;34m\u001b[0m\n\u001b[0;32m----> 1\u001b[0;31m \u001b[0mbreak_VigenereDictionarySearch\u001b[0m\u001b[0;34m(\u001b[0m\u001b[0mcipherText\u001b[0m\u001b[0;34m,\u001b[0m \u001b[0;36m7\u001b[0m\u001b[0;34m,\u001b[0m \u001b[0mdictionary\u001b[0m\u001b[0;34m=\u001b[0m\u001b[0mopen\u001b[0m\u001b[0;34m(\u001b[0m\u001b[0;34m'Resources/SampleTexts/englishWords3.txt'\u001b[0m\u001b[0;34m)\u001b[0m\u001b[0;34m.\u001b[0m\u001b[0mreadlines\u001b[0m\u001b[0;34m(\u001b[0m\u001b[0;34m)\u001b[0m\u001b[0;34m)\u001b[0m\u001b[0;34m\u001b[0m\u001b[0;34m\u001b[0m\u001b[0m\n\u001b[0m",
      "\u001b[0;32m<ipython-input-48-9a133a133737>\u001b[0m in \u001b[0;36mbreak_VigenereDictionarySearch\u001b[0;34m(cipherText, period, plainAlphabet, dictionary, knownLetterFrequencies)\u001b[0m\n\u001b[1;32m     11\u001b[0m     \u001b[0;32mfor\u001b[0m \u001b[0mkey\u001b[0m \u001b[0;32min\u001b[0m \u001b[0mSelectWords\u001b[0m\u001b[0;34m:\u001b[0m\u001b[0;34m\u001b[0m\u001b[0;34m\u001b[0m\u001b[0m\n\u001b[1;32m     12\u001b[0m         \u001b[0mkey\u001b[0m \u001b[0;34m=\u001b[0m \u001b[0mkey\u001b[0m\u001b[0;34m.\u001b[0m\u001b[0mupper\u001b[0m\u001b[0;34m(\u001b[0m\u001b[0;34m)\u001b[0m\u001b[0;34m\u001b[0m\u001b[0;34m\u001b[0m\u001b[0m\n\u001b[0;32m---> 13\u001b[0;31m         \u001b[0mdecrypted\u001b[0m \u001b[0;34m=\u001b[0m \u001b[0mDecrypt_VigenereCipher\u001b[0m\u001b[0;34m(\u001b[0m\u001b[0mcipherText\u001b[0m\u001b[0;34m,\u001b[0m \u001b[0mkey\u001b[0m\u001b[0;34m,\u001b[0m \u001b[0mplainAlphabet\u001b[0m \u001b[0;34m)\u001b[0m\u001b[0;34m\u001b[0m\u001b[0;34m\u001b[0m\u001b[0m\n\u001b[0m\u001b[1;32m     14\u001b[0m         \u001b[0mscore\u001b[0m \u001b[0;34m=\u001b[0m \u001b[0mChiSquaredStatistic\u001b[0m\u001b[0;34m(\u001b[0m\u001b[0mdecrypted\u001b[0m\u001b[0;34m,\u001b[0m \u001b[0mknownLetterFrequencies\u001b[0m\u001b[0;34m)\u001b[0m\u001b[0;34m\u001b[0m\u001b[0;34m\u001b[0m\u001b[0m\n\u001b[1;32m     15\u001b[0m     \u001b[0;32mif\u001b[0m \u001b[0mscore\u001b[0m \u001b[0;34m<\u001b[0m \u001b[0mbestScore\u001b[0m\u001b[0;34m:\u001b[0m\u001b[0;34m\u001b[0m\u001b[0;34m\u001b[0m\u001b[0m\n",
      "\u001b[0;32m~/CodeBreaker/Resources/Vigenere.py\u001b[0m in \u001b[0;36mDecrypt_VigenereCipher\u001b[0;34m(cipherText, keyword, plainAlphabet)\u001b[0m\n\u001b[1;32m     52\u001b[0m     \u001b[0;32mfor\u001b[0m \u001b[0mi\u001b[0m \u001b[0;32min\u001b[0m \u001b[0mrange\u001b[0m\u001b[0;34m(\u001b[0m\u001b[0mlen\u001b[0m\u001b[0;34m(\u001b[0m\u001b[0mcipherText\u001b[0m\u001b[0;34m)\u001b[0m\u001b[0;34m)\u001b[0m\u001b[0;34m:\u001b[0m\u001b[0;34m\u001b[0m\u001b[0;34m\u001b[0m\u001b[0m\n\u001b[1;32m     53\u001b[0m         \u001b[0mshift\u001b[0m \u001b[0;34m=\u001b[0m \u001b[0morder\u001b[0m\u001b[0;34m[\u001b[0m\u001b[0mrepeatedKeyword\u001b[0m\u001b[0;34m[\u001b[0m\u001b[0mi\u001b[0m\u001b[0;34m]\u001b[0m\u001b[0;34m]\u001b[0m\u001b[0;34m\u001b[0m\u001b[0;34m\u001b[0m\u001b[0m\n\u001b[0;32m---> 54\u001b[0;31m         \u001b[0mplainText\u001b[0m \u001b[0;34m+=\u001b[0m \u001b[0mDecrypt_CaesarShiftCipher\u001b[0m\u001b[0;34m(\u001b[0m\u001b[0mcipherText\u001b[0m\u001b[0;34m[\u001b[0m\u001b[0mi\u001b[0m\u001b[0;34m]\u001b[0m\u001b[0;34m,\u001b[0m \u001b[0;34m-\u001b[0m\u001b[0mshift\u001b[0m\u001b[0;34m,\u001b[0m \u001b[0mplainAlphabet\u001b[0m\u001b[0;34m)\u001b[0m\u001b[0;34m\u001b[0m\u001b[0;34m\u001b[0m\u001b[0m\n\u001b[0m\u001b[1;32m     55\u001b[0m     \u001b[0;31m# -------- Incrypt the message.\u001b[0m\u001b[0;34m\u001b[0m\u001b[0;34m\u001b[0m\u001b[0;34m\u001b[0m\u001b[0m\n\u001b[1;32m     56\u001b[0m \u001b[0;34m\u001b[0m\u001b[0m\n",
      "\u001b[0;32m~/CodeBreaker/Resources/Caesar.py\u001b[0m in \u001b[0;36mDecrypt_CaesarShiftCipher\u001b[0;34m(cipherText, shift, plainAlphabet)\u001b[0m\n\u001b[1;32m     29\u001b[0m \u001b[0;32mdef\u001b[0m \u001b[0mDecrypt_CaesarShiftCipher\u001b[0m\u001b[0;34m(\u001b[0m\u001b[0mcipherText\u001b[0m\u001b[0;34m,\u001b[0m \u001b[0mshift\u001b[0m\u001b[0;34m,\u001b[0m \u001b[0mplainAlphabet\u001b[0m\u001b[0;34m=\u001b[0m\u001b[0menglishAlphabet\u001b[0m\u001b[0;34m)\u001b[0m\u001b[0;34m:\u001b[0m\u001b[0;34m\u001b[0m\u001b[0;34m\u001b[0m\u001b[0m\n\u001b[1;32m     30\u001b[0m     \u001b[0;34m'''Caesar Cipher: The alphabet has been shifted a certain number of places'''\u001b[0m\u001b[0;34m\u001b[0m\u001b[0;34m\u001b[0m\u001b[0m\n\u001b[0;32m---> 31\u001b[0;31m     \u001b[0mcipherAlphabet\u001b[0m \u001b[0;34m=\u001b[0m \u001b[0mlist\u001b[0m\u001b[0;34m(\u001b[0m\u001b[0mnp\u001b[0m\u001b[0;34m.\u001b[0m\u001b[0mroll\u001b[0m\u001b[0;34m(\u001b[0m\u001b[0mplainAlphabet\u001b[0m\u001b[0;34m,\u001b[0m \u001b[0mshift\u001b[0m\u001b[0;34m)\u001b[0m\u001b[0;34m)\u001b[0m\u001b[0;34m\u001b[0m\u001b[0;34m\u001b[0m\u001b[0m\n\u001b[0m\u001b[1;32m     32\u001b[0m \u001b[0;34m\u001b[0m\u001b[0m\n\u001b[1;32m     33\u001b[0m     \u001b[0mkey\u001b[0m \u001b[0;34m=\u001b[0m \u001b[0;34m{\u001b[0m\u001b[0;34m}\u001b[0m\u001b[0;34m\u001b[0m\u001b[0;34m\u001b[0m\u001b[0m\n",
      "\u001b[0;32m<__array_function__ internals>\u001b[0m in \u001b[0;36mroll\u001b[0;34m(*args, **kwargs)\u001b[0m\n",
      "\u001b[0;32m/opt/anaconda3/lib/python3.8/site-packages/numpy/core/numeric.py\u001b[0m in \u001b[0;36mroll\u001b[0;34m(a, shift, axis)\u001b[0m\n\u001b[1;32m   1184\u001b[0m     \u001b[0ma\u001b[0m \u001b[0;34m=\u001b[0m \u001b[0masanyarray\u001b[0m\u001b[0;34m(\u001b[0m\u001b[0ma\u001b[0m\u001b[0;34m)\u001b[0m\u001b[0;34m\u001b[0m\u001b[0;34m\u001b[0m\u001b[0m\n\u001b[1;32m   1185\u001b[0m     \u001b[0;32mif\u001b[0m \u001b[0maxis\u001b[0m \u001b[0;32mis\u001b[0m \u001b[0;32mNone\u001b[0m\u001b[0;34m:\u001b[0m\u001b[0;34m\u001b[0m\u001b[0;34m\u001b[0m\u001b[0m\n\u001b[0;32m-> 1186\u001b[0;31m         \u001b[0;32mreturn\u001b[0m \u001b[0mroll\u001b[0m\u001b[0;34m(\u001b[0m\u001b[0ma\u001b[0m\u001b[0;34m.\u001b[0m\u001b[0mravel\u001b[0m\u001b[0;34m(\u001b[0m\u001b[0;34m)\u001b[0m\u001b[0;34m,\u001b[0m \u001b[0mshift\u001b[0m\u001b[0;34m,\u001b[0m \u001b[0;36m0\u001b[0m\u001b[0;34m)\u001b[0m\u001b[0;34m.\u001b[0m\u001b[0mreshape\u001b[0m\u001b[0;34m(\u001b[0m\u001b[0ma\u001b[0m\u001b[0;34m.\u001b[0m\u001b[0mshape\u001b[0m\u001b[0;34m)\u001b[0m\u001b[0;34m\u001b[0m\u001b[0;34m\u001b[0m\u001b[0m\n\u001b[0m\u001b[1;32m   1187\u001b[0m \u001b[0;34m\u001b[0m\u001b[0m\n\u001b[1;32m   1188\u001b[0m     \u001b[0;32melse\u001b[0m\u001b[0;34m:\u001b[0m\u001b[0;34m\u001b[0m\u001b[0;34m\u001b[0m\u001b[0m\n",
      "\u001b[0;32m<__array_function__ internals>\u001b[0m in \u001b[0;36mroll\u001b[0;34m(*args, **kwargs)\u001b[0m\n",
      "\u001b[0;32m/opt/anaconda3/lib/python3.8/site-packages/numpy/core/numeric.py\u001b[0m in \u001b[0;36mroll\u001b[0;34m(a, shift, axis)\u001b[0m\n\u001b[1;32m   1187\u001b[0m \u001b[0;34m\u001b[0m\u001b[0m\n\u001b[1;32m   1188\u001b[0m     \u001b[0;32melse\u001b[0m\u001b[0;34m:\u001b[0m\u001b[0;34m\u001b[0m\u001b[0;34m\u001b[0m\u001b[0m\n\u001b[0;32m-> 1189\u001b[0;31m         \u001b[0maxis\u001b[0m \u001b[0;34m=\u001b[0m \u001b[0mnormalize_axis_tuple\u001b[0m\u001b[0;34m(\u001b[0m\u001b[0maxis\u001b[0m\u001b[0;34m,\u001b[0m \u001b[0ma\u001b[0m\u001b[0;34m.\u001b[0m\u001b[0mndim\u001b[0m\u001b[0;34m,\u001b[0m \u001b[0mallow_duplicate\u001b[0m\u001b[0;34m=\u001b[0m\u001b[0;32mTrue\u001b[0m\u001b[0;34m)\u001b[0m\u001b[0;34m\u001b[0m\u001b[0;34m\u001b[0m\u001b[0m\n\u001b[0m\u001b[1;32m   1190\u001b[0m         \u001b[0mbroadcasted\u001b[0m \u001b[0;34m=\u001b[0m \u001b[0mbroadcast\u001b[0m\u001b[0;34m(\u001b[0m\u001b[0mshift\u001b[0m\u001b[0;34m,\u001b[0m \u001b[0maxis\u001b[0m\u001b[0;34m)\u001b[0m\u001b[0;34m\u001b[0m\u001b[0;34m\u001b[0m\u001b[0m\n\u001b[1;32m   1191\u001b[0m         \u001b[0;32mif\u001b[0m \u001b[0mbroadcasted\u001b[0m\u001b[0;34m.\u001b[0m\u001b[0mndim\u001b[0m \u001b[0;34m>\u001b[0m \u001b[0;36m1\u001b[0m\u001b[0;34m:\u001b[0m\u001b[0;34m\u001b[0m\u001b[0;34m\u001b[0m\u001b[0m\n",
      "\u001b[0;32m/opt/anaconda3/lib/python3.8/site-packages/numpy/core/numeric.py\u001b[0m in \u001b[0;36mnormalize_axis_tuple\u001b[0;34m(axis, ndim, argname, allow_duplicate)\u001b[0m\n\u001b[1;32m   1356\u001b[0m             \u001b[0;32mpass\u001b[0m\u001b[0;34m\u001b[0m\u001b[0;34m\u001b[0m\u001b[0m\n\u001b[1;32m   1357\u001b[0m     \u001b[0;31m# Going via an iterator directly is slower than via list comprehension.\u001b[0m\u001b[0;34m\u001b[0m\u001b[0;34m\u001b[0m\u001b[0;34m\u001b[0m\u001b[0m\n\u001b[0;32m-> 1358\u001b[0;31m     \u001b[0maxis\u001b[0m \u001b[0;34m=\u001b[0m \u001b[0mtuple\u001b[0m\u001b[0;34m(\u001b[0m\u001b[0;34m[\u001b[0m\u001b[0mnormalize_axis_index\u001b[0m\u001b[0;34m(\u001b[0m\u001b[0max\u001b[0m\u001b[0;34m,\u001b[0m \u001b[0mndim\u001b[0m\u001b[0;34m,\u001b[0m \u001b[0margname\u001b[0m\u001b[0;34m)\u001b[0m \u001b[0;32mfor\u001b[0m \u001b[0max\u001b[0m \u001b[0;32min\u001b[0m \u001b[0maxis\u001b[0m\u001b[0;34m]\u001b[0m\u001b[0;34m)\u001b[0m\u001b[0;34m\u001b[0m\u001b[0;34m\u001b[0m\u001b[0m\n\u001b[0m\u001b[1;32m   1359\u001b[0m     \u001b[0;32mif\u001b[0m \u001b[0;32mnot\u001b[0m \u001b[0mallow_duplicate\u001b[0m \u001b[0;32mand\u001b[0m \u001b[0mlen\u001b[0m\u001b[0;34m(\u001b[0m\u001b[0mset\u001b[0m\u001b[0;34m(\u001b[0m\u001b[0maxis\u001b[0m\u001b[0;34m)\u001b[0m\u001b[0;34m)\u001b[0m \u001b[0;34m!=\u001b[0m \u001b[0mlen\u001b[0m\u001b[0;34m(\u001b[0m\u001b[0maxis\u001b[0m\u001b[0;34m)\u001b[0m\u001b[0;34m:\u001b[0m\u001b[0;34m\u001b[0m\u001b[0;34m\u001b[0m\u001b[0m\n\u001b[1;32m   1360\u001b[0m         \u001b[0;32mif\u001b[0m \u001b[0margname\u001b[0m\u001b[0;34m:\u001b[0m\u001b[0;34m\u001b[0m\u001b[0;34m\u001b[0m\u001b[0m\n",
      "\u001b[0;31mKeyboardInterrupt\u001b[0m: "
     ]
    }
   ],
   "source": [
    " break_VigenereDictionarySearch(cipherText, 7, dictionary=open('Resources/SampleTexts/englishWords3.txt').readlines())"
   ]
  },
  {
   "cell_type": "code",
   "execution_count": null,
   "metadata": {},
   "outputs": [],
   "source": []
  }
 ],
 "metadata": {
  "kernelspec": {
   "display_name": "Python 3 (ipykernel)",
   "language": "python",
   "name": "python3"
  },
  "language_info": {
   "codemirror_mode": {
    "name": "ipython",
    "version": 3
   },
   "file_extension": ".py",
   "mimetype": "text/x-python",
   "name": "python",
   "nbconvert_exporter": "python",
   "pygments_lexer": "ipython3",
   "version": "3.8.11"
  }
 },
 "nbformat": 4,
 "nbformat_minor": 4
}
