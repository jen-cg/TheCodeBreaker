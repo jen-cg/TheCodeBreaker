{
 "cells": [
  {
   "cell_type": "markdown",
   "id": "79d9a65d",
   "metadata": {},
   "source": [
    "# Part : Polybius Square Cipher\n",
    "\n",
    "### 5x5 Polybius Cipher\n",
    "![image](5x5Polybius.jpeg)\n",
    "\n",
    "### 6x6 Polybius Cipher\n",
    "Gives a unique encryption to all 26 letters and 9 numerals\n",
    "![image](66Polybius.jpeg)"
   ]
  },
  {
   "cell_type": "code",
   "execution_count": 1,
   "id": "1f335cf4",
   "metadata": {},
   "outputs": [],
   "source": [
    "from Resources.Functions import *"
   ]
  },
  {
   "cell_type": "code",
   "execution_count": 2,
   "id": "aeeab748",
   "metadata": {},
   "outputs": [],
   "source": [
    "def KeyWordAlphabet(keyword,placement, plainAlphabet=englishAlphabet):\n",
    "    \n",
    "    plainAlphabet = [ i.upper() for i in plainAlphabet ]\n",
    "    keyword_norepeats = ''\n",
    "    for i in keyword:\n",
    "        i = i.upper()\n",
    "        if i not in keyword_norepeats:\n",
    "            keyword_norepeats = keyword_norepeats + i\n",
    "            \n",
    "    cipherAlphabet = ['0'] * len(plainAlphabet)\n",
    "    remainingAlphabet = [i for i in plainAlphabet if i not in keyword_norepeats]\n",
    "\n",
    "    # Place the end of the remaining alphabet at the begining of the cipher alphabet\n",
    "    for i in range(placement):\n",
    "        cipherAlphabet[i] = remainingAlphabet[len(plainAlphabet) - (placement + len(keyword_norepeats)):][i]\n",
    "\n",
    "    # Place the keyword\n",
    "    for j in range(len(keyword_norepeats)):\n",
    "        cipherAlphabet[placement + j] = keyword_norepeats[j]\n",
    "\n",
    "    # Fill the rest of the spots after the keyword with the reamaining alphabet\n",
    "    for k in range(len(plainAlphabet) - (placement + len(keyword_norepeats))):\n",
    "        cipherAlphabet[placement + len(keyword_norepeats) + k] = remainingAlphabet[k]\n",
    "        \n",
    "    return cipherAlphabet"
   ]
  },
  {
   "cell_type": "code",
   "execution_count": 18,
   "id": "b9a86fa9",
   "metadata": {},
   "outputs": [
    {
     "data": {
      "text/plain": [
       "26"
      ]
     },
     "execution_count": 18,
     "metadata": {},
     "output_type": "execute_result"
    }
   ],
   "source": [
    "len(KeyWordAlphabet('abc',0))"
   ]
  },
  {
   "cell_type": "markdown",
   "id": "f45531e6",
   "metadata": {},
   "source": [
    "## Part 1) Incrypt the message"
   ]
  },
  {
   "cell_type": "code",
   "execution_count": 20,
   "id": "b1337f3c",
   "metadata": {},
   "outputs": [],
   "source": [
    "def Incrypt_Polybius55(plainText,repeatCharacter1='i',repeatCharacter2='j', rowCharacters=['1', '2', '3', '4', '5'], columnCharacters=['1', '2', '3', '4', '5'], plainAlphabet=englishAlphabet):\n",
    "    '''\n",
    "    **Incrypt a 5x5 Polybius Square Cipher **\n",
    "    \n",
    "    Please remove all non-text characters before using \n",
    "    \n",
    "    You can customize the incryption by changing the ordering of letters in \n",
    "    the plain alphabet, by changing the letters in the row and colum, or by \n",
    "    changing the characters which share the same encryption\n",
    "    \n",
    "    ex) \n",
    "    rowCharacters = ['A', 'B', 'C', 'D', 'E']\n",
    "    columnCharacters = ['A', 'B', 'C', 'D', 'E']\n",
    "    plainAlphabet = KeyWordAlphabet('Keyword',0)\n",
    "    '''\n",
    "\n",
    "    key = {}\n",
    "    row =0\n",
    "    column = 0\n",
    "    for character in plainAlphabet:\n",
    "        if character.upper() != repeatCharacter2.upper():\n",
    "            key[character.upper()] = str(rowCharacters[row])+str(columnCharacters[column])\n",
    "            if column < len(columnCharacters) -1:\n",
    "                column = column + 1\n",
    "            elif column == len(columnCharacters) -1:\n",
    "                column = 0\n",
    "                row = row + 1\n",
    "    key[repeatCharacter2.upper()] = key[repeatCharacter1.upper()] \n",
    "    key = dict( sorted(key.items()) )\n",
    "\n",
    "    cipherText = ''\n",
    "    for plainCharacter in plainText:\n",
    "        cipherCharacter = key[plainCharacter]\n",
    "        cipherText += cipherCharacter\n",
    "\n",
    "\n",
    "    return cipherText"
   ]
  },
  {
   "cell_type": "code",
   "execution_count": 22,
   "id": "04ea373d",
   "metadata": {},
   "outputs": [
    {
     "data": {
      "text/plain": [
       "'23153131345234423114'"
      ]
     },
     "execution_count": 22,
     "metadata": {},
     "output_type": "execute_result"
    }
   ],
   "source": [
    "Incrypt_Polybius55('HELLOWORLD',plainAlphabet=KeyWordAlphabet('abc',0))"
   ]
  },
  {
   "cell_type": "code",
   "execution_count": 36,
   "id": "f97e1fe2",
   "metadata": {},
   "outputs": [],
   "source": [
    "def Incrypt_Polybius66(plainText, rowCharacters=['1', '2', '3', '4', '5', '6'], columnCharacters=['1', '2', '3', '4', '5', '6'], plainAlphabet=englishAlphabet):\n",
    "    '''\n",
    "    **Incrypt a 6x6 Polybius Square Cipher **\n",
    "        \n",
    "    Please remove all non-text characters before using \n",
    "    \n",
    "    You can customize the incryption by changing the ordering of letters in \n",
    "    the plain alphabet or by changing the letters in the row and colum\n",
    "    \n",
    "    rowCharacters = ['A', 'B', 'C', 'D', 'E', 'F']\n",
    "    columnCharacters = ['A', 'B', 'C', 'D', 'E', 'F']\n",
    "    plainAlphabet = KeyWordAlphabet('Keyword',0)\n",
    "    '''\n",
    "    key = {}\n",
    "    row =0\n",
    "    column = 0\n",
    "    for character in plainAlphabet+['0', '1', '2', '3', '4', '5', '6', '7', '8', '9']:\n",
    "        key[character.upper()] = str(rowCharacters[row])+str(columnCharacters[column])\n",
    "        if column < len(columnCharacters) -1:\n",
    "            column = column + 1\n",
    "        elif column == len(columnCharacters) -1:\n",
    "            column = 0\n",
    "            row = row + 1\n",
    "      \n",
    "    cipherText = ''\n",
    "    for plainCharacter in plainText:\n",
    "        cipherCharacter = key[plainCharacter]\n",
    "        cipherText += cipherCharacter\n",
    "\n",
    "\n",
    "    return cipherText\n",
    "        "
   ]
  },
  {
   "cell_type": "code",
   "execution_count": 59,
   "id": "732f9e32",
   "metadata": {},
   "outputs": [
    {
     "data": {
      "text/plain": [
       "'23163131344534413115'"
      ]
     },
     "execution_count": 59,
     "metadata": {},
     "output_type": "execute_result"
    }
   ],
   "source": [
    "Incrypt_Polybius66('HELLOWORLD', plainAlphabet=KeyWordAlphabet('cat', 0))"
   ]
  },
  {
   "cell_type": "markdown",
   "id": "8d64735a",
   "metadata": {},
   "source": [
    "## Part 2) Decrypt the message"
   ]
  },
  {
   "cell_type": "code",
   "execution_count": 27,
   "id": "a3c508ef",
   "metadata": {},
   "outputs": [],
   "source": [
    "def Decrypt_Polybius55(cipherText,repeatCharacter1='i',repeatCharacter2='j', rowCharacters=['1', '2', '3', '4', '5'], columnCharacters=['1', '2', '3', '4', '5'], plainAlphabet=englishAlphabet):\n",
    "    '''\n",
    "    **Decrypt a 5x5 Polybius Square Cipher **\n",
    "    \n",
    "    Please remove all non-text characters before using \n",
    "    '''\n",
    "\n",
    "    key = {}\n",
    "    row =0\n",
    "    column = 0\n",
    "    for character in plainAlphabet:\n",
    "        if character != repeatCharacter2:\n",
    "            key[character.upper()] = str(rowCharacters[row])+str(columnCharacters[column])\n",
    "            if column < len(columnCharacters) -1:\n",
    "                column = column + 1\n",
    "            elif column == len(columnCharacters) -1:\n",
    "                column = 0\n",
    "                row = row + 1\n",
    "    key[repeatCharacter2.upper()] = key[repeatCharacter1.upper()] \n",
    "    key = dict( sorted(key.items()) )\n",
    "    \n",
    "    key = {v: k for k, v in key.items()}\n",
    "\n",
    "    plainText = ''\n",
    "    cipherText =  ''.join([c for c in cipherText if c.isspace() == False])\n",
    "    for cipherCharacter in [ cipherText[i:i+2] for i in range(0, len(cipherText), 2) ]:\n",
    "        plainCharacter = key[cipherCharacter]\n",
    "        plainText += plainCharacter\n",
    "\n",
    "    return plainText"
   ]
  },
  {
   "cell_type": "code",
   "execution_count": 28,
   "id": "d9c488de",
   "metadata": {},
   "outputs": [
    {
     "data": {
      "text/plain": [
       "'HELLOWORLD'"
      ]
     },
     "execution_count": 28,
     "metadata": {},
     "output_type": "execute_result"
    }
   ],
   "source": [
    "Decrypt_Polybius55('23153131345234423114')"
   ]
  },
  {
   "cell_type": "code",
   "execution_count": 37,
   "id": "cb53795d",
   "metadata": {},
   "outputs": [],
   "source": [
    "def Decrypt_Polybius66(cipherText, rowCharacters=['1', '2', '3', '4', '5', '6'], columnCharacters=['1', '2', '3', '4', '5', '6'], plainAlphabet=englishAlphabet):\n",
    "    '''\n",
    "    **Decrypt a 6x6 Polybius Square Cipher **\n",
    "        \n",
    "    Please remove all non-text characters before using \n",
    "    '''\n",
    "\n",
    "    key = {}\n",
    "    row = 0\n",
    "    column = 0\n",
    "    for character in plainAlphabet+['0', '1', '2', '3', '4', '5', '6', '7', '8', '9']:\n",
    "        key[character.upper()] = str(rowCharacters[row])+str(columnCharacters[column])\n",
    "        if column < len(columnCharacters) -1:\n",
    "            column = column + 1\n",
    "        elif column == len(columnCharacters) -1:\n",
    "            column = 0\n",
    "            row = row + 1         \n",
    "    key = {v: k for k, v in key.items()}\n",
    "      \n",
    "    plainText = ''\n",
    "    cipherText =  ''.join([c for c in cipherText if c.isspace() == False])\n",
    "    for cipherCharacter in [ cipherText[i:i+2] for i in range(0, len(cipherText), 2) ]:\n",
    "        plainCharacter = key[cipherCharacter]\n",
    "        plainText += plainCharacter\n",
    "\n",
    "    return plainText"
   ]
  },
  {
   "cell_type": "code",
   "execution_count": 61,
   "id": "57751fc7",
   "metadata": {},
   "outputs": [
    {
     "data": {
      "text/plain": [
       "'IFMMPWPSME'"
      ]
     },
     "execution_count": 61,
     "metadata": {},
     "output_type": "execute_result"
    }
   ],
   "source": [
    "Decrypt_Polybius66('23163131344534413115')"
   ]
  },
  {
   "cell_type": "markdown",
   "id": "22c3c2fd",
   "metadata": {},
   "source": [
    "## Part 3) Break Polybius Cipher\n",
    "\n",
    "The keys for a Polybius cipher depend on the row and column characters as well as the ordering of the alphabet.  \n",
    "\n",
    "Even though each plain  text characters gets incrypted by two cipher characters, the Polybius cipher is really just a keyword or random substiution cipher and can be broken as you would break any random subsitituion \n",
    "\n",
    "This makes the Polybius cipher very easy to crack if you are already able to break random substituion ciphers. \n",
    "However, breaking random substituion ciphers requires a degree of luck so it may take several tries before the cipher is cracked.  It will also help to have a long text.\n",
    "\n",
    "Never Rule Out the Easy Solution: Once you have identified a cipher as a Polybius cipher try simply decrypting it using the standard encryptions (defaults in my functions)"
   ]
  },
  {
   "cell_type": "code",
   "execution_count": 29,
   "id": "3a3741d0",
   "metadata": {},
   "outputs": [],
   "source": [
    "def Break_55Polybius(cipherText,quadgramsFreq=quadgramFrequencies_English(), plainAlphabet=englishAlphabet):\n",
    "    '''\n",
    "    **Break a 5x5 Polybius Square Cipher **\n",
    "        \n",
    "    Please remove all non-text characters before using \n",
    "    '''\n",
    "    \n",
    "    # Use the standard 5x5 Polybius key to get the message from double\n",
    "    # letters to single  letters \n",
    "    cipherText = Decrypt_Polybius55(cipherText,plainAlphabet=plainAlphabet)\n",
    "    \n",
    "    # Break the substituion as a random sub cipher \n",
    "    Break_randomSubstitution(cipherText, quadgramsFreq=quadgramsFreq, plainAlphabet=plainAlphabet)\n",
    "    "
   ]
  },
  {
   "cell_type": "code",
   "execution_count": 32,
   "id": "1207f471",
   "metadata": {},
   "outputs": [],
   "source": [
    "text = open('Resources/SampleTexts/QuantumPrologue.txt').read()\n",
    "text = prepareText(text)"
   ]
  },
  {
   "cell_type": "code",
   "execution_count": 33,
   "id": "ff1d0b67",
   "metadata": {},
   "outputs": [
    {
     "name": "stdout",
     "output_type": "stream",
     "text": [
      "LUXETEGEDMEPGTUQDOZPLJKUBDXLPKVGGNBGVPGBDKLTFQWBDTETKBKEGGQPBPVOBDQVTULOBTUKEUTVOOBDETUKBXLPGEPGDELPNETKBGEUUKBXLPGQXKBHBEDBGKEWLPJUQDBUDBEUUQUKBTUQDOFBNNEDQPFBEJELPUKBDBTLGBPUTQHBDXLPTEREDUOBPUCVLNGLPJTQVJKUTKBNUBDXKBPBWBDUKBDBXBDBUKDBEUTQHUQDPEGQBTLPUKBEDBEXKLNBLUXETTEHBGQXPUKBDBBDXLPHBEDBGUKBDLGLFVNBKBXQVNGHEFBQPFBEJELPHDQOUKBQUKBDTFKQQNCQZTLPUKBDVTKUQUKBFBNNEDBDXLPTBBOBGUQENXEZTBPGVRXLUKEDEPGQORELDQHTQFMTEPGUKBQUKBDCQZTUBETBGKLOECQVULUOBDFLNBTTNZPQUUKEUBDXLPKEGPUUDLBGKEDGUQTQNWBUKLTRDQCNBOKBKEGEWBDZTLORNBFQNNBFULQPQHTQFMTCNEFMQDXKLUBHQDBLUKBDTFKQQNQDRNEZTKQDUQDNQPJHQDBLUKBDUDQVTBDTQDNBGBDKQTBPEHUBDUKBHLDTUHBXUBETLPJBRLTQGBTHDQOUKBQUKBDCQZTBDXLPKEGTQDUBGKLTTQFMTLPUQUXQTBREDEUBGDEXBDTKBRNEFBGENNUKBCNEFMTQFMTLPQPBGDEXBDEPGENNUKBXKLUBTQFMTLPEPQUKBDGDEXBDBDXLPHLJVDBGKBFQVNGGBUBDOLPBEPLPGLWLGVENTQFMTNBPJUKLPUKBGEDMQHPLJKUTLORNZCZHBBNLPJLUCVUKBKEGUQKEWBUKBORDBTQDUBGLPUQXKLUBEPGCNEFMCBFEVTBUKBEREDUOBPUJBPBDENNZNQTURQXBDCBHQDBUKBFENNUQUKBTKBNUBDVPHQDUVPEUBNZBDXLPHQVPGUKEUUKLTRDBTQDULPJQHUKBTQFMTCZFQNQDXETLPBHHBFULWBXKBPBWBDKBDBEFKBGLPUQUKBXKLUBTQFMGDEXBDEPGFKQTBUXQNQPJTQFMTQDUXQTKQDUTQFMTUKBDBXETERDQCECLNLUZQHEPZQPBTQFMCBLPJCNEFMQDXKLUBUKBDBTVNUTHDQOUKBCNEFMTQFMGDEXBDXBDBUKBTEOBUKBTQFMTTBBOBGUQKEWBHQDJQUUBPUKBFQNQDUKEUBDXLPKEGGBUBDOLPBGRDBWLQVTNZBDXLPENTQUDLBGTQDULPJUKBTQFMTLPUQUXQGDEXBDTCETBGVRQPUKBLDNBPJUKXLUKQVUDBJEDGUQFQNQDXKBPKBFKQTBCNEFMQDXKLUBTQFMTHDQOUKBTBNQPJEPGTKQDUGDEXBDTUKBTQFMTKEGENTQHQDJQUUBPXKBUKBDUKBZXBDBNQPJQDTKQDUEHUBDUKBTBHDVLUNBTTEUUBORUTUQTQNWBKLTRDQCNBOUKDQVJKBYRBDLOBPUTBDXLPGBFLGBGUQTEWBKLOTBNHUKBHETKLQPBOCEDDETTOBPUEPGKBDBRNEFBGKLTTQFMFQNNBFULQPXLUKETBUQHOBGLVONBPJUKCDQXPTQFMTKQXBWBDKBFQPULPVBGUQRQPGBDUKBOZTUBDLBTQHUKBTQFMTUKDQVJKQVUKLTFKLNGKQQGEHUBDOEPZZBEDTQHGEZGDBEOLPJECQVUUKBOZTUBDZTQFMTBDXLPTFKDQGLPJBDRDQRQTBGKLTUKBQDZQHSVEPUVOTQFMTEPGCBFQOBHEOQVTEPGUKEULTUKBCBJLPPLPJQHUKBTUQDZQHUKBSVEPUVOTQFMT\n",
      "\n",
      "------------ Iterarion 0\n",
      "Score: -7649.277383281896\n",
      "Key: ['Z', 'E', 'B', 'R', 'A', 'C', 'D', 'F', 'J', 'G', 'H', 'I', 'K', 'L', 'M', 'N', 'O', 'P', 'Q', 'S', 'T', 'U', 'V', 'W', 'X', 'Y']\n",
      "Potential plain text:\n",
      "ITWASADARKANDSTORMYNIGHTERWINHUDDLEDUNDERHISCOVERSASHEHADDONENUMEROUSTIMESTHATSUMMERASTHEWINDANDRAINLASHEDATTHEWINDOWHEFEAREDHAVINGTORETREATTOTHESTORMCELLARONCEAGAINTHERESIDENTSOFERWINSAPARTMENTBUILDINGSOUGHTSHELTERWHENEVERTHEREWERETHREATSOFTORNADOESINTHEAREAWHILEITWASSAFEDOWNTHEREERWINFEAREDTHERIDICULEHEWOULDFACEONCEAGAINFROMTHEOTHERSCHOOLBOYSINTHERUSHTOTHECELLARERWINSEEMEDTOALWAYSENDUPWITHARANDOMPAIROFSOCKSANDTHEOTHERBOYSTEASEDHIMABOUTITMERCILESSLYNOTTHATERWINHADNTTRIEDHARDTOSOLVETHISPROBLEMHEHADAVERYSIMPLECOLLECTIONOFSOCKSBLACKORWHITEFOREITHERSCHOOLORPLAYSHORTORLONGFOREITHERTROUSERSORLEDERHOSENAFTERTHEFIRSTFEWTEASINGEPISODESFROMTHEOTHERBOYSERWINHADSORTEDHISSOCKSINTOTWOSEPARATEDRAWERSHEPLACEDALLTHEBLACKSOCKSINONEDRAWERANDALLTHEWHITESOCKSINANOTHERDRAWERERWINFIGUREDHECOULDDETERMINEANINDIVIDUALSOCKSLENGTHINTHEDARKOFNIGHTSIMPLYBYFEELINGITBUTHEHADTOHAVETHEMPRESORTEDINTOWHITEANDBLACKBECAUSETHEAPARTMENTGENERALLYLOSTPOWERBEFORETHECALLTOTHESHELTERUNFORTUNATELYERWINFOUNDTHATTHISPRESORTINGOFTHESOCKSBYCOLORWASINEFFECTIVEWHENEVERHEREACHEDINTOTHEWHITESOCKDRAWERANDCHOSETWOLONGSOCKSORTWOSHORTSOCKSTHEREWASAPROBABILITYOFANYONESOCKBEINGBLACKORWHITETHERESULTSFROMTHEBLACKSOCKDRAWERWERETHESAMETHESOCKSSEEMEDTOHAVEFORGOTTENTHECOLORTHATERWINHADDETERMINEDPREVIOUSLYERWINALSOTRIEDSORTINGTHESOCKSINTOTWODRAWERSBASEDUPONTHEIRLENGTHWITHOUTREGARDTOCOLORWHENHECHOSEBLACKORWHITESOCKSFROMTHESELONGANDSHORTDRAWERSTHESOCKSHADALSOFORGOTTENWHETHERTHEYWERELONGORSHORTAFTERTHESEFRUITLESSATTEMPTSTOSOLVEHISPROBLEMTHROUGHEXPERIMENTSERWINDECIDEDTOSAVEHIMSELFTHEFASHIONEMBARRASSMENTANDHEREPLACEDHISSOCKCOLLECTIONWITHASETOFMEDIUMLENGTHBROWNSOCKSHOWEVERHECONTINUEDTOPONDERTHEMYSTERIESOFTHESOCKSTHROUGHOUTHISCHILDHOODAFTERMANYYEARSOFDAYDREAMINGABOUTTHEMYSTERYSOCKSERWINSCHRODINGERPROPOSEDHISTHEORYOFQUANTUMSOCKSANDBECOMEFAMOUSANDTHATISTHEBEGINNINGOFTHESTORYOFTHEQUANTUMSOCKS\n",
      "------------\n",
      "\n"
     ]
    }
   ],
   "source": [
    " Break_55Polybius(Incrypt_Polybius55(text, plainAlphabet=KeyWordAlphabet('zebra', 0)))"
   ]
  },
  {
   "cell_type": "code",
   "execution_count": 38,
   "id": "6e982015",
   "metadata": {},
   "outputs": [],
   "source": [
    "def Break_66Polybius(cipherText,quadgramsFreq=quadgramFrequencies_English(), plainAlphabet=englishAlphabet):\n",
    "    '''\n",
    "    **Break a 6x6 Polybius Square Cipher **\n",
    "        \n",
    "    Please remove all non-text characters before using \n",
    "    '''\n",
    "    # Use the standard 6x6 Polybius key to get the message from double\n",
    "    # letters to single  letters \n",
    "    cipherText = Decrypt_Polybius66(cipherText,plainAlphabet=plainAlphabet)\n",
    "\n",
    "    # Break the substituion as a random sub cipher \n",
    "    Break_randomSubstitution(cipherText, quadgramsFreq=quadgramsFreq, plainAlphabet=plainAlphabet)\n",
    "    "
   ]
  },
  {
   "cell_type": "code",
   "execution_count": 39,
   "id": "e1482e6e",
   "metadata": {},
   "outputs": [
    {
     "name": "stdout",
     "output_type": "stream",
     "text": [
      "\n",
      "------------ Iterarion 0\n",
      "Score: -7649.277383281896\n",
      "Key: ['Z', 'E', 'B', 'R', 'A', 'C', 'D', 'F', 'G', 'H', 'I', 'J', 'K', 'L', 'M', 'N', 'O', 'P', 'Q', 'S', 'T', 'U', 'V', 'W', 'X', 'Y']\n",
      "Potential plain text:\n",
      "ITWASADARKANDSTORMYNIGHTERWINHUDDLEDUNDERHISCOVERSASHEHADDONENUMEROUSTIMESTHATSUMMERASTHEWINDANDRAINLASHEDATTHEWINDOWHEFEAREDHAVINGTORETREATTOTHESTORMCELLARONCEAGAINTHERESIDENTSOFERWINSAPARTMENTBUILDINGSOUGHTSHELTERWHENEVERTHEREWERETHREATSOFTORNADOESINTHEAREAWHILEITWASSAFEDOWNTHEREERWINFEAREDTHERIDICULEHEWOULDFACEONCEAGAINFROMTHEOTHERSCHOOLBOYSINTHERUSHTOTHECELLARERWINSEEMEDTOALWAYSENDUPWITHARANDOMPAIROFSOCKSANDTHEOTHERBOYSTEASEDHIMABOUTITMERCILESSLYNOTTHATERWINHADNTTRIEDHARDTOSOLVETHISPROBLEMHEHADAVERYSIMPLECOLLECTIONOFSOCKSBLACKORWHITEFOREITHERSCHOOLORPLAYSHORTORLONGFOREITHERTROUSERSORLEDERHOSENAFTERTHEFIRSTFEWTEASINGEPISODESFROMTHEOTHERBOYSERWINHADSORTEDHISSOCKSINTOTWOSEPARATEDRAWERSHEPLACEDALLTHEBLACKSOCKSINONEDRAWERANDALLTHEWHITESOCKSINANOTHERDRAWERERWINFIGUREDHECOULDDETERMINEANINDIVIDUALSOCKSLENGTHINTHEDARKOFNIGHTSIMPLYBYFEELINGITBUTHEHADTOHAVETHEMPRESORTEDINTOWHITEANDBLACKBECAUSETHEAPARTMENTGENERALLYLOSTPOWERBEFORETHECALLTOTHESHELTERUNFORTUNATELYERWINFOUNDTHATTHISPRESORTINGOFTHESOCKSBYCOLORWASINEFFECTIVEWHENEVERHEREACHEDINTOTHEWHITESOCKDRAWERANDCHOSETWOLONGSOCKSORTWOSHORTSOCKSTHEREWASAPROBABILITYOFANYONESOCKBEINGBLACKORWHITETHERESULTSFROMTHEBLACKSOCKDRAWERWERETHESAMETHESOCKSSEEMEDTOHAVEFORGOTTENTHECOLORTHATERWINHADDETERMINEDPREVIOUSLYERWINALSOTRIEDSORTINGTHESOCKSINTOTWODRAWERSBASEDUPONTHEIRLENGTHWITHOUTREGARDTOCOLORWHENHECHOSEBLACKORWHITESOCKSFROMTHESELONGANDSHORTDRAWERSTHESOCKSHADALSOFORGOTTENWHETHERTHEYWERELONGORSHORTAFTERTHESEFRUITLESSATTEMPTSTOSOLVEHISPROBLEMTHROUGHEXPERIMENTSERWINDECIDEDTOSAVEHIMSELFTHEFASHIONEMBARRASSMENTANDHEREPLACEDHISSOCKCOLLECTIONWITHASETOFMEDIUMLENGTHBROWNSOCKSHOWEVERHECONTINUEDTOPONDERTHEMYSTERIESOFTHESOCKSTHROUGHOUTHISCHILDHOODAFTERMANYYEARSOFDAYDREAMINGABOUTTHEMYSTERYSOCKSERWINSCHRODINGERPROPOSEDHISTHEORYOFQUANTUMSOCKSANDBECOMEFAMOUSANDTHATISTHEBEGINNINGOFTHESTORYOFTHEQUANTUMSOCKS\n",
      "------------\n",
      "\n"
     ]
    }
   ],
   "source": [
    " Break_66Polybius(Incrypt_Polybius66(text, plainAlphabet=KeyWordAlphabet('zebra', 0)))"
   ]
  },
  {
   "cell_type": "code",
   "execution_count": null,
   "id": "4ad87690",
   "metadata": {},
   "outputs": [],
   "source": []
  }
 ],
 "metadata": {
  "kernelspec": {
   "display_name": "Python 3 (ipykernel)",
   "language": "python",
   "name": "python3"
  },
  "language_info": {
   "codemirror_mode": {
    "name": "ipython",
    "version": 3
   },
   "file_extension": ".py",
   "mimetype": "text/x-python",
   "name": "python",
   "nbconvert_exporter": "python",
   "pygments_lexer": "ipython3",
   "version": "3.8.11"
  }
 },
 "nbformat": 4,
 "nbformat_minor": 5
}
